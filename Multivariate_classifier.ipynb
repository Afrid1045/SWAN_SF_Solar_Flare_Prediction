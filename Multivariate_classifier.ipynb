{
 "cells": [
  {
   "cell_type": "code",
   "execution_count": 70,
   "metadata": {},
   "outputs": [],
   "source": [
    "import os\n",
    "import numpy as np\n",
    "import pandas as pd\n",
    "import seaborn as sns\n",
    "import matplotlib.pyplot as plt\n",
    "from sklearn.metrics import accuracy_score, precision_score, recall_score, f1_score\n",
    "from sklearn.metrics import classification_report\n",
    "from sklearn.metrics import confusion_matrix\n",
    "from pyts.multivariate.classification import MultivariateClassifier\n",
    "from pyts.classification import TimeSeriesForest\n",
    "from sklearn.model_selection import GridSearchCV\n",
    "from joblib import Parallel, delayed\n",
    "from sklearn.preprocessing import RobustScaler\n",
    "from mpl_toolkits.mplot3d import Axes3D\n",
    "import itertools\n",
    "from sklearn.metrics import make_scorer\n",
    "from sklearn.model_selection import TimeSeriesSplit\n",
    "import plotly.graph_objects as go\n",
    "from sklearn.model_selection import KFold\n",
    "from sklearn.model_selection import StratifiedKFold"
   ]
  },
  {
   "cell_type": "markdown",
   "metadata": {},
   "source": [
    "**Loading Partition 1.**"
   ]
  },
  {
   "cell_type": "code",
   "execution_count": 2,
   "metadata": {},
   "outputs": [],
   "source": [
    "main_folder_path = \"/home/afrid/Documents/NASA/dataverse_files/partition1\"\n",
    "folder_name_1 = 'FL'\n",
    "folder_name_2 = 'NF'\n",
    "folder_path_1 = os.path.join(main_folder_path, folder_name_1)\n",
    "folder_path_2 = os.path.join(main_folder_path, folder_name_2)\n",
    "files_folder_1 = os.listdir(folder_path_1)\n",
    "files_folder_2 = os.listdir(folder_path_2)\n"
   ]
  },
  {
   "cell_type": "code",
   "execution_count": 3,
   "metadata": {},
   "outputs": [],
   "source": [
    "dfs_folder_1 = [pd.read_csv(os.path.join(folder_path_1, file), sep='\\t', usecols=[1, 2, 3]).assign(Class=1) for file in files_folder_1]\n",
    "dfs_folder_2 = [pd.read_csv(os.path.join(folder_path_2, file), sep='\\t', usecols=[1, 2, 3]).assign(Class=0) for file in files_folder_2]\n",
    "\n",
    "# Ensure the 'Class' column is of integer type\n",
    "#for df in dfs_folder_1 + dfs_folder_2:\n",
    "#    df['Class'] = df['Class'].astype(int)"
   ]
  },
  {
   "cell_type": "code",
   "execution_count": 4,
   "metadata": {},
   "outputs": [
    {
     "name": "stdout",
     "output_type": "stream",
     "text": [
      "Data types after loading CSV files:\n",
      "TOTUSJH    float64\n",
      "TOTBSQ     float64\n",
      "TOTPOT     float64\n",
      "Class        int64\n",
      "dtype: object\n",
      "TOTUSJH    float64\n",
      "TOTBSQ     float64\n",
      "TOTPOT     float64\n",
      "Class        int64\n",
      "dtype: object\n"
     ]
    }
   ],
   "source": [
    "data_folder_1 = np.stack([df.values for df in dfs_folder_1], axis=0)\n",
    "data_folder_2 = np.stack([df.values for df in dfs_folder_2], axis=0)\n",
    "\n",
    "print(\"Data types after loading CSV files:\")\n",
    "print(dfs_folder_1[0].dtypes)\n",
    "print(dfs_folder_2[0].dtypes)"
   ]
  },
  {
   "cell_type": "code",
   "execution_count": 5,
   "metadata": {},
   "outputs": [
    {
     "name": "stdout",
     "output_type": "stream",
     "text": [
      "Data types after conversion:\n",
      "float64\n",
      "float64\n"
     ]
    }
   ],
   "source": [
    "data_folder_1[:, :, -1] = data_folder_1[:, :, -1].astype(int)\n",
    "data_folder_2[:, :, -1] = data_folder_2[:, :, -1].astype(int)\n",
    "\n",
    "\n",
    "print(\"Data types after conversion:\")\n",
    "print(data_folder_1[:, :, -1].dtype)\n",
    "print(data_folder_2[:, :, -1].dtype)"
   ]
  },
  {
   "cell_type": "code",
   "execution_count": 6,
   "metadata": {},
   "outputs": [],
   "source": [
    "final_data = np.concatenate([data_folder_1, data_folder_2], axis=0)"
   ]
  },
  {
   "cell_type": "code",
   "execution_count": 7,
   "metadata": {},
   "outputs": [
    {
     "name": "stdout",
     "output_type": "stream",
     "text": [
      "Missing values present in the 5th subarray of data_folder_1.\n"
     ]
    }
   ],
   "source": [
    "fifth_subarray = data_folder_1[4]\n",
    "\n",
    "missing_values_present = np.isnan(fifth_subarray).any()\n",
    "\n",
    "if missing_values_present:\n",
    "    print(\"Missing values present in the 5th subarray of data_folder_1.\")\n",
    "else:\n",
    "    print(\"No missing values in the 5th subarray of data_folder_1.\")\n"
   ]
  },
  {
   "cell_type": "code",
   "execution_count": 8,
   "metadata": {},
   "outputs": [],
   "source": [
    "subarrays_with_missing_values = []\n",
    "for i, subarray in enumerate(final_data):\n",
    "    missing_values_present = np.isnan(subarray).any()\n",
    "    if missing_values_present:\n",
    "        subarrays_with_missing_values.append(i)"
   ]
  },
  {
   "cell_type": "code",
   "execution_count": 9,
   "metadata": {},
   "outputs": [],
   "source": [
    "subarrays_with_missing_values = []\n",
    "for i, subarray in enumerate(final_data):\n",
    "    subarray = np.array(subarray)\n",
    "    missing_values_present = np.isnan(subarray)\n",
    "    if np.any(missing_values_present):\n",
    "        subarrays_with_missing_values.append(i)\n",
    "        column_means = np.nanmean(subarray, axis=0)\n",
    "        for j in range(subarray.shape[1]):\n",
    "            subarray[:, j][missing_values_present[:, j]] = column_means[j]\n",
    "        final_data[i] = subarray.tolist()"
   ]
  },
  {
   "cell_type": "code",
   "execution_count": 10,
   "metadata": {},
   "outputs": [],
   "source": [
    "missing_values_per_array = [\n",
    "    np.any(np.isnan(array)) for array in final_data\n",
    "]"
   ]
  },
  {
   "cell_type": "code",
   "execution_count": 11,
   "metadata": {},
   "outputs": [
    {
     "data": {
      "text/plain": [
       "(1254, 60, 4)"
      ]
     },
     "execution_count": 11,
     "metadata": {},
     "output_type": "execute_result"
    }
   ],
   "source": [
    "data_folder_1.shape"
   ]
  },
  {
   "cell_type": "code",
   "execution_count": 12,
   "metadata": {},
   "outputs": [
    {
     "data": {
      "text/plain": [
       "(72238, 60, 4)"
      ]
     },
     "execution_count": 12,
     "metadata": {},
     "output_type": "execute_result"
    }
   ],
   "source": [
    "data_folder_2.shape"
   ]
  },
  {
   "cell_type": "code",
   "execution_count": 13,
   "metadata": {},
   "outputs": [
    {
     "data": {
      "text/plain": [
       "(73492, 60, 4)"
      ]
     },
     "execution_count": 13,
     "metadata": {},
     "output_type": "execute_result"
    }
   ],
   "source": [
    "final_data.shape"
   ]
  },
  {
   "cell_type": "markdown",
   "metadata": {},
   "source": [
    "**Loading Partition 2.**"
   ]
  },
  {
   "cell_type": "code",
   "execution_count": 14,
   "metadata": {},
   "outputs": [],
   "source": [
    "\n",
    "main_folder_path_p2 = \"/home/afrid/Documents/NASA/dataverse_files/partition2\"\n",
    "folder_name_FL_p2 = 'FL'\n",
    "folder_name_NF_p2 = 'NF'\n",
    "\n",
    "folder_path_FL_p2 = os.path.join(main_folder_path_p2, folder_name_FL_p2)\n",
    "folder_path_NF_p2 = os.path.join(main_folder_path_p2, folder_name_NF_p2)\n",
    "files_FL_p2 = os.listdir(folder_path_FL_p2)\n",
    "files_NF_p2 = os.listdir(folder_path_NF_p2)\n"
   ]
  },
  {
   "cell_type": "code",
   "execution_count": 15,
   "metadata": {},
   "outputs": [],
   "source": [
    "dfs_FL_p2 = [pd.read_csv(os.path.join(folder_path_FL_p2, file), sep='\\t', usecols=[1, 2, 3]).assign(Class=1) for file in files_FL_p2]\n",
    "dfs_NF_p2 = [pd.read_csv(os.path.join(folder_path_NF_p2, file), sep='\\t', usecols=[1, 2, 3]).assign(Class=0) for file in files_NF_p2]\n",
    "data_FL_p2 = np.stack([df.values for df in dfs_FL_p2], axis=0)\n",
    "data_NF_p2 = np.stack([df.values for df in dfs_NF_p2], axis=0)\n",
    "data_FL_p2[:, :, -1] = data_FL_p2[:, :, -1].astype(int)\n",
    "data_NF_p2[:, :, -1] = data_NF_p2[:, :, -1].astype(int)"
   ]
  },
  {
   "cell_type": "code",
   "execution_count": 16,
   "metadata": {},
   "outputs": [],
   "source": [
    "final_data_p2 = np.concatenate([data_FL_p2, data_NF_p2], axis=0)"
   ]
  },
  {
   "cell_type": "code",
   "execution_count": 17,
   "metadata": {},
   "outputs": [],
   "source": [
    "subarrays_with_missing_values_NF_p2 = []\n",
    "\n",
    "for i, subarray in enumerate(final_data_p2):\n",
    "    subarray_NF_p2 = np.array(subarray)\n",
    "    missing_values_present_NF_p2 = np.isnan(subarray_NF_p2)\n",
    "\n",
    "    if np.any(missing_values_present_NF_p2):\n",
    "        subarrays_with_missing_values_NF_p2.append(i)\n",
    "        column_means_NF_p2 = np.nanmean(subarray_NF_p2, axis=0)\n",
    "        for j_NF_p2 in range(subarray_NF_p2.shape[1]):\n",
    "            subarray_NF_p2[:, j_NF_p2][missing_values_present_NF_p2[:, j_NF_p2]] = column_means_NF_p2[j_NF_p2]\n",
    "        final_data_p2[i] = subarray_NF_p2.tolist()"
   ]
  },
  {
   "cell_type": "markdown",
   "metadata": {},
   "source": [
    "**Sampling.**\n"
   ]
  },
  {
   "cell_type": "markdown",
   "metadata": {},
   "source": [
    "partition 1"
   ]
  },
  {
   "cell_type": "code",
   "execution_count": 18,
   "metadata": {},
   "outputs": [
    {
     "name": "stdout",
     "output_type": "stream",
     "text": [
      "(2508, 60, 4)\n"
     ]
    }
   ],
   "source": [
    "\n",
    "class_labels = final_data[:, 0, -1]\n",
    "class_0_indices = np.where(class_labels == 0)[0]\n",
    "class_1_indices = np.where(class_labels == 1)[0]\n",
    "selected_class_0_indices = class_0_indices[:len(class_1_indices)]\n",
    "selected_indices = np.concatenate([class_1_indices, selected_class_0_indices])\n",
    "final_train_data = final_data[selected_indices]\n",
    "final_train_data[:, 0, -1] = final_train_data[:, 0, -1].astype(int)\n",
    "\n",
    "print(final_train_data.shape)"
   ]
  },
  {
   "cell_type": "markdown",
   "metadata": {},
   "source": [
    "Model Example."
   ]
  },
  {
   "cell_type": "code",
   "execution_count": 19,
   "metadata": {},
   "outputs": [],
   "source": [
    "X_train = final_train_data[:, :, :-1]\n",
    "y_train = final_train_data[:, 0, -1]\n",
    "\n",
    "X_test = final_data_p2[:, :, :-1]\n",
    "y_test = final_data_p2[:, 0, -1]"
   ]
  },
  {
   "cell_type": "code",
   "execution_count": 20,
   "metadata": {},
   "outputs": [],
   "source": [
    "y_train = y_train.astype(int)\n",
    "y_test = y_test.astype(int)"
   ]
  },
  {
   "cell_type": "code",
   "execution_count": 21,
   "metadata": {},
   "outputs": [
    {
     "data": {
      "text/plain": [
       "(88558,)"
      ]
     },
     "execution_count": 21,
     "metadata": {},
     "output_type": "execute_result"
    }
   ],
   "source": [
    "y_test.shape"
   ]
  },
  {
   "cell_type": "code",
   "execution_count": 22,
   "metadata": {},
   "outputs": [
    {
     "name": "stdout",
     "output_type": "stream",
     "text": [
      "(2508, 60, 3)\n",
      "(88558, 60, 3)\n",
      "(2508,)\n",
      "(88558,)\n"
     ]
    }
   ],
   "source": [
    "X_train.shape\n",
    "X_test.shape\n",
    "y_train.shape\n",
    "y_test.shape\n",
    "\n",
    "print(X_train.shape)\n",
    "print(X_test.shape)\n",
    "print(y_train.shape)\n",
    "print(y_test.shape)"
   ]
  },
  {
   "cell_type": "code",
   "execution_count": 23,
   "metadata": {},
   "outputs": [
    {
     "name": "stdout",
     "output_type": "stream",
     "text": [
      "Any NaN in X_train: False\n",
      "Any NaN in X_test: False\n"
     ]
    }
   ],
   "source": [
    "# Check for NaN values in X_train\n",
    "nan_in_x_train = np.isnan(X_train)\n",
    "any_nan_in_x_train = np.any(nan_in_x_train)\n",
    "\n",
    "# Check for NaN values in X_test\n",
    "nan_in_x_test = np.isnan(X_test)\n",
    "any_nan_in_x_test = np.any(nan_in_x_test)\n",
    "\n",
    "print(f'Any NaN in X_train: {any_nan_in_x_train}')\n",
    "print(f'Any NaN in X_test: {any_nan_in_x_test}')"
   ]
  },
  {
   "cell_type": "code",
   "execution_count": 24,
   "metadata": {},
   "outputs": [
    {
     "data": {
      "text/plain": [
       "array([0, 1])"
      ]
     },
     "execution_count": 24,
     "metadata": {},
     "output_type": "execute_result"
    }
   ],
   "source": [
    "np.unique(y_test)\n"
   ]
  },
  {
   "cell_type": "code",
   "execution_count": 25,
   "metadata": {},
   "outputs": [],
   "source": [
    "#X_train"
   ]
  },
  {
   "cell_type": "code",
   "execution_count": 26,
   "metadata": {},
   "outputs": [],
   "source": [
    "scaler = RobustScaler()\n",
    "\n"
   ]
  },
  {
   "cell_type": "code",
   "execution_count": 27,
   "metadata": {},
   "outputs": [
    {
     "data": {
      "text/plain": [
       "'def tss_score(estimator, X, y):\\n    y_pred = estimator.predict(X)\\n    cm = confusion_matrix(y, y_pred)\\n    TN, FP, FN, TP = cm.ravel()\\n    P = TP + FN\\n    N = FP + TN\\n    return (TP / P) - (FP / N) if (P > 0 and N > 0) else 0'"
      ]
     },
     "execution_count": 27,
     "metadata": {},
     "output_type": "execute_result"
    }
   ],
   "source": [
    "'''def tss_score(estimator, X, y):\n",
    "    y_pred = estimator.predict(X)\n",
    "    cm = confusion_matrix(y, y_pred)\n",
    "    TN, FP, FN, TP = cm.ravel()\n",
    "    P = TP + FN\n",
    "    N = FP + TN\n",
    "    return (TP / P) - (FP / N) if (P > 0 and N > 0) else 0'''"
   ]
  },
  {
   "cell_type": "code",
   "execution_count": 33,
   "metadata": {},
   "outputs": [
    {
     "data": {
      "text/plain": [
       "'def custom_scorer(y_true, y_pred):\\n    cm = confusion_matrix(y_true, y_pred)\\n\\n    if cm.shape == (2, 2):\\n        tp = cm[1, 1]\\n        fn = cm[1, 0]\\n        fp = cm[0, 1]\\n        tn = cm[0, 0]\\n\\n        sensitivity = tp / (tp + fn) if (tp + fn) != 0 else 0\\n        fpr = fp / (fp + tn) if (fp + tn) != 0 else 0\\n        tss = sensitivity - fpr\\n\\n        return tss\\n    elif cm.shape == (1, 1):\\n        return 1 if y_true[0] == y_pred[0] else 0\\n    else:\\n        print(f\"Error: Confusion matrix shape {cm.shape} is not handled.\")\\n        return 0\\n\\n\\ncustom_scorer = make_scorer(tss_score, greater_is_better=True)'"
      ]
     },
     "execution_count": 33,
     "metadata": {},
     "output_type": "execute_result"
    }
   ],
   "source": [
    "'''# Modify the tss_score function to take y_true and y_pred only\n",
    "def tss_score(y_true, y_pred):\n",
    "    cm = confusion_matrix(y_true, y_pred)\n",
    "\n",
    "    if cm.shape[0] == cm.shape[1]:\n",
    "        n_classes = cm.shape[0]\n",
    "        tss_total = 0\n",
    "        for i in range(n_classes):\n",
    "            tp = cm[i, i]\n",
    "            fn = cm[i, :].sum() - tp\n",
    "            fp = cm[:, i].sum() - tp\n",
    "            tn = cm.sum() - tp - fn - fp\n",
    "\n",
    "            sensitivity = tp / (tp + fn)\n",
    "            specificity = tn / (tn + fp)\n",
    "            tss = sensitivity - (1 - specificity)\n",
    "\n",
    "            tss_total += tss\n",
    "\n",
    "        return tss_total / n_classes\n",
    "    else:\n",
    "        print(\"Error: Confusion matrix is not square.\")\n",
    "        return 0'''\n",
    "\n",
    "\n",
    "'''def tss_score(y_true, y_pred):\n",
    "    cm = confusion_matrix(y_true, y_pred)\n",
    "\n",
    "    if cm.shape[0] == cm.shape[1]:\n",
    "        n_classes = cm.shape[0]\n",
    "        tss_total = 0\n",
    "        for i in range(n_classes):\n",
    "            tp = cm[i, i]\n",
    "            fn = cm[i, :].sum() - tp\n",
    "            fp = cm[:, i].sum() - tp\n",
    "            tn = cm.sum() - tp - fn - fp\n",
    "\n",
    "            sensitivity = tp / (tp + fn) if (tp + fn) != 0 else 0\n",
    "            #specificity = tn / (tn + fp) if (tn + fp) != 0 else 0\n",
    "            #tss = sensitivity - (1 - specificity)\n",
    "            fpr = fp / (fp + tn) if (fp + tn) != 0 else 0\n",
    "            tss = sensitivity - fpr\n",
    "\n",
    "            tss_total += tss\n",
    "\n",
    "        return tss_total #/ n_classes\n",
    "    else:\n",
    "        print(\"Error: Confusion matrix is not square.\")\n",
    "        return 0'''\n",
    "\n",
    "'''def custom_scorer(y_true, y_pred):\n",
    "    cm = confusion_matrix(y_true, y_pred)\n",
    "\n",
    "    if cm.shape == (2, 2):\n",
    "        tp = cm[1, 1]\n",
    "        fn = cm[1, 0]\n",
    "        fp = cm[0, 1]\n",
    "        tn = cm[0, 0]\n",
    "\n",
    "        sensitivity = tp / (tp + fn) if (tp + fn) != 0 else 0\n",
    "        fpr = fp / (fp + tn) if (fp + tn) != 0 else 0\n",
    "        tss = sensitivity - fpr\n",
    "\n",
    "        return tss\n",
    "    elif cm.shape == (1, 1):\n",
    "        return 1 if y_true[0] == y_pred[0] else 0\n",
    "    else:\n",
    "        print(f\"Error: Confusion matrix shape {cm.shape} is not handled.\")\n",
    "        return 0\n",
    "\n",
    "\n",
    "custom_scorer = make_scorer(tss_score, greater_is_better=True)'''"
   ]
  },
  {
   "cell_type": "code",
   "execution_count": 34,
   "metadata": {},
   "outputs": [],
   "source": [
    "def custom_scorer(y_true, y_pred):\n",
    "    cm = confusion_matrix(y_true, y_pred)\n",
    "    \n",
    "    if cm.shape == (2, 2):\n",
    "        tp = cm[1, 1]\n",
    "        fn = cm[1, 0]\n",
    "        fp = cm[0, 1]\n",
    "        tn = cm[0, 0]\n",
    "\n",
    "        sensitivity = tp / (tp + fn) if (tp + fn) != 0 else 0\n",
    "        fpr = fp / (fp + tn) if (fp + tn) != 0 else 0\n",
    "        tss = sensitivity - fpr\n",
    "\n",
    "        p = tp + fn\n",
    "        n = fp + tn\n",
    "        hss = (2 * ((tp * tn) - (fn * fp))) / ((p * (fn + tn)) + (n * (tp + fp)))\n",
    "\n",
    "        return tss, hss\n",
    "    elif cm.shape == (1, 1):\n",
    "        return 1 if y_true[0] == y_pred[0] else 0, 0\n",
    "    else:\n",
    "        print(f\"Error: Confusion matrix shape {cm.shape} is not handled.\")\n",
    "        return 0, 0\n",
    "\n",
    "\n",
    "tss_scorer = make_scorer(lambda y_true, y_pred: custom_scorer(y_true, y_pred)[0], greater_is_better=True)\n",
    "hss_scorer = make_scorer(lambda y_true, y_pred: custom_scorer(y_true, y_pred)[1], greater_is_better=True)\n"
   ]
  },
  {
   "cell_type": "code",
   "execution_count": 40,
   "metadata": {},
   "outputs": [],
   "source": [
    "param_grid = {\n",
    "    'estimator__n_estimators': [50, 100],\n",
    "    'estimator__n_windows': [5, 10],#, 15],\n",
    "    'estimator__min_window_size': [1],# 2],\n",
    "    'estimator__criterion': ['entropy'],#, 'gini'],\n",
    "    'estimator__max_depth': [5, 10]#, 20],\n",
    "}"
   ]
  },
  {
   "cell_type": "code",
   "execution_count": 41,
   "metadata": {},
   "outputs": [
    {
     "data": {
      "text/plain": [
       "'# Assuming X_train and X_test are 3D arrays with shape (n_samples, n_timestamps, n_features)\\nX_train_2d = X_train.reshape(X_train.shape[0], -1)\\nX_test_2d = X_test.reshape(X_test.shape[0], -1)\\n\\n# Now apply RobustScaler\\nX_train_scaled_2d = scaler.fit_transform(X_train_2d)\\nX_test_scaled_2d = scaler.transform(X_test_2d)\\n\\n# Reshape back to 3D\\nX_train_scaled = X_train_scaled_2d.reshape(X_train.shape)\\nX_test_scaled = X_test_scaled_2d.reshape(X_test.shape)'"
      ]
     },
     "execution_count": 41,
     "metadata": {},
     "output_type": "execute_result"
    }
   ],
   "source": [
    "'''# Assuming X_train and X_test are 3D arrays with shape (n_samples, n_timestamps, n_features)\n",
    "X_train_2d = X_train.reshape(X_train.shape[0], -1)\n",
    "X_test_2d = X_test.reshape(X_test.shape[0], -1)\n",
    "\n",
    "# Now apply RobustScaler\n",
    "X_train_scaled_2d = scaler.fit_transform(X_train_2d)\n",
    "X_test_scaled_2d = scaler.transform(X_test_2d)\n",
    "\n",
    "# Reshape back to 3D\n",
    "X_train_scaled = X_train_scaled_2d.reshape(X_train.shape)\n",
    "X_test_scaled = X_test_scaled_2d.reshape(X_test.shape)'''\n"
   ]
  },
  {
   "cell_type": "code",
   "execution_count": null,
   "metadata": {},
   "outputs": [],
   "source": []
  },
  {
   "cell_type": "markdown",
   "metadata": {},
   "source": [
    "**k-fold.**"
   ]
  },
  {
   "cell_type": "code",
   "execution_count": 42,
   "metadata": {},
   "outputs": [],
   "source": [
    "clf = MultivariateClassifier(estimator=TimeSeriesForest(random_state=53))\n",
    "\n",
    "n_folds = 5\n",
    "#tscv = TimeSeriesSplit(n_splits=n_splits)\n",
    "\n",
    "kf = KFold(n_splits=n_folds, shuffle=True, random_state=53)\n",
    "\n",
    "grid_search = GridSearchCV(\n",
    "    estimator=clf,\n",
    "    param_grid=param_grid,\n",
    "    scoring={'tss': tss_scorer, 'hss': hss_scorer}, \n",
    "    refit='tss',\n",
    "    cv=kf,  \n",
    "    n_jobs=-1,  \n",
    ")"
   ]
  },
  {
   "cell_type": "code",
   "execution_count": 43,
   "metadata": {},
   "outputs": [
    {
     "data": {
      "text/html": [
       "<style>#sk-container-id-1 {color: black;}#sk-container-id-1 pre{padding: 0;}#sk-container-id-1 div.sk-toggleable {background-color: white;}#sk-container-id-1 label.sk-toggleable__label {cursor: pointer;display: block;width: 100%;margin-bottom: 0;padding: 0.3em;box-sizing: border-box;text-align: center;}#sk-container-id-1 label.sk-toggleable__label-arrow:before {content: \"▸\";float: left;margin-right: 0.25em;color: #696969;}#sk-container-id-1 label.sk-toggleable__label-arrow:hover:before {color: black;}#sk-container-id-1 div.sk-estimator:hover label.sk-toggleable__label-arrow:before {color: black;}#sk-container-id-1 div.sk-toggleable__content {max-height: 0;max-width: 0;overflow: hidden;text-align: left;background-color: #f0f8ff;}#sk-container-id-1 div.sk-toggleable__content pre {margin: 0.2em;color: black;border-radius: 0.25em;background-color: #f0f8ff;}#sk-container-id-1 input.sk-toggleable__control:checked~div.sk-toggleable__content {max-height: 200px;max-width: 100%;overflow: auto;}#sk-container-id-1 input.sk-toggleable__control:checked~label.sk-toggleable__label-arrow:before {content: \"▾\";}#sk-container-id-1 div.sk-estimator input.sk-toggleable__control:checked~label.sk-toggleable__label {background-color: #d4ebff;}#sk-container-id-1 div.sk-label input.sk-toggleable__control:checked~label.sk-toggleable__label {background-color: #d4ebff;}#sk-container-id-1 input.sk-hidden--visually {border: 0;clip: rect(1px 1px 1px 1px);clip: rect(1px, 1px, 1px, 1px);height: 1px;margin: -1px;overflow: hidden;padding: 0;position: absolute;width: 1px;}#sk-container-id-1 div.sk-estimator {font-family: monospace;background-color: #f0f8ff;border: 1px dotted black;border-radius: 0.25em;box-sizing: border-box;margin-bottom: 0.5em;}#sk-container-id-1 div.sk-estimator:hover {background-color: #d4ebff;}#sk-container-id-1 div.sk-parallel-item::after {content: \"\";width: 100%;border-bottom: 1px solid gray;flex-grow: 1;}#sk-container-id-1 div.sk-label:hover label.sk-toggleable__label {background-color: #d4ebff;}#sk-container-id-1 div.sk-serial::before {content: \"\";position: absolute;border-left: 1px solid gray;box-sizing: border-box;top: 0;bottom: 0;left: 50%;z-index: 0;}#sk-container-id-1 div.sk-serial {display: flex;flex-direction: column;align-items: center;background-color: white;padding-right: 0.2em;padding-left: 0.2em;position: relative;}#sk-container-id-1 div.sk-item {position: relative;z-index: 1;}#sk-container-id-1 div.sk-parallel {display: flex;align-items: stretch;justify-content: center;background-color: white;position: relative;}#sk-container-id-1 div.sk-item::before, #sk-container-id-1 div.sk-parallel-item::before {content: \"\";position: absolute;border-left: 1px solid gray;box-sizing: border-box;top: 0;bottom: 0;left: 50%;z-index: -1;}#sk-container-id-1 div.sk-parallel-item {display: flex;flex-direction: column;z-index: 1;position: relative;background-color: white;}#sk-container-id-1 div.sk-parallel-item:first-child::after {align-self: flex-end;width: 50%;}#sk-container-id-1 div.sk-parallel-item:last-child::after {align-self: flex-start;width: 50%;}#sk-container-id-1 div.sk-parallel-item:only-child::after {width: 0;}#sk-container-id-1 div.sk-dashed-wrapped {border: 1px dashed gray;margin: 0 0.4em 0.5em 0.4em;box-sizing: border-box;padding-bottom: 0.4em;background-color: white;}#sk-container-id-1 div.sk-label label {font-family: monospace;font-weight: bold;display: inline-block;line-height: 1.2em;}#sk-container-id-1 div.sk-label-container {text-align: center;}#sk-container-id-1 div.sk-container {/* jupyter's `normalize.less` sets `[hidden] { display: none; }` but bootstrap.min.css set `[hidden] { display: none !important; }` so we also need the `!important` here to be able to override the default hidden behavior on the sphinx rendered scikit-learn.org. See: https://github.com/scikit-learn/scikit-learn/issues/21755 */display: inline-block !important;position: relative;}#sk-container-id-1 div.sk-text-repr-fallback {display: none;}</style><div id=\"sk-container-id-1\" class=\"sk-top-container\"><div class=\"sk-text-repr-fallback\"><pre>GridSearchCV(cv=KFold(n_splits=5, random_state=53, shuffle=True),\n",
       "             estimator=MultivariateClassifier(estimator=TimeSeriesForest(random_state=53)),\n",
       "             n_jobs=-1,\n",
       "             param_grid={&#x27;estimator__criterion&#x27;: [&#x27;entropy&#x27;],\n",
       "                         &#x27;estimator__max_depth&#x27;: [5, 10],\n",
       "                         &#x27;estimator__min_window_size&#x27;: [1],\n",
       "                         &#x27;estimator__n_estimators&#x27;: [50, 100],\n",
       "                         &#x27;estimator__n_windows&#x27;: [5, 10]},\n",
       "             refit=&#x27;tss&#x27;,\n",
       "             scoring={&#x27;hss&#x27;: make_scorer(&lt;lambda&gt;),\n",
       "                      &#x27;tss&#x27;: make_scorer(&lt;lambda&gt;)})</pre><b>In a Jupyter environment, please rerun this cell to show the HTML representation or trust the notebook. <br />On GitHub, the HTML representation is unable to render, please try loading this page with nbviewer.org.</b></div><div class=\"sk-container\" hidden><div class=\"sk-item sk-dashed-wrapped\"><div class=\"sk-label-container\"><div class=\"sk-label sk-toggleable\"><input class=\"sk-toggleable__control sk-hidden--visually\" id=\"sk-estimator-id-1\" type=\"checkbox\" ><label for=\"sk-estimator-id-1\" class=\"sk-toggleable__label sk-toggleable__label-arrow\">GridSearchCV</label><div class=\"sk-toggleable__content\"><pre>GridSearchCV(cv=KFold(n_splits=5, random_state=53, shuffle=True),\n",
       "             estimator=MultivariateClassifier(estimator=TimeSeriesForest(random_state=53)),\n",
       "             n_jobs=-1,\n",
       "             param_grid={&#x27;estimator__criterion&#x27;: [&#x27;entropy&#x27;],\n",
       "                         &#x27;estimator__max_depth&#x27;: [5, 10],\n",
       "                         &#x27;estimator__min_window_size&#x27;: [1],\n",
       "                         &#x27;estimator__n_estimators&#x27;: [50, 100],\n",
       "                         &#x27;estimator__n_windows&#x27;: [5, 10]},\n",
       "             refit=&#x27;tss&#x27;,\n",
       "             scoring={&#x27;hss&#x27;: make_scorer(&lt;lambda&gt;),\n",
       "                      &#x27;tss&#x27;: make_scorer(&lt;lambda&gt;)})</pre></div></div></div><div class=\"sk-parallel\"><div class=\"sk-parallel-item\"><div class=\"sk-item\"><div class=\"sk-label-container\"><div class=\"sk-label sk-toggleable\"><input class=\"sk-toggleable__control sk-hidden--visually\" id=\"sk-estimator-id-2\" type=\"checkbox\" ><label for=\"sk-estimator-id-2\" class=\"sk-toggleable__label sk-toggleable__label-arrow\">estimator: MultivariateClassifier</label><div class=\"sk-toggleable__content\"><pre>MultivariateClassifier(estimator=TimeSeriesForest(random_state=53))</pre></div></div></div><div class=\"sk-serial\"><div class=\"sk-item sk-dashed-wrapped\"><div class=\"sk-parallel\"><div class=\"sk-parallel-item\"><div class=\"sk-item\"><div class=\"sk-label-container\"><div class=\"sk-label sk-toggleable\"><input class=\"sk-toggleable__control sk-hidden--visually\" id=\"sk-estimator-id-3\" type=\"checkbox\" ><label for=\"sk-estimator-id-3\" class=\"sk-toggleable__label sk-toggleable__label-arrow\">estimator: TimeSeriesForest</label><div class=\"sk-toggleable__content\"><pre>TimeSeriesForest(random_state=53)</pre></div></div></div><div class=\"sk-serial\"><div class=\"sk-item\"><div class=\"sk-estimator sk-toggleable\"><input class=\"sk-toggleable__control sk-hidden--visually\" id=\"sk-estimator-id-4\" type=\"checkbox\" ><label for=\"sk-estimator-id-4\" class=\"sk-toggleable__label sk-toggleable__label-arrow\">TimeSeriesForest</label><div class=\"sk-toggleable__content\"><pre>TimeSeriesForest(random_state=53)</pre></div></div></div></div></div></div></div></div></div></div></div></div></div></div></div>"
      ],
      "text/plain": [
       "GridSearchCV(cv=KFold(n_splits=5, random_state=53, shuffle=True),\n",
       "             estimator=MultivariateClassifier(estimator=TimeSeriesForest(random_state=53)),\n",
       "             n_jobs=-1,\n",
       "             param_grid={'estimator__criterion': ['entropy'],\n",
       "                         'estimator__max_depth': [5, 10],\n",
       "                         'estimator__min_window_size': [1],\n",
       "                         'estimator__n_estimators': [50, 100],\n",
       "                         'estimator__n_windows': [5, 10]},\n",
       "             refit='tss',\n",
       "             scoring={'hss': make_scorer(<lambda>),\n",
       "                      'tss': make_scorer(<lambda>)})"
      ]
     },
     "execution_count": 43,
     "metadata": {},
     "output_type": "execute_result"
    }
   ],
   "source": [
    "\n",
    "grid_search.fit(X_train, y_train)"
   ]
  },
  {
   "cell_type": "code",
   "execution_count": 44,
   "metadata": {},
   "outputs": [
    {
     "data": {
      "text/plain": [
       "'#clf = MultivariateClassifier(estimator=TimeSeriesForest(n_estimators=100,n_windows=5, \\n                                                        max_depth=5, \\n                                                        min_window_size=2, \\n                                                        random_state=53))\\n#clf.fit(X_train_scaled, y_train)'"
      ]
     },
     "execution_count": 44,
     "metadata": {},
     "output_type": "execute_result"
    }
   ],
   "source": [
    "'''#clf = MultivariateClassifier(estimator=TimeSeriesForest(n_estimators=100,n_windows=5, \n",
    "                                                        max_depth=5, \n",
    "                                                        min_window_size=2, \n",
    "                                                        random_state=53))\n",
    "#clf.fit(X_train_scaled, y_train)'''"
   ]
  },
  {
   "cell_type": "code",
   "execution_count": 46,
   "metadata": {},
   "outputs": [
    {
     "name": "stdout",
     "output_type": "stream",
     "text": [
      "Fold 1:\n",
      "Training indices: [   0    2    3 ... 2504 2505 2507]\n",
      "Testing indices: [   1    7   16   17   28   29   42   46   47   50   53   56   57   60\n",
      "   65   67   69   83   88   95   96  103  105  108  114  118  123  124\n",
      "  125  129  132  134  136  138  139  146  153  155  162  163  166  167\n",
      "  171  174  182  184  186  194  199  204  207  221  229  236  241  243\n",
      "  256  259  267  274  281  282  289  290  295  296  298  302  304  305\n",
      "  312  314  315  329  331  337  345  357  359  362  365  366  369  373\n",
      "  375  376  380  384  389  392  399  402  415  438  440  452  454  458\n",
      "  459  462  463  466  470  471  481  485  499  509  513  524  525  527\n",
      "  535  536  537  544  545  548  550  555  556  557  563  568  575  577\n",
      "  579  581  583  586  590  605  606  608  622  632  633  640  641  650\n",
      "  659  660  671  673  679  680  687  692  708  710  717  741  759  766\n",
      "  773  779  780  781  791  792  793  799  805  810  811  816  823  824\n",
      "  834  843  849  861  863  865  868  869  888  894  896  904  907  919\n",
      "  930  946  948  949  952  954  956  957  975  977  986  989  993  998\n",
      " 1002 1003 1007 1008 1015 1018 1020 1028 1040 1046 1049 1066 1072 1073\n",
      " 1080 1084 1090 1091 1095 1103 1107 1111 1124 1125 1142 1144 1146 1147\n",
      " 1150 1156 1160 1161 1175 1177 1178 1188 1189 1198 1210 1213 1215 1218\n",
      " 1219 1232 1239 1241 1250 1258 1265 1268 1276 1277 1278 1289 1290 1294\n",
      " 1299 1302 1303 1307 1320 1323 1338 1339 1342 1347 1362 1372 1373 1380\n",
      " 1381 1382 1386 1387 1392 1401 1402 1403 1404 1406 1411 1424 1427 1435\n",
      " 1439 1440 1450 1457 1465 1467 1470 1471 1481 1483 1484 1486 1490 1493\n",
      " 1494 1509 1514 1517 1518 1519 1523 1528 1529 1536 1548 1551 1552 1560\n",
      " 1561 1567 1569 1574 1577 1579 1587 1592 1593 1599 1607 1614 1619 1625\n",
      " 1626 1633 1634 1644 1646 1649 1657 1670 1673 1674 1678 1680 1682 1687\n",
      " 1692 1696 1698 1700 1708 1715 1718 1727 1731 1736 1737 1741 1751 1752\n",
      " 1754 1759 1766 1769 1770 1773 1775 1777 1782 1784 1790 1791 1796 1797\n",
      " 1801 1804 1805 1809 1811 1813 1816 1824 1825 1832 1836 1838 1855 1856\n",
      " 1875 1880 1882 1884 1886 1890 1896 1897 1904 1905 1908 1912 1916 1917\n",
      " 1922 1924 1927 1929 1937 1943 1956 1959 1966 1968 1974 1979 1986 1987\n",
      " 1988 1989 1994 1997 2010 2011 2015 2018 2022 2023 2024 2038 2040 2042\n",
      " 2047 2048 2055 2066 2078 2080 2094 2102 2108 2109 2110 2112 2122 2129\n",
      " 2137 2138 2142 2143 2148 2156 2158 2159 2160 2163 2164 2169 2178 2191\n",
      " 2192 2198 2201 2208 2212 2231 2233 2238 2240 2244 2247 2262 2264 2270\n",
      " 2275 2278 2283 2295 2298 2308 2314 2315 2320 2329 2332 2338 2342 2346\n",
      " 2350 2356 2359 2361 2365 2370 2374 2385 2389 2399 2400 2418 2419 2420\n",
      " 2426 2429 2444 2456 2466 2475 2478 2481 2485 2488 2489 2506]\n",
      "\n",
      "Fold 2:\n",
      "Training indices: [   0    1    2 ... 2503 2506 2507]\n",
      "Testing indices: [  18   27   31   32   34   36   39   43   49   58   63   64   70   74\n",
      "   75   86   90   94   99  109  115  121  141  145  149  154  165  175\n",
      "  181  189  190  191  209  212  214  215  217  218  220  222  224  226\n",
      "  237  239  240  246  249  255  262  264  265  268  269  270  272  273\n",
      "  276  277  287  301  306  308  313  322  326  330  336  342  343  344\n",
      "  348  351  354  355  363  371  372  374  377  381  382  387  388  406\n",
      "  408  426  427  428  436  437  441  443  447  449  451  457  464  468\n",
      "  473  474  478  480  486  491  495  498  501  503  510  514  515  518\n",
      "  521  530  531  534  542  543  551  558  560  561  564  565  582  584\n",
      "  597  609  621  623  626  639  644  646  655  656  658  663  664  666\n",
      "  669  670  677  681  684  690  703  705  716  722  725  738  739  743\n",
      "  746  752  758  763  764  765  767  769  776  786  788  808  819  821\n",
      "  832  833  842  848  851  857  858  862  867  870  873  880  891  900\n",
      "  901  915  923  927  928  938  939  945  953  958  960  965  973  978\n",
      "  988  995  996 1001 1005 1019 1030 1034 1035 1038 1041 1043 1044 1048\n",
      " 1052 1054 1056 1058 1062 1070 1074 1076 1077 1086 1088 1089 1097 1098\n",
      " 1100 1104 1119 1128 1135 1137 1139 1145 1153 1167 1171 1174 1179 1183\n",
      " 1193 1195 1196 1201 1211 1221 1223 1229 1234 1237 1244 1245 1246 1256\n",
      " 1257 1267 1271 1274 1285 1288 1291 1293 1298 1306 1309 1313 1314 1319\n",
      " 1326 1327 1330 1340 1345 1350 1352 1365 1367 1376 1377 1391 1394 1395\n",
      " 1398 1399 1407 1409 1416 1419 1421 1426 1428 1429 1430 1447 1449 1453\n",
      " 1473 1477 1479 1488 1489 1491 1498 1499 1502 1504 1505 1506 1507 1508\n",
      " 1511 1515 1522 1524 1525 1540 1541 1544 1546 1549 1554 1558 1562 1565\n",
      " 1566 1575 1578 1581 1584 1589 1601 1611 1612 1616 1617 1624 1631 1637\n",
      " 1640 1652 1655 1659 1663 1668 1671 1675 1676 1677 1679 1690 1691 1699\n",
      " 1702 1703 1705 1709 1717 1723 1748 1755 1757 1761 1767 1778 1781 1788\n",
      " 1810 1817 1821 1826 1830 1833 1835 1837 1840 1841 1844 1845 1849 1864\n",
      " 1867 1869 1872 1873 1876 1889 1891 1892 1894 1900 1906 1909 1914 1923\n",
      " 1930 1931 1934 1935 1955 1960 1964 1976 1980 1991 1992 1995 2004 2006\n",
      " 2013 2014 2021 2032 2044 2052 2058 2059 2068 2073 2077 2093 2095 2096\n",
      " 2097 2101 2105 2121 2125 2130 2131 2134 2136 2140 2145 2150 2151 2165\n",
      " 2167 2168 2180 2185 2186 2187 2189 2190 2194 2211 2222 2226 2232 2237\n",
      " 2239 2243 2249 2256 2257 2260 2274 2276 2281 2285 2290 2292 2294 2297\n",
      " 2299 2301 2304 2305 2307 2311 2312 2313 2322 2323 2327 2343 2352 2354\n",
      " 2355 2357 2368 2380 2388 2391 2392 2401 2404 2405 2411 2423 2425 2433\n",
      " 2437 2440 2447 2450 2452 2454 2465 2474 2499 2502 2504 2505]\n",
      "\n",
      "Fold 3:\n",
      "Training indices: [   1    2    3 ... 2504 2505 2506]\n",
      "Testing indices: [   0   10   14   20   21   23   33   37   40   44   48   59   71   72\n",
      "   77   79   92   93  100  104  106  107  111  119  120  127  130  137\n",
      "  147  150  160  180  183  192  201  202  211  216  219  223  225  228\n",
      "  232  242  250  251  260  266  278  279  285  293  299  307  320  324\n",
      "  327  334  335  339  346  347  370  378  379  390  391  394  396  398\n",
      "  403  414  417  420  424  430  431  432  444  446  455  456  460  467\n",
      "  475  482  484  496  497  502  506  508  517  519  520  522  523  532\n",
      "  538  539  553  573  576  580  589  591  595  598  601  613  614  615\n",
      "  617  624  629  631  634  643  645  647  648  653  654  665  667  686\n",
      "  689  693  696  698  700  709  712  730  731  734  742  747  760  761\n",
      "  762  768  772  778  785  787  790  801  818  822  828  835  836  838\n",
      "  840  845  852  853  855  872  875  877  879  882  883  884  885  899\n",
      "  902  905  908  910  911  925  926  933  934  937  941  942  944  950\n",
      "  955  966  970  971  972  974 1000 1009 1011 1013 1014 1029 1032 1037\n",
      " 1039 1047 1055 1059 1065 1067 1071 1075 1085 1092 1094 1102 1105 1112\n",
      " 1114 1118 1121 1129 1130 1132 1133 1140 1143 1148 1152 1155 1159 1163\n",
      " 1165 1168 1173 1180 1185 1199 1200 1206 1217 1220 1224 1228 1233 1240\n",
      " 1260 1263 1266 1273 1275 1279 1283 1287 1311 1321 1344 1348 1351 1355\n",
      " 1356 1364 1366 1371 1374 1375 1383 1384 1390 1393 1397 1405 1412 1413\n",
      " 1418 1423 1437 1441 1442 1444 1445 1446 1448 1458 1459 1460 1461 1464\n",
      " 1468 1469 1472 1474 1475 1478 1482 1485 1492 1497 1510 1512 1526 1527\n",
      " 1535 1539 1542 1543 1545 1550 1556 1564 1572 1580 1585 1586 1590 1594\n",
      " 1597 1602 1609 1618 1622 1623 1627 1628 1632 1635 1638 1642 1643 1650\n",
      " 1651 1660 1662 1664 1666 1669 1672 1681 1683 1684 1686 1697 1701 1707\n",
      " 1710 1712 1714 1721 1722 1724 1729 1733 1739 1740 1743 1746 1749 1753\n",
      " 1768 1771 1772 1779 1783 1786 1806 1812 1818 1819 1820 1839 1848 1851\n",
      " 1857 1858 1859 1860 1862 1863 1865 1866 1874 1878 1879 1881 1887 1895\n",
      " 1902 1911 1921 1925 1928 1933 1946 1947 1948 1951 1957 1962 1965 1971\n",
      " 1972 1973 1981 1990 1996 1999 2000 2001 2003 2017 2020 2025 2028 2033\n",
      " 2050 2054 2057 2067 2082 2086 2088 2092 2098 2103 2104 2111 2113 2117\n",
      " 2118 2119 2120 2155 2161 2176 2179 2188 2193 2195 2203 2204 2205 2214\n",
      " 2217 2219 2230 2235 2241 2242 2245 2248 2251 2252 2261 2265 2266 2267\n",
      " 2268 2273 2279 2280 2282 2286 2291 2306 2309 2310 2319 2324 2325 2326\n",
      " 2331 2335 2345 2353 2360 2366 2372 2377 2378 2381 2390 2393 2395 2398\n",
      " 2402 2409 2412 2415 2416 2417 2422 2430 2431 2436 2442 2443 2446 2453\n",
      " 2459 2461 2467 2468 2471 2479 2482 2483 2487 2497 2498 2507]\n",
      "\n",
      "Fold 4:\n",
      "Training indices: [   0    1    4 ... 2505 2506 2507]\n",
      "Testing indices: [   2    3    5    8    9   11   12   19   22   25   52   61   66   78\n",
      "   80   81   82   84   85   89   98  110  113  126  128  131  133  142\n",
      "  144  156  161  164  169  170  178  179  185  187  188  193  196  197\n",
      "  198  206  230  238  245  252  254  257  280  284  286  288  291  292\n",
      "  297  310  311  317  319  321  325  333  338  349  350  356  358  360\n",
      "  368  397  400  401  405  407  409  410  412  413  418  419  422  433\n",
      "  434  439  448  453  465  472  477  489  490  492  505  507  511  512\n",
      "  528  546  547  554  559  570  574  578  587  592  596  599  600  604\n",
      "  607  611  612  618  619  628  630  635  637  638  642  649  651  652\n",
      "  657  661  675  685  688  691  694  699  704  706  707  713  721  728\n",
      "  733  735  745  748  750  753  755  757  770  774  782  783  784  794\n",
      "  796  800  802  803  804  806  812  815  817  825  827  830  846  854\n",
      "  856  871  881  887  903  912  913  914  917  918  920  922  929  935\n",
      "  936  943  959  962  963  964  967  969  976  979  984  987  994  997\n",
      "  999 1010 1016 1017 1021 1023 1025 1026 1027 1050 1051 1060 1061 1064\n",
      " 1068 1069 1078 1081 1082 1101 1109 1110 1115 1120 1122 1123 1127 1134\n",
      " 1136 1138 1141 1149 1151 1157 1162 1166 1170 1176 1182 1186 1187 1190\n",
      " 1194 1197 1202 1203 1204 1207 1208 1212 1214 1227 1230 1231 1242 1247\n",
      " 1249 1251 1252 1253 1255 1259 1269 1270 1272 1280 1282 1284 1286 1292\n",
      " 1295 1300 1301 1305 1308 1310 1315 1317 1322 1329 1331 1333 1334 1335\n",
      " 1341 1343 1346 1354 1359 1368 1369 1370 1379 1385 1388 1389 1400 1408\n",
      " 1410 1414 1415 1417 1422 1431 1432 1433 1443 1451 1455 1462 1463 1480\n",
      " 1495 1496 1513 1521 1534 1538 1547 1557 1571 1576 1582 1588 1598 1600\n",
      " 1606 1610 1615 1620 1639 1647 1648 1653 1656 1658 1661 1665 1667 1685\n",
      " 1688 1695 1704 1706 1711 1719 1720 1726 1730 1735 1742 1744 1745 1750\n",
      " 1756 1760 1763 1764 1774 1789 1792 1793 1798 1807 1808 1822 1827 1828\n",
      " 1829 1834 1842 1850 1853 1861 1870 1877 1883 1888 1898 1903 1907 1913\n",
      " 1915 1918 1940 1941 1944 1945 1949 1950 1952 1954 1961 1963 1967 1970\n",
      " 1975 1983 1985 1993 2009 2012 2019 2029 2030 2031 2035 2036 2037 2039\n",
      " 2045 2046 2049 2056 2060 2061 2062 2063 2065 2070 2072 2074 2076 2083\n",
      " 2084 2087 2089 2100 2114 2115 2116 2126 2135 2141 2144 2147 2149 2153\n",
      " 2162 2171 2173 2184 2197 2199 2202 2206 2209 2210 2218 2220 2223 2224\n",
      " 2228 2246 2255 2258 2263 2272 2277 2284 2288 2289 2300 2303 2317 2328\n",
      " 2330 2348 2358 2367 2369 2373 2375 2376 2379 2382 2383 2384 2387 2396\n",
      " 2403 2406 2407 2408 2424 2427 2432 2435 2438 2439 2448 2449 2457 2458\n",
      " 2463 2470 2476 2477 2480 2484 2490 2494 2495 2496 2501]\n",
      "\n",
      "Fold 5:\n",
      "Training indices: [   0    1    2 ... 2505 2506 2507]\n",
      "Testing indices: [   4    6   13   15   24   26   30   35   38   41   45   51   54   55\n",
      "   62   68   73   76   87   91   97  101  102  112  116  117  122  135\n",
      "  140  143  148  151  152  157  158  159  168  172  173  176  177  195\n",
      "  200  203  205  208  210  213  227  231  233  234  235  244  247  248\n",
      "  253  258  261  263  271  275  283  294  300  303  309  316  318  323\n",
      "  328  332  340  341  352  353  361  364  367  383  385  386  393  395\n",
      "  404  411  416  421  423  425  429  435  442  445  450  461  469  476\n",
      "  479  483  487  488  493  494  500  504  516  526  529  533  540  541\n",
      "  549  552  562  566  567  569  571  572  585  588  593  594  602  603\n",
      "  610  616  620  625  627  636  662  668  672  674  676  678  682  683\n",
      "  695  697  701  702  711  714  715  718  719  720  723  724  726  727\n",
      "  729  732  736  737  740  744  749  751  754  756  771  775  777  789\n",
      "  795  797  798  807  809  813  814  820  826  829  831  837  839  841\n",
      "  844  847  850  859  860  864  866  874  876  878  886  889  890  892\n",
      "  893  895  897  898  906  909  916  921  924  931  932  940  947  951\n",
      "  961  968  980  981  982  983  985  990  991  992 1004 1006 1012 1022\n",
      " 1024 1031 1033 1036 1042 1045 1053 1057 1063 1079 1083 1087 1093 1096\n",
      " 1099 1106 1108 1113 1116 1117 1126 1131 1154 1158 1164 1169 1172 1181\n",
      " 1184 1191 1192 1205 1209 1216 1222 1225 1226 1235 1236 1238 1243 1248\n",
      " 1254 1261 1262 1264 1281 1296 1297 1304 1312 1316 1318 1324 1325 1328\n",
      " 1332 1336 1337 1349 1353 1357 1358 1360 1361 1363 1378 1396 1420 1425\n",
      " 1434 1436 1438 1452 1454 1456 1466 1476 1487 1500 1501 1503 1516 1520\n",
      " 1530 1531 1532 1533 1537 1553 1555 1559 1563 1568 1570 1573 1583 1591\n",
      " 1595 1596 1603 1604 1605 1608 1613 1621 1629 1630 1636 1641 1645 1654\n",
      " 1689 1693 1694 1713 1716 1725 1728 1732 1734 1738 1747 1758 1762 1765\n",
      " 1776 1780 1785 1787 1794 1795 1799 1800 1802 1803 1814 1815 1823 1831\n",
      " 1843 1846 1847 1852 1854 1868 1871 1885 1893 1899 1901 1910 1919 1920\n",
      " 1926 1932 1936 1938 1939 1942 1953 1958 1969 1977 1978 1982 1984 1998\n",
      " 2002 2005 2007 2008 2016 2026 2027 2034 2041 2043 2051 2053 2064 2069\n",
      " 2071 2075 2079 2081 2085 2090 2091 2099 2106 2107 2123 2124 2127 2128\n",
      " 2132 2133 2139 2146 2152 2154 2157 2166 2170 2172 2174 2175 2177 2181\n",
      " 2182 2183 2196 2200 2207 2213 2215 2216 2221 2225 2227 2229 2234 2236\n",
      " 2250 2253 2254 2259 2269 2271 2287 2293 2296 2302 2316 2318 2321 2333\n",
      " 2334 2336 2337 2339 2340 2341 2344 2347 2349 2351 2362 2363 2364 2371\n",
      " 2386 2394 2397 2410 2413 2414 2421 2428 2434 2441 2445 2451 2455 2460\n",
      " 2462 2464 2469 2472 2473 2486 2491 2492 2493 2500 2503]\n",
      "\n"
     ]
    }
   ],
   "source": [
    "for fold_idx, (train_idx, test_idx) in enumerate(kf.split(X_train)):\n",
    "    print(f\"Fold {fold_idx + 1}:\")\n",
    "    print(f\"Training indices: {train_idx}\")\n",
    "    print(f\"Testing indices: {test_idx}\")\n",
    "    print()"
   ]
  },
  {
   "cell_type": "code",
   "execution_count": 45,
   "metadata": {},
   "outputs": [
    {
     "data": {
      "text/plain": [
       "\"for split_idx, (train_idx, test_idx) in enumerate(tscv.split(X_train)):\\n    print(f'Split {split_idx + 1}:')\\n    print(f'Training indices: {train_idx}')\\n    print(f'Testing indices: {test_idx}')\\n    print()\""
      ]
     },
     "execution_count": 45,
     "metadata": {},
     "output_type": "execute_result"
    }
   ],
   "source": [
    "'''for split_idx, (train_idx, test_idx) in enumerate(tscv.split(X_train)):\n",
    "    print(f'Split {split_idx + 1}:')\n",
    "    print(f'Training indices: {train_idx}')\n",
    "    print(f'Testing indices: {test_idx}')\n",
    "    print()'''"
   ]
  },
  {
   "cell_type": "code",
   "execution_count": 47,
   "metadata": {},
   "outputs": [
    {
     "name": "stdout",
     "output_type": "stream",
     "text": [
      "Confusion Matrix for Split 1:\n",
      "[[217  42]\n",
      " [ 10 233]]\n",
      "\n",
      "Confusion Matrix for Split 2:\n",
      "[[206  45]\n",
      " [ 19 232]]\n",
      "\n",
      "Confusion Matrix for Split 3:\n",
      "[[222  42]\n",
      " [ 17 221]]\n",
      "\n",
      "Confusion Matrix for Split 4:\n",
      "[[228  17]\n",
      " [ 15 241]]\n",
      "\n",
      "Confusion Matrix for Split 5:\n",
      "[[201  34]\n",
      " [ 18 248]]\n",
      "\n"
     ]
    }
   ],
   "source": [
    "\n",
    "\n",
    "for split_idx, (train_idx, test_idx) in enumerate(kf.split(X_train)):\n",
    "    X_train_split, X_test_split = X_train[train_idx], X_train[test_idx]\n",
    "    y_train_split, y_test_split = y_train[train_idx], y_train[test_idx]\n",
    "    grid_search.best_estimator_.fit(X_train_split, y_train_split)\n",
    "    y_pred_split = grid_search.best_estimator_.predict(X_test_split)\n",
    "\n",
    "    cm = confusion_matrix(y_test_split, y_pred_split)\n",
    "    print(f'Confusion Matrix for Split {split_idx + 1}:\\n{cm}')\n",
    "    print()\n"
   ]
  },
  {
   "cell_type": "code",
   "execution_count": 48,
   "metadata": {},
   "outputs": [
    {
     "name": "stdout",
     "output_type": "stream",
     "text": [
      "Indices for class label 1: [0, 1, 2, 3, 4, 5, 6, 7, 8, 9, 10, 11, 12, 13, 14, 15, 16, 17, 18, 19, 20, 21, 22, 23, 24, 25, 26, 27, 28, 29, 30, 31, 32, 33, 34, 35, 36, 37, 38, 39, 40, 41, 42, 43, 44, 45, 46, 47, 48, 49, 50, 51, 52, 53, 54, 55, 56, 57, 58, 59, 60, 61, 62, 63, 64, 65, 66, 67, 68, 69, 70, 71, 72, 73, 74, 75, 76, 77, 78, 79, 80, 81, 82, 83, 84, 85, 86, 87, 88, 89, 90, 91, 92, 93, 94, 95, 96, 97, 98, 99, 100, 101, 102, 103, 104, 105, 106, 107, 108, 109, 110, 111, 112, 113, 114, 115, 116, 117, 118, 119, 120, 121, 122, 123, 124, 125, 126, 127, 128, 129, 130, 131, 132, 133, 134, 135, 136, 137, 138, 139, 140, 141, 142, 143, 144, 145, 146, 147, 148, 149, 150, 151, 152, 153, 154, 155, 156, 157, 158, 159, 160, 161, 162, 163, 164, 165, 166, 167, 168, 169, 170, 171, 172, 173, 174, 175, 176, 177, 178, 179, 180, 181, 182, 183, 184, 185, 186, 187, 188, 189, 190, 191, 192, 193, 194, 195, 196, 197, 198, 199, 200, 201, 202, 203, 204, 205, 206, 207, 208, 209, 210, 211, 212, 213, 214, 215, 216, 217, 218, 219, 220, 221, 222, 223, 224, 225, 226, 227, 228, 229, 230, 231, 232, 233, 234, 235, 236, 237, 238, 239, 240, 241, 242, 243, 244, 245, 246, 247, 248, 249, 250, 251, 252, 253, 254, 255, 256, 257, 258, 259, 260, 261, 262, 263, 264, 265, 266, 267, 268, 269, 270, 271, 272, 273, 274, 275, 276, 277, 278, 279, 280, 281, 282, 283, 284, 285, 286, 287, 288, 289, 290, 291, 292, 293, 294, 295, 296, 297, 298, 299, 300, 301, 302, 303, 304, 305, 306, 307, 308, 309, 310, 311, 312, 313, 314, 315, 316, 317, 318, 319, 320, 321, 322, 323, 324, 325, 326, 327, 328, 329, 330, 331, 332, 333, 334, 335, 336, 337, 338, 339, 340, 341, 342, 343, 344, 345, 346, 347, 348, 349, 350, 351, 352, 353, 354, 355, 356, 357, 358, 359, 360, 361, 362, 363, 364, 365, 366, 367, 368, 369, 370, 371, 372, 373, 374, 375, 376, 377, 378, 379, 380, 381, 382, 383, 384, 385, 386, 387, 388, 389, 390, 391, 392, 393, 394, 395, 396, 397, 398, 399, 400, 401, 402, 403, 404, 405, 406, 407, 408, 409, 410, 411, 412, 413, 414, 415, 416, 417, 418, 419, 420, 421, 422, 423, 424, 425, 426, 427, 428, 429, 430, 431, 432, 433, 434, 435, 436, 437, 438, 439, 440, 441, 442, 443, 444, 445, 446, 447, 448, 449, 450, 451, 452, 453, 454, 455, 456, 457, 458, 459, 460, 461, 462, 463, 464, 465, 466, 467, 468, 469, 470, 471, 472, 473, 474, 475, 476, 477, 478, 479, 480, 481, 482, 483, 484, 485, 486, 487, 488, 489, 490, 491, 492, 493, 494, 495, 496, 497, 498, 499, 500, 501, 502, 503, 504, 505, 506, 507, 508, 509, 510, 511, 512, 513, 514, 515, 516, 517, 518, 519, 520, 521, 522, 523, 524, 525, 526, 527, 528, 529, 530, 531, 532, 533, 534, 535, 536, 537, 538, 539, 540, 541, 542, 543, 544, 545, 546, 547, 548, 549, 550, 551, 552, 553, 554, 555, 556, 557, 558, 559, 560, 561, 562, 563, 564, 565, 566, 567, 568, 569, 570, 571, 572, 573, 574, 575, 576, 577, 578, 579, 580, 581, 582, 583, 584, 585, 586, 587, 588, 589, 590, 591, 592, 593, 594, 595, 596, 597, 598, 599, 600, 601, 602, 603, 604, 605, 606, 607, 608, 609, 610, 611, 612, 613, 614, 615, 616, 617, 618, 619, 620, 621, 622, 623, 624, 625, 626, 627, 628, 629, 630, 631, 632, 633, 634, 635, 636, 637, 638, 639, 640, 641, 642, 643, 644, 645, 646, 647, 648, 649, 650, 651, 652, 653, 654, 655, 656, 657, 658, 659, 660, 661, 662, 663, 664, 665, 666, 667, 668, 669, 670, 671, 672, 673, 674, 675, 676, 677, 678, 679, 680, 681, 682, 683, 684, 685, 686, 687, 688, 689, 690, 691, 692, 693, 694, 695, 696, 697, 698, 699, 700, 701, 702, 703, 704, 705, 706, 707, 708, 709, 710, 711, 712, 713, 714, 715, 716, 717, 718, 719, 720, 721, 722, 723, 724, 725, 726, 727, 728, 729, 730, 731, 732, 733, 734, 735, 736, 737, 738, 739, 740, 741, 742, 743, 744, 745, 746, 747, 748, 749, 750, 751, 752, 753, 754, 755, 756, 757, 758, 759, 760, 761, 762, 763, 764, 765, 766, 767, 768, 769, 770, 771, 772, 773, 774, 775, 776, 777, 778, 779, 780, 781, 782, 783, 784, 785, 786, 787, 788, 789, 790, 791, 792, 793, 794, 795, 796, 797, 798, 799, 800, 801, 802, 803, 804, 805, 806, 807, 808, 809, 810, 811, 812, 813, 814, 815, 816, 817, 818, 819, 820, 821, 822, 823, 824, 825, 826, 827, 828, 829, 830, 831, 832, 833, 834, 835, 836, 837, 838, 839, 840, 841, 842, 843, 844, 845, 846, 847, 848, 849, 850, 851, 852, 853, 854, 855, 856, 857, 858, 859, 860, 861, 862, 863, 864, 865, 866, 867, 868, 869, 870, 871, 872, 873, 874, 875, 876, 877, 878, 879, 880, 881, 882, 883, 884, 885, 886, 887, 888, 889, 890, 891, 892, 893, 894, 895, 896, 897, 898, 899, 900, 901, 902, 903, 904, 905, 906, 907, 908, 909, 910, 911, 912, 913, 914, 915, 916, 917, 918, 919, 920, 921, 922, 923, 924, 925, 926, 927, 928, 929, 930, 931, 932, 933, 934, 935, 936, 937, 938, 939, 940, 941, 942, 943, 944, 945, 946, 947, 948, 949, 950, 951, 952, 953, 954, 955, 956, 957, 958, 959, 960, 961, 962, 963, 964, 965, 966, 967, 968, 969, 970, 971, 972, 973, 974, 975, 976, 977, 978, 979, 980, 981, 982, 983, 984, 985, 986, 987, 988, 989, 990, 991, 992, 993, 994, 995, 996, 997, 998, 999, 1000, 1001, 1002, 1003, 1004, 1005, 1006, 1007, 1008, 1009, 1010, 1011, 1012, 1013, 1014, 1015, 1016, 1017, 1018, 1019, 1020, 1021, 1022, 1023, 1024, 1025, 1026, 1027, 1028, 1029, 1030, 1031, 1032, 1033, 1034, 1035, 1036, 1037, 1038, 1039, 1040, 1041, 1042, 1043, 1044, 1045, 1046, 1047, 1048, 1049, 1050, 1051, 1052, 1053, 1054, 1055, 1056, 1057, 1058, 1059, 1060, 1061, 1062, 1063, 1064, 1065, 1066, 1067, 1068, 1069, 1070, 1071, 1072, 1073, 1074, 1075, 1076, 1077, 1078, 1079, 1080, 1081, 1082, 1083, 1084, 1085, 1086, 1087, 1088, 1089, 1090, 1091, 1092, 1093, 1094, 1095, 1096, 1097, 1098, 1099, 1100, 1101, 1102, 1103, 1104, 1105, 1106, 1107, 1108, 1109, 1110, 1111, 1112, 1113, 1114, 1115, 1116, 1117, 1118, 1119, 1120, 1121, 1122, 1123, 1124, 1125, 1126, 1127, 1128, 1129, 1130, 1131, 1132, 1133, 1134, 1135, 1136, 1137, 1138, 1139, 1140, 1141, 1142, 1143, 1144, 1145, 1146, 1147, 1148, 1149, 1150, 1151, 1152, 1153, 1154, 1155, 1156, 1157, 1158, 1159, 1160, 1161, 1162, 1163, 1164, 1165, 1166, 1167, 1168, 1169, 1170, 1171, 1172, 1173, 1174, 1175, 1176, 1177, 1178, 1179, 1180, 1181, 1182, 1183, 1184, 1185, 1186, 1187, 1188, 1189, 1190, 1191, 1192, 1193, 1194, 1195, 1196, 1197, 1198, 1199, 1200, 1201, 1202, 1203, 1204, 1205, 1206, 1207, 1208, 1209, 1210, 1211, 1212, 1213, 1214, 1215, 1216, 1217, 1218, 1219, 1220, 1221, 1222, 1223, 1224, 1225, 1226, 1227, 1228, 1229, 1230, 1231, 1232, 1233, 1234, 1235, 1236, 1237, 1238, 1239, 1240, 1241, 1242, 1243, 1244, 1245, 1246, 1247, 1248, 1249, 1250, 1251, 1252, 1253]\n",
      "Indices for class label 0: [1254, 1255, 1256, 1257, 1258, 1259, 1260, 1261, 1262, 1263, 1264, 1265, 1266, 1267, 1268, 1269, 1270, 1271, 1272, 1273, 1274, 1275, 1276, 1277, 1278, 1279, 1280, 1281, 1282, 1283, 1284, 1285, 1286, 1287, 1288, 1289, 1290, 1291, 1292, 1293, 1294, 1295, 1296, 1297, 1298, 1299, 1300, 1301, 1302, 1303, 1304, 1305, 1306, 1307, 1308, 1309, 1310, 1311, 1312, 1313, 1314, 1315, 1316, 1317, 1318, 1319, 1320, 1321, 1322, 1323, 1324, 1325, 1326, 1327, 1328, 1329, 1330, 1331, 1332, 1333, 1334, 1335, 1336, 1337, 1338, 1339, 1340, 1341, 1342, 1343, 1344, 1345, 1346, 1347, 1348, 1349, 1350, 1351, 1352, 1353, 1354, 1355, 1356, 1357, 1358, 1359, 1360, 1361, 1362, 1363, 1364, 1365, 1366, 1367, 1368, 1369, 1370, 1371, 1372, 1373, 1374, 1375, 1376, 1377, 1378, 1379, 1380, 1381, 1382, 1383, 1384, 1385, 1386, 1387, 1388, 1389, 1390, 1391, 1392, 1393, 1394, 1395, 1396, 1397, 1398, 1399, 1400, 1401, 1402, 1403, 1404, 1405, 1406, 1407, 1408, 1409, 1410, 1411, 1412, 1413, 1414, 1415, 1416, 1417, 1418, 1419, 1420, 1421, 1422, 1423, 1424, 1425, 1426, 1427, 1428, 1429, 1430, 1431, 1432, 1433, 1434, 1435, 1436, 1437, 1438, 1439, 1440, 1441, 1442, 1443, 1444, 1445, 1446, 1447, 1448, 1449, 1450, 1451, 1452, 1453, 1454, 1455, 1456, 1457, 1458, 1459, 1460, 1461, 1462, 1463, 1464, 1465, 1466, 1467, 1468, 1469, 1470, 1471, 1472, 1473, 1474, 1475, 1476, 1477, 1478, 1479, 1480, 1481, 1482, 1483, 1484, 1485, 1486, 1487, 1488, 1489, 1490, 1491, 1492, 1493, 1494, 1495, 1496, 1497, 1498, 1499, 1500, 1501, 1502, 1503, 1504, 1505, 1506, 1507, 1508, 1509, 1510, 1511, 1512, 1513, 1514, 1515, 1516, 1517, 1518, 1519, 1520, 1521, 1522, 1523, 1524, 1525, 1526, 1527, 1528, 1529, 1530, 1531, 1532, 1533, 1534, 1535, 1536, 1537, 1538, 1539, 1540, 1541, 1542, 1543, 1544, 1545, 1546, 1547, 1548, 1549, 1550, 1551, 1552, 1553, 1554, 1555, 1556, 1557, 1558, 1559, 1560, 1561, 1562, 1563, 1564, 1565, 1566, 1567, 1568, 1569, 1570, 1571, 1572, 1573, 1574, 1575, 1576, 1577, 1578, 1579, 1580, 1581, 1582, 1583, 1584, 1585, 1586, 1587, 1588, 1589, 1590, 1591, 1592, 1593, 1594, 1595, 1596, 1597, 1598, 1599, 1600, 1601, 1602, 1603, 1604, 1605, 1606, 1607, 1608, 1609, 1610, 1611, 1612, 1613, 1614, 1615, 1616, 1617, 1618, 1619, 1620, 1621, 1622, 1623, 1624, 1625, 1626, 1627, 1628, 1629, 1630, 1631, 1632, 1633, 1634, 1635, 1636, 1637, 1638, 1639, 1640, 1641, 1642, 1643, 1644, 1645, 1646, 1647, 1648, 1649, 1650, 1651, 1652, 1653, 1654, 1655, 1656, 1657, 1658, 1659, 1660, 1661, 1662, 1663, 1664, 1665, 1666, 1667, 1668, 1669, 1670, 1671, 1672, 1673, 1674, 1675, 1676, 1677, 1678, 1679, 1680, 1681, 1682, 1683, 1684, 1685, 1686, 1687, 1688, 1689, 1690, 1691, 1692, 1693, 1694, 1695, 1696, 1697, 1698, 1699, 1700, 1701, 1702, 1703, 1704, 1705, 1706, 1707, 1708, 1709, 1710, 1711, 1712, 1713, 1714, 1715, 1716, 1717, 1718, 1719, 1720, 1721, 1722, 1723, 1724, 1725, 1726, 1727, 1728, 1729, 1730, 1731, 1732, 1733, 1734, 1735, 1736, 1737, 1738, 1739, 1740, 1741, 1742, 1743, 1744, 1745, 1746, 1747, 1748, 1749, 1750, 1751, 1752, 1753, 1754, 1755, 1756, 1757, 1758, 1759, 1760, 1761, 1762, 1763, 1764, 1765, 1766, 1767, 1768, 1769, 1770, 1771, 1772, 1773, 1774, 1775, 1776, 1777, 1778, 1779, 1780, 1781, 1782, 1783, 1784, 1785, 1786, 1787, 1788, 1789, 1790, 1791, 1792, 1793, 1794, 1795, 1796, 1797, 1798, 1799, 1800, 1801, 1802, 1803, 1804, 1805, 1806, 1807, 1808, 1809, 1810, 1811, 1812, 1813, 1814, 1815, 1816, 1817, 1818, 1819, 1820, 1821, 1822, 1823, 1824, 1825, 1826, 1827, 1828, 1829, 1830, 1831, 1832, 1833, 1834, 1835, 1836, 1837, 1838, 1839, 1840, 1841, 1842, 1843, 1844, 1845, 1846, 1847, 1848, 1849, 1850, 1851, 1852, 1853, 1854, 1855, 1856, 1857, 1858, 1859, 1860, 1861, 1862, 1863, 1864, 1865, 1866, 1867, 1868, 1869, 1870, 1871, 1872, 1873, 1874, 1875, 1876, 1877, 1878, 1879, 1880, 1881, 1882, 1883, 1884, 1885, 1886, 1887, 1888, 1889, 1890, 1891, 1892, 1893, 1894, 1895, 1896, 1897, 1898, 1899, 1900, 1901, 1902, 1903, 1904, 1905, 1906, 1907, 1908, 1909, 1910, 1911, 1912, 1913, 1914, 1915, 1916, 1917, 1918, 1919, 1920, 1921, 1922, 1923, 1924, 1925, 1926, 1927, 1928, 1929, 1930, 1931, 1932, 1933, 1934, 1935, 1936, 1937, 1938, 1939, 1940, 1941, 1942, 1943, 1944, 1945, 1946, 1947, 1948, 1949, 1950, 1951, 1952, 1953, 1954, 1955, 1956, 1957, 1958, 1959, 1960, 1961, 1962, 1963, 1964, 1965, 1966, 1967, 1968, 1969, 1970, 1971, 1972, 1973, 1974, 1975, 1976, 1977, 1978, 1979, 1980, 1981, 1982, 1983, 1984, 1985, 1986, 1987, 1988, 1989, 1990, 1991, 1992, 1993, 1994, 1995, 1996, 1997, 1998, 1999, 2000, 2001, 2002, 2003, 2004, 2005, 2006, 2007, 2008, 2009, 2010, 2011, 2012, 2013, 2014, 2015, 2016, 2017, 2018, 2019, 2020, 2021, 2022, 2023, 2024, 2025, 2026, 2027, 2028, 2029, 2030, 2031, 2032, 2033, 2034, 2035, 2036, 2037, 2038, 2039, 2040, 2041, 2042, 2043, 2044, 2045, 2046, 2047, 2048, 2049, 2050, 2051, 2052, 2053, 2054, 2055, 2056, 2057, 2058, 2059, 2060, 2061, 2062, 2063, 2064, 2065, 2066, 2067, 2068, 2069, 2070, 2071, 2072, 2073, 2074, 2075, 2076, 2077, 2078, 2079, 2080, 2081, 2082, 2083, 2084, 2085, 2086, 2087, 2088, 2089, 2090, 2091, 2092, 2093, 2094, 2095, 2096, 2097, 2098, 2099, 2100, 2101, 2102, 2103, 2104, 2105, 2106, 2107, 2108, 2109, 2110, 2111, 2112, 2113, 2114, 2115, 2116, 2117, 2118, 2119, 2120, 2121, 2122, 2123, 2124, 2125, 2126, 2127, 2128, 2129, 2130, 2131, 2132, 2133, 2134, 2135, 2136, 2137, 2138, 2139, 2140, 2141, 2142, 2143, 2144, 2145, 2146, 2147, 2148, 2149, 2150, 2151, 2152, 2153, 2154, 2155, 2156, 2157, 2158, 2159, 2160, 2161, 2162, 2163, 2164, 2165, 2166, 2167, 2168, 2169, 2170, 2171, 2172, 2173, 2174, 2175, 2176, 2177, 2178, 2179, 2180, 2181, 2182, 2183, 2184, 2185, 2186, 2187, 2188, 2189, 2190, 2191, 2192, 2193, 2194, 2195, 2196, 2197, 2198, 2199, 2200, 2201, 2202, 2203, 2204, 2205, 2206, 2207, 2208, 2209, 2210, 2211, 2212, 2213, 2214, 2215, 2216, 2217, 2218, 2219, 2220, 2221, 2222, 2223, 2224, 2225, 2226, 2227, 2228, 2229, 2230, 2231, 2232, 2233, 2234, 2235, 2236, 2237, 2238, 2239, 2240, 2241, 2242, 2243, 2244, 2245, 2246, 2247, 2248, 2249, 2250, 2251, 2252, 2253, 2254, 2255, 2256, 2257, 2258, 2259, 2260, 2261, 2262, 2263, 2264, 2265, 2266, 2267, 2268, 2269, 2270, 2271, 2272, 2273, 2274, 2275, 2276, 2277, 2278, 2279, 2280, 2281, 2282, 2283, 2284, 2285, 2286, 2287, 2288, 2289, 2290, 2291, 2292, 2293, 2294, 2295, 2296, 2297, 2298, 2299, 2300, 2301, 2302, 2303, 2304, 2305, 2306, 2307, 2308, 2309, 2310, 2311, 2312, 2313, 2314, 2315, 2316, 2317, 2318, 2319, 2320, 2321, 2322, 2323, 2324, 2325, 2326, 2327, 2328, 2329, 2330, 2331, 2332, 2333, 2334, 2335, 2336, 2337, 2338, 2339, 2340, 2341, 2342, 2343, 2344, 2345, 2346, 2347, 2348, 2349, 2350, 2351, 2352, 2353, 2354, 2355, 2356, 2357, 2358, 2359, 2360, 2361, 2362, 2363, 2364, 2365, 2366, 2367, 2368, 2369, 2370, 2371, 2372, 2373, 2374, 2375, 2376, 2377, 2378, 2379, 2380, 2381, 2382, 2383, 2384, 2385, 2386, 2387, 2388, 2389, 2390, 2391, 2392, 2393, 2394, 2395, 2396, 2397, 2398, 2399, 2400, 2401, 2402, 2403, 2404, 2405, 2406, 2407, 2408, 2409, 2410, 2411, 2412, 2413, 2414, 2415, 2416, 2417, 2418, 2419, 2420, 2421, 2422, 2423, 2424, 2425, 2426, 2427, 2428, 2429, 2430, 2431, 2432, 2433, 2434, 2435, 2436, 2437, 2438, 2439, 2440, 2441, 2442, 2443, 2444, 2445, 2446, 2447, 2448, 2449, 2450, 2451, 2452, 2453, 2454, 2455, 2456, 2457, 2458, 2459, 2460, 2461, 2462, 2463, 2464, 2465, 2466, 2467, 2468, 2469, 2470, 2471, 2472, 2473, 2474, 2475, 2476, 2477, 2478, 2479, 2480, 2481, 2482, 2483, 2484, 2485, 2486, 2487, 2488, 2489, 2490, 2491, 2492, 2493, 2494, 2495, 2496, 2497, 2498, 2499, 2500, 2501, 2502, 2503, 2504, 2505, 2506, 2507]\n"
     ]
    }
   ],
   "source": [
    "indices_class_1 = [idx for idx, label in enumerate(y_train) if label == 1]\n",
    "indices_class_0 = [idx for idx, label in enumerate(y_train) if label == 0]\n",
    "\n",
    "print(f'Indices for class label 1: {indices_class_1}')\n",
    "print(f'Indices for class label 0: {indices_class_0}')\n"
   ]
  },
  {
   "cell_type": "code",
   "execution_count": 49,
   "metadata": {},
   "outputs": [],
   "source": [
    "#y_pred = clf.predict(X_test_scaled)"
   ]
  },
  {
   "cell_type": "code",
   "execution_count": 50,
   "metadata": {},
   "outputs": [],
   "source": [
    "results_df = pd.DataFrame(grid_search.cv_results_)"
   ]
  },
  {
   "cell_type": "code",
   "execution_count": 51,
   "metadata": {},
   "outputs": [
    {
     "data": {
      "text/plain": [
       "Index(['mean_fit_time', 'std_fit_time', 'mean_score_time', 'std_score_time',\n",
       "       'param_estimator__criterion', 'param_estimator__max_depth',\n",
       "       'param_estimator__min_window_size', 'param_estimator__n_estimators',\n",
       "       'param_estimator__n_windows', 'params', 'split0_test_tss',\n",
       "       'split1_test_tss', 'split2_test_tss', 'split3_test_tss',\n",
       "       'split4_test_tss', 'mean_test_tss', 'std_test_tss', 'rank_test_tss',\n",
       "       'split0_test_hss', 'split1_test_hss', 'split2_test_hss',\n",
       "       'split3_test_hss', 'split4_test_hss', 'mean_test_hss', 'std_test_hss',\n",
       "       'rank_test_hss'],\n",
       "      dtype='object')"
      ]
     },
     "execution_count": 51,
     "metadata": {},
     "output_type": "execute_result"
    }
   ],
   "source": [
    "results_df.columns"
   ]
  },
  {
   "cell_type": "code",
   "execution_count": 52,
   "metadata": {},
   "outputs": [
    {
     "name": "stdout",
     "output_type": "stream",
     "text": [
      "   split0_test_tss  split1_test_tss  split2_test_tss  split3_test_tss  split4_test_tss  mean_test_tss  std_test_tss  rank_test_tss  split0_test_hss  split1_test_hss  split2_test_hss  split3_test_hss  split4_test_hss  mean_test_hss  std_test_hss  rank_test_hss\n",
      "0         0.771486         0.705179         0.764451         0.820711         0.766085       0.765583      0.036672              8         0.769334         0.705179         0.761301         0.820351         0.767227       0.764679      0.036549              8\n",
      "1         0.779462         0.713147         0.763210         0.832781         0.777860       0.773292      0.038254              5         0.777288         0.713147         0.761005         0.832343         0.779212       0.772599      0.038220              5\n",
      "2         0.771486         0.709163         0.756048         0.828699         0.766085       0.766296      0.038184              7         0.769334         0.709163         0.753243         0.828336         0.767227       0.765461      0.038184              7\n",
      "3         0.775347         0.717131         0.759008         0.836687         0.774100       0.772455      0.038414              6         0.773283         0.717131         0.756972         0.836320         0.775254       0.771792      0.038433              6\n",
      "4         0.796686         0.737052         0.773268         0.855867         0.787650       0.790105      0.038658              3         0.793458         0.737052         0.769448         0.856168         0.790787       0.789383      0.039025              3\n"
     ]
    }
   ],
   "source": [
    "print(results_df.iloc[:, 10:35].head().to_string())"
   ]
  },
  {
   "cell_type": "markdown",
   "metadata": {},
   "source": []
  },
  {
   "cell_type": "code",
   "execution_count": 53,
   "metadata": {},
   "outputs": [
    {
     "name": "stdout",
     "output_type": "stream",
     "text": [
      "   mean_fit_time  std_fit_time  mean_score_time  std_score_time param_estimator__criterion param_estimator__max_depth param_estimator__min_window_size param_estimator__n_estimators param_estimator__n_windows                                                                                                                                                        params  split0_test_tss  split1_test_tss  split2_test_tss  split3_test_tss  split4_test_tss  mean_test_tss  std_test_tss  rank_test_tss  split0_test_hss  split1_test_hss  split2_test_hss  split3_test_hss  split4_test_hss  mean_test_hss  std_test_hss  rank_test_hss\n",
      "0      12.682140      0.197545         1.197250        0.088139                    entropy                          5                                1                            50                          5     {'estimator__criterion': 'entropy', 'estimator__max_depth': 5, 'estimator__min_window_size': 1, 'estimator__n_estimators': 50, 'estimator__n_windows': 5}         0.771486         0.705179         0.764451         0.820711         0.766085       0.765583      0.036672              8         0.769334         0.705179         0.761301         0.820351         0.767227       0.764679      0.036549              8\n",
      "1      15.727269      1.098761         0.957016        0.360328                    entropy                          5                                1                            50                         10    {'estimator__criterion': 'entropy', 'estimator__max_depth': 5, 'estimator__min_window_size': 1, 'estimator__n_estimators': 50, 'estimator__n_windows': 10}         0.779462         0.713147         0.763210         0.832781         0.777860       0.773292      0.038254              5         0.777288         0.713147         0.761005         0.832343         0.779212       0.772599      0.038220              5\n",
      "2      30.612507      1.147838         0.992610        0.070405                    entropy                          5                                1                           100                          5    {'estimator__criterion': 'entropy', 'estimator__max_depth': 5, 'estimator__min_window_size': 1, 'estimator__n_estimators': 100, 'estimator__n_windows': 5}         0.771486         0.709163         0.756048         0.828699         0.766085       0.766296      0.038184              7         0.769334         0.709163         0.753243         0.828336         0.767227       0.765461      0.038184              7\n",
      "3      39.262058      0.882003         1.083804        0.092960                    entropy                          5                                1                           100                         10   {'estimator__criterion': 'entropy', 'estimator__max_depth': 5, 'estimator__min_window_size': 1, 'estimator__n_estimators': 100, 'estimator__n_windows': 10}         0.775347         0.717131         0.759008         0.836687         0.774100       0.772455      0.038414              6         0.773283         0.717131         0.756972         0.836320         0.775254       0.771792      0.038433              6\n",
      "4      21.298133      0.702418         0.599774        0.024184                    entropy                         10                                1                            50                          5    {'estimator__criterion': 'entropy', 'estimator__max_depth': 10, 'estimator__min_window_size': 1, 'estimator__n_estimators': 50, 'estimator__n_windows': 5}         0.796686         0.737052         0.773268         0.855867         0.787650       0.790105      0.038658              3         0.793458         0.737052         0.769448         0.856168         0.790787       0.789383      0.039025              3\n",
      "5      26.365490      1.126437         0.632805        0.040708                    entropy                         10                                1                            50                         10   {'estimator__criterion': 'entropy', 'estimator__max_depth': 10, 'estimator__min_window_size': 1, 'estimator__n_estimators': 50, 'estimator__n_windows': 10}         0.788964         0.745020         0.765693         0.871843         0.787154       0.791735      0.043143              2         0.785569         0.745020         0.761596         0.872149         0.790683       0.791003      0.043803              2\n",
      "6      41.701045      0.950964         1.088610        0.071140                    entropy                         10                                1                           100                          5   {'estimator__criterion': 'entropy', 'estimator__max_depth': 10, 'estimator__min_window_size': 1, 'estimator__n_estimators': 100, 'estimator__n_windows': 5}         0.792570         0.737052         0.769481         0.855867         0.787650       0.788524      0.038896              4         0.789460         0.737052         0.765521         0.856168         0.790787       0.787797      0.039389              4\n",
      "7      42.883382      6.714222         0.699950        0.159022                    entropy                         10                                1                           100                         10  {'estimator__criterion': 'entropy', 'estimator__max_depth': 10, 'estimator__min_window_size': 1, 'estimator__n_estimators': 100, 'estimator__n_windows': 10}         0.796686         0.745020         0.769481         0.872018         0.787650       0.794171      0.042742              1         0.793458         0.745020         0.765521         0.872171         0.790787       0.793392      0.043196              1\n"
     ]
    }
   ],
   "source": [
    "print(results_df.to_string())"
   ]
  },
  {
   "cell_type": "code",
   "execution_count": 59,
   "metadata": {},
   "outputs": [
    {
     "name": "stdout",
     "output_type": "stream",
     "text": [
      "Best Parameters: {'estimator__criterion': 'entropy', 'estimator__max_depth': 10, 'estimator__min_window_size': 1, 'estimator__n_estimators': 100, 'estimator__n_windows': 10}\n",
      "Best TSS: 0.7941708970328791\n",
      "Best HSS: 0.7933915356265968\n"
     ]
    }
   ],
   "source": [
    "\n",
    "print(\"Best Parameters:\", grid_search.best_params_)\n",
    "print(\"Best TSS:\", grid_search.best_score_)\n",
    "\n",
    "best_hss_score = results_df.loc[grid_search.best_index_, 'mean_test_hss']\n",
    "print(\"Best HSS:\", best_hss_score)"
   ]
  },
  {
   "cell_type": "code",
   "execution_count": 60,
   "metadata": {},
   "outputs": [
    {
     "data": {
      "text/plain": [
       "{'estimator__criterion': 'entropy',\n",
       " 'estimator__max_depth': 10,\n",
       " 'estimator__min_window_size': 1,\n",
       " 'estimator__n_estimators': 100,\n",
       " 'estimator__n_windows': 10}"
      ]
     },
     "execution_count": 60,
     "metadata": {},
     "output_type": "execute_result"
    }
   ],
   "source": [
    "grid_search.best_params_"
   ]
  },
  {
   "cell_type": "code",
   "execution_count": 61,
   "metadata": {},
   "outputs": [
    {
     "data": {
      "text/plain": [
       "0.7941708970328791"
      ]
     },
     "execution_count": 61,
     "metadata": {},
     "output_type": "execute_result"
    }
   ],
   "source": [
    "grid_search.best_score_"
   ]
  },
  {
   "cell_type": "code",
   "execution_count": 62,
   "metadata": {},
   "outputs": [],
   "source": [
    "best_model = grid_search.best_estimator_"
   ]
  },
  {
   "cell_type": "code",
   "execution_count": 64,
   "metadata": {},
   "outputs": [],
   "source": [
    "y_pred = best_model.predict(X_test)"
   ]
  },
  {
   "cell_type": "code",
   "execution_count": 69,
   "metadata": {},
   "outputs": [
    {
     "name": "stdout",
     "output_type": "stream",
     "text": [
      "Test TSS: 0.7560792169012502\n",
      "Test HSS: 0.14473901375525228\n",
      "Confusion Matrix:\n"
     ]
    },
    {
     "data": {
      "image/png": "[encoded data removed]",
      "text/plain": [
       "<Figure size 800x600 with 2 Axes>"
      ]
     },
     "metadata": {},
     "output_type": "display_data"
    },
    {
     "name": "stdout",
     "output_type": "stream",
     "text": [
      "Classification Report:\n",
      "              precision    recall  f1-score   support\n",
      "\n",
      "           0       1.00      0.86      0.92     87156\n",
      "           1       0.09      0.90      0.17      1402\n",
      "\n",
      "    accuracy                           0.86     88558\n",
      "   macro avg       0.55      0.88      0.55     88558\n",
      "weighted avg       0.98      0.86      0.91     88558\n",
      "\n"
     ]
    }
   ],
   "source": [
    "test_tss, test_hss = custom_scorer(y_test, y_pred)\n",
    "print(f\"Test TSS: {test_tss}\")\n",
    "print(f\"Test HSS: {test_hss}\")\n",
    "\n",
    "cm = confusion_matrix(y_test, y_pred)\n",
    "print(\"Confusion Matrix:\")\n",
    "#print(cm)\n",
    "\n",
    "plt.figure(figsize=(8, 6))\n",
    "sns.heatmap(cm, annot=True, fmt=\"d\", cmap=\"Blues\", annot_kws={\"size\": 16})\n",
    "plt.title(\"Confusion Matrix\")\n",
    "plt.xlabel(\"Predicted\")\n",
    "plt.ylabel(\"True\")\n",
    "plt.show()\n",
    "\n",
    "# Print the classification report\n",
    "report = classification_report(y_test, y_pred)\n",
    "print(\"Classification Report:\")\n",
    "print(report)"
   ]
  },
  {
   "cell_type": "markdown",
   "metadata": {},
   "source": [
    "**Stratified CV.**"
   ]
  },
  {
   "cell_type": "code",
   "execution_count": 79,
   "metadata": {},
   "outputs": [],
   "source": [
    "n_folds = 5\n",
    "skf = StratifiedKFold(n_splits=n_folds, shuffle=True, random_state=53)\n",
    "\n",
    "grid_search_stratified = GridSearchCV(\n",
    "    estimator=clf,\n",
    "    param_grid=param_grid,\n",
    "    scoring={'tss': tss_scorer, 'hss': hss_scorer}, \n",
    "    refit='tss',\n",
    "    cv=skf,  \n",
    "    n_jobs=-1,  \n",
    ")"
   ]
  },
  {
   "cell_type": "code",
   "execution_count": null,
   "metadata": {},
   "outputs": [],
   "source": []
  },
  {
   "cell_type": "code",
   "execution_count": 80,
   "metadata": {},
   "outputs": [
    {
     "data": {
      "text/html": [
       "<style>#sk-container-id-3 {color: black;}#sk-container-id-3 pre{padding: 0;}#sk-container-id-3 div.sk-toggleable {background-color: white;}#sk-container-id-3 label.sk-toggleable__label {cursor: pointer;display: block;width: 100%;margin-bottom: 0;padding: 0.3em;box-sizing: border-box;text-align: center;}#sk-container-id-3 label.sk-toggleable__label-arrow:before {content: \"▸\";float: left;margin-right: 0.25em;color: #696969;}#sk-container-id-3 label.sk-toggleable__label-arrow:hover:before {color: black;}#sk-container-id-3 div.sk-estimator:hover label.sk-toggleable__label-arrow:before {color: black;}#sk-container-id-3 div.sk-toggleable__content {max-height: 0;max-width: 0;overflow: hidden;text-align: left;background-color: #f0f8ff;}#sk-container-id-3 div.sk-toggleable__content pre {margin: 0.2em;color: black;border-radius: 0.25em;background-color: #f0f8ff;}#sk-container-id-3 input.sk-toggleable__control:checked~div.sk-toggleable__content {max-height: 200px;max-width: 100%;overflow: auto;}#sk-container-id-3 input.sk-toggleable__control:checked~label.sk-toggleable__label-arrow:before {content: \"▾\";}#sk-container-id-3 div.sk-estimator input.sk-toggleable__control:checked~label.sk-toggleable__label {background-color: #d4ebff;}#sk-container-id-3 div.sk-label input.sk-toggleable__control:checked~label.sk-toggleable__label {background-color: #d4ebff;}#sk-container-id-3 input.sk-hidden--visually {border: 0;clip: rect(1px 1px 1px 1px);clip: rect(1px, 1px, 1px, 1px);height: 1px;margin: -1px;overflow: hidden;padding: 0;position: absolute;width: 1px;}#sk-container-id-3 div.sk-estimator {font-family: monospace;background-color: #f0f8ff;border: 1px dotted black;border-radius: 0.25em;box-sizing: border-box;margin-bottom: 0.5em;}#sk-container-id-3 div.sk-estimator:hover {background-color: #d4ebff;}#sk-container-id-3 div.sk-parallel-item::after {content: \"\";width: 100%;border-bottom: 1px solid gray;flex-grow: 1;}#sk-container-id-3 div.sk-label:hover label.sk-toggleable__label {background-color: #d4ebff;}#sk-container-id-3 div.sk-serial::before {content: \"\";position: absolute;border-left: 1px solid gray;box-sizing: border-box;top: 0;bottom: 0;left: 50%;z-index: 0;}#sk-container-id-3 div.sk-serial {display: flex;flex-direction: column;align-items: center;background-color: white;padding-right: 0.2em;padding-left: 0.2em;position: relative;}#sk-container-id-3 div.sk-item {position: relative;z-index: 1;}#sk-container-id-3 div.sk-parallel {display: flex;align-items: stretch;justify-content: center;background-color: white;position: relative;}#sk-container-id-3 div.sk-item::before, #sk-container-id-3 div.sk-parallel-item::before {content: \"\";position: absolute;border-left: 1px solid gray;box-sizing: border-box;top: 0;bottom: 0;left: 50%;z-index: -1;}#sk-container-id-3 div.sk-parallel-item {display: flex;flex-direction: column;z-index: 1;position: relative;background-color: white;}#sk-container-id-3 div.sk-parallel-item:first-child::after {align-self: flex-end;width: 50%;}#sk-container-id-3 div.sk-parallel-item:last-child::after {align-self: flex-start;width: 50%;}#sk-container-id-3 div.sk-parallel-item:only-child::after {width: 0;}#sk-container-id-3 div.sk-dashed-wrapped {border: 1px dashed gray;margin: 0 0.4em 0.5em 0.4em;box-sizing: border-box;padding-bottom: 0.4em;background-color: white;}#sk-container-id-3 div.sk-label label {font-family: monospace;font-weight: bold;display: inline-block;line-height: 1.2em;}#sk-container-id-3 div.sk-label-container {text-align: center;}#sk-container-id-3 div.sk-container {/* jupyter's `normalize.less` sets `[hidden] { display: none; }` but bootstrap.min.css set `[hidden] { display: none !important; }` so we also need the `!important` here to be able to override the default hidden behavior on the sphinx rendered scikit-learn.org. See: https://github.com/scikit-learn/scikit-learn/issues/21755 */display: inline-block !important;position: relative;}#sk-container-id-3 div.sk-text-repr-fallback {display: none;}</style><div id=\"sk-container-id-3\" class=\"sk-top-container\"><div class=\"sk-text-repr-fallback\"><pre>GridSearchCV(cv=StratifiedKFold(n_splits=5, random_state=53, shuffle=True),\n",
       "             estimator=MultivariateClassifier(estimator=TimeSeriesForest(random_state=53)),\n",
       "             n_jobs=-1,\n",
       "             param_grid={&#x27;estimator__criterion&#x27;: [&#x27;entropy&#x27;],\n",
       "                         &#x27;estimator__max_depth&#x27;: [5, 10],\n",
       "                         &#x27;estimator__min_window_size&#x27;: [1],\n",
       "                         &#x27;estimator__n_estimators&#x27;: [50, 100],\n",
       "                         &#x27;estimator__n_windows&#x27;: [5, 10]},\n",
       "             refit=&#x27;tss&#x27;,\n",
       "             scoring={&#x27;hss&#x27;: make_scorer(&lt;lambda&gt;),\n",
       "                      &#x27;tss&#x27;: make_scorer(&lt;lambda&gt;)})</pre><b>In a Jupyter environment, please rerun this cell to show the HTML representation or trust the notebook. <br />On GitHub, the HTML representation is unable to render, please try loading this page with nbviewer.org.</b></div><div class=\"sk-container\" hidden><div class=\"sk-item sk-dashed-wrapped\"><div class=\"sk-label-container\"><div class=\"sk-label sk-toggleable\"><input class=\"sk-toggleable__control sk-hidden--visually\" id=\"sk-estimator-id-9\" type=\"checkbox\" ><label for=\"sk-estimator-id-9\" class=\"sk-toggleable__label sk-toggleable__label-arrow\">GridSearchCV</label><div class=\"sk-toggleable__content\"><pre>GridSearchCV(cv=StratifiedKFold(n_splits=5, random_state=53, shuffle=True),\n",
       "             estimator=MultivariateClassifier(estimator=TimeSeriesForest(random_state=53)),\n",
       "             n_jobs=-1,\n",
       "             param_grid={&#x27;estimator__criterion&#x27;: [&#x27;entropy&#x27;],\n",
       "                         &#x27;estimator__max_depth&#x27;: [5, 10],\n",
       "                         &#x27;estimator__min_window_size&#x27;: [1],\n",
       "                         &#x27;estimator__n_estimators&#x27;: [50, 100],\n",
       "                         &#x27;estimator__n_windows&#x27;: [5, 10]},\n",
       "             refit=&#x27;tss&#x27;,\n",
       "             scoring={&#x27;hss&#x27;: make_scorer(&lt;lambda&gt;),\n",
       "                      &#x27;tss&#x27;: make_scorer(&lt;lambda&gt;)})</pre></div></div></div><div class=\"sk-parallel\"><div class=\"sk-parallel-item\"><div class=\"sk-item\"><div class=\"sk-label-container\"><div class=\"sk-label sk-toggleable\"><input class=\"sk-toggleable__control sk-hidden--visually\" id=\"sk-estimator-id-10\" type=\"checkbox\" ><label for=\"sk-estimator-id-10\" class=\"sk-toggleable__label sk-toggleable__label-arrow\">estimator: MultivariateClassifier</label><div class=\"sk-toggleable__content\"><pre>MultivariateClassifier(estimator=TimeSeriesForest(random_state=53))</pre></div></div></div><div class=\"sk-serial\"><div class=\"sk-item sk-dashed-wrapped\"><div class=\"sk-parallel\"><div class=\"sk-parallel-item\"><div class=\"sk-item\"><div class=\"sk-label-container\"><div class=\"sk-label sk-toggleable\"><input class=\"sk-toggleable__control sk-hidden--visually\" id=\"sk-estimator-id-11\" type=\"checkbox\" ><label for=\"sk-estimator-id-11\" class=\"sk-toggleable__label sk-toggleable__label-arrow\">estimator: TimeSeriesForest</label><div class=\"sk-toggleable__content\"><pre>TimeSeriesForest(random_state=53)</pre></div></div></div><div class=\"sk-serial\"><div class=\"sk-item\"><div class=\"sk-estimator sk-toggleable\"><input class=\"sk-toggleable__control sk-hidden--visually\" id=\"sk-estimator-id-12\" type=\"checkbox\" ><label for=\"sk-estimator-id-12\" class=\"sk-toggleable__label sk-toggleable__label-arrow\">TimeSeriesForest</label><div class=\"sk-toggleable__content\"><pre>TimeSeriesForest(random_state=53)</pre></div></div></div></div></div></div></div></div></div></div></div></div></div></div></div>"
      ],
      "text/plain": [
       "GridSearchCV(cv=StratifiedKFold(n_splits=5, random_state=53, shuffle=True),\n",
       "             estimator=MultivariateClassifier(estimator=TimeSeriesForest(random_state=53)),\n",
       "             n_jobs=-1,\n",
       "             param_grid={'estimator__criterion': ['entropy'],\n",
       "                         'estimator__max_depth': [5, 10],\n",
       "                         'estimator__min_window_size': [1],\n",
       "                         'estimator__n_estimators': [50, 100],\n",
       "                         'estimator__n_windows': [5, 10]},\n",
       "             refit='tss',\n",
       "             scoring={'hss': make_scorer(<lambda>),\n",
       "                      'tss': make_scorer(<lambda>)})"
      ]
     },
     "execution_count": 80,
     "metadata": {},
     "output_type": "execute_result"
    }
   ],
   "source": [
    "\n",
    "grid_search_stratified.fit(X_train, y_train)"
   ]
  },
  {
   "cell_type": "code",
   "execution_count": null,
   "metadata": {},
   "outputs": [],
   "source": [
    "for fold_idx, (train_idx, test_idx) in enumerate(kf.split(X_train)):\n",
    "    print(f\"Fold {fold_idx + 1}:\")\n",
    "    print(f\"Training indices: {train_idx}\")\n",
    "    print(f\"Testing indices: {test_idx}\")\n",
    "    print()"
   ]
  },
  {
   "cell_type": "code",
   "execution_count": 81,
   "metadata": {},
   "outputs": [
    {
     "name": "stdout",
     "output_type": "stream",
     "text": [
      "Best Parameters: {'estimator__criterion': 'entropy', 'estimator__max_depth': 10, 'estimator__min_window_size': 1, 'estimator__n_estimators': 100, 'estimator__n_windows': 10}\n",
      "Best TSS: 0.8014374501992032\n",
      "Best HSS: 0.8014295884638039\n"
     ]
    }
   ],
   "source": [
    "results_stratified = pd.DataFrame(grid_search_stratified.cv_results_)\n",
    "\n",
    "print(\"Best Parameters:\", grid_search_stratified.best_params_)\n",
    "print(\"Best TSS:\", grid_search_stratified.best_score_)\n",
    "\n",
    "best_hss_score_strat = results_stratified.loc[grid_search_stratified.best_index_, 'mean_test_hss']\n",
    "print(\"Best HSS:\", best_hss_score_strat)"
   ]
  },
  {
   "cell_type": "code",
   "execution_count": 88,
   "metadata": {},
   "outputs": [
    {
     "data": {
      "text/plain": [
       "Index(['mean_fit_time', 'std_fit_time', 'mean_score_time', 'std_score_time',\n",
       "       'param_estimator__criterion', 'param_estimator__max_depth',\n",
       "       'param_estimator__min_window_size', 'param_estimator__n_estimators',\n",
       "       'param_estimator__n_windows', 'params', 'split0_test_tss',\n",
       "       'split1_test_tss', 'split2_test_tss', 'split3_test_tss',\n",
       "       'split4_test_tss', 'mean_test_tss', 'std_test_tss', 'rank_test_tss',\n",
       "       'split0_test_hss', 'split1_test_hss', 'split2_test_hss',\n",
       "       'split3_test_hss', 'split4_test_hss', 'mean_test_hss', 'std_test_hss',\n",
       "       'rank_test_hss'],\n",
       "      dtype='object')"
      ]
     },
     "execution_count": 88,
     "metadata": {},
     "output_type": "execute_result"
    }
   ],
   "source": [
    "results_stratified.columns"
   ]
  },
  {
   "cell_type": "code",
   "execution_count": null,
   "metadata": {},
   "outputs": [],
   "source": []
  },
  {
   "cell_type": "code",
   "execution_count": null,
   "metadata": {},
   "outputs": [],
   "source": []
  },
  {
   "cell_type": "code",
   "execution_count": 84,
   "metadata": {},
   "outputs": [],
   "source": [
    "best_model_strat = grid_search_stratified.best_estimator_\n",
    "y_pred_strat = best_model_strat.predict(X_test)"
   ]
  },
  {
   "cell_type": "code",
   "execution_count": 85,
   "metadata": {},
   "outputs": [
    {
     "name": "stdout",
     "output_type": "stream",
     "text": [
      "Test TSS: 0.760001152932918\n",
      "Test HSS: 0.1421198285791264\n",
      "Confusion Matrix:\n"
     ]
    },
    {
     "data": {
      "image/png": "[encoded data removed]",
      "text/plain": [
       "<Figure size 800x600 with 2 Axes>"
      ]
     },
     "metadata": {},
     "output_type": "display_data"
    },
    {
     "name": "stdout",
     "output_type": "stream",
     "text": [
      "Classification Report:\n",
      "              precision    recall  f1-score   support\n",
      "\n",
      "           0       1.00      0.86      0.92     87156\n",
      "           1       0.09      0.90      0.17      1402\n",
      "\n",
      "    accuracy                           0.86     88558\n",
      "   macro avg       0.55      0.88      0.54     88558\n",
      "weighted avg       0.98      0.86      0.91     88558\n",
      "\n"
     ]
    }
   ],
   "source": [
    "strat_tss, strat_hss = custom_scorer(y_test, y_pred_strat)\n",
    "print(f\"Test TSS: {strat_tss}\")\n",
    "print(f\"Test HSS: {strat_hss}\")\n",
    "\n",
    "cm_strat = confusion_matrix(y_test, y_pred_strat)\n",
    "print(\"Confusion Matrix:\")\n",
    "#print(cm)\n",
    "\n",
    "plt.figure(figsize=(8, 6))\n",
    "sns.heatmap(cm, annot=True, fmt=\"d\", cmap=\"Blues\", annot_kws={\"size\": 16})\n",
    "plt.title(\"Confusion Matrix\")\n",
    "plt.xlabel(\"Predicted\")\n",
    "plt.ylabel(\"True\")\n",
    "plt.show()\n",
    "\n",
    "# Print the classification report\n",
    "report_strat = classification_report(y_test, y_pred_strat)\n",
    "print(\"Classification Report:\")\n",
    "print(report_strat)"
   ]
  },
  {
   "cell_type": "code",
   "execution_count": 94,
   "metadata": {},
   "outputs": [
    {
     "data": {
      "text/plain": [
       "['split0_test_hss',\n",
       " 'split1_test_hss',\n",
       " 'split2_test_hss',\n",
       " 'split3_test_hss',\n",
       " 'split4_test_hss']"
      ]
     },
     "execution_count": 94,
     "metadata": {},
     "output_type": "execute_result"
    }
   ],
   "source": [
    "tss_columns_kfold = [f'split{i}_test_tss' for i in range(5)]  # Assuming 5 splits\n",
    "hss_columns_kfold = [f'split{i}_test_hss' for i in range(5)]\n",
    "\n",
    "# Assuming you have the DataFrame results_stratified for Stratified K-Fold\n",
    "# Extract TSS and HSS scores for each split\n",
    "tss_columns_stratified = [f'split{i}_test_tss' for i in range(5)]  # Assuming 5 splits\n",
    "hss_columns_stratified = [f'split{i}_test_hss' for i in range(5)]\n",
    "\n",
    "\n",
    "hss_columns_stratified\n"
   ]
  },
  {
   "cell_type": "code",
   "execution_count": 97,
   "metadata": {},
   "outputs": [
    {
     "data": {
      "text/plain": [
       "split0_test_tss    0.784086\n",
       "split1_test_tss    0.726096\n",
       "split2_test_tss    0.765080\n",
       "split3_test_tss    0.846809\n",
       "split4_test_tss    0.779279\n",
       "dtype: float64"
      ]
     },
     "execution_count": 97,
     "metadata": {},
     "output_type": "execute_result"
    }
   ],
   "source": [
    "# Combine scores across splits\n",
    "tss_scores_kfold = results_df[tss_columns_kfold].mean(axis=0)\n",
    "hss_scores_kfold = results_df[hss_columns_kfold].mean(axis=0)\n",
    "\n",
    "tss_scores_stratified = results_stratified[tss_columns_stratified].mean(axis=0)\n",
    "hss_scores_stratified = results_stratified[hss_columns_stratified].mean(axis=0)\n",
    "\n",
    "\n",
    "tss_scores_kfold"
   ]
  },
  {
   "cell_type": "code",
   "execution_count": 101,
   "metadata": {},
   "outputs": [
    {
     "data": {
      "image/png": "[encoded data removed]",
      "text/plain": [
       "<Figure size 1200x600 with 2 Axes>"
      ]
     },
     "metadata": {},
     "output_type": "display_data"
    }
   ],
   "source": [
    "splits_kfold = np.arange(1, len(tss_scores_kfold) + 1)\n",
    "splits_stratified = np.arange(1, len(tss_scores_stratified) + 1)\n",
    "\n",
    "plt.figure(figsize=(12, 6))\n",
    "\n",
    "plt.subplot(1, 2, 1)\n",
    "plt.plot(splits_kfold, tss_scores_kfold, label='K-Fold', marker='o')\n",
    "plt.plot(splits_stratified, tss_scores_stratified, label='Stratified K-Fold', marker='o')\n",
    "plt.title('TSS Scores Across Splits')\n",
    "plt.xlabel('Split')\n",
    "plt.ylabel('TSS')\n",
    "plt.legend()\n",
    "plt.ylim([0.5, 1]) \n",
    "\n",
    "# Plot HSS scores\n",
    "plt.subplot(1, 2, 2)\n",
    "plt.plot(splits_kfold, hss_scores_kfold, label='K-Fold', marker='o')\n",
    "plt.plot(splits_stratified, hss_scores_stratified, label='Stratified K-Fold', marker='o')\n",
    "plt.title('HSS Scores Across Splits')\n",
    "plt.xlabel('Split')\n",
    "plt.ylabel('HSS')\n",
    "plt.legend()\n",
    "plt.ylim([0.5, 1]) \n",
    "\n",
    "plt.tight_layout()\n",
    "plt.show()"
   ]
  },
  {
   "cell_type": "code",
   "execution_count": 102,
   "metadata": {},
   "outputs": [
    {
     "ename": "InvalidParameterError",
     "evalue": "The 'y_true' parameter of confusion_matrix must be an array-like. Got 1 instead.",
     "output_type": "error",
     "traceback": [
      "\u001b[0;31m---------------------------------------------------------------------------\u001b[0m",
      "\u001b[0;31mInvalidParameterError\u001b[0m                     Traceback (most recent call last)",
      "\u001b[1;32m/home/afrid/Documents/NASA/dataverse_files/Multivariate_classifier.ipynb Cell 72\u001b[0m line \u001b[0;36m1\n\u001b[1;32m     <a href='vscode-notebook-cell:/home/afrid/Documents/NASA/dataverse_files/Multivariate_classifier.ipynb#Y134sZmlsZQ%3D%3D?line=10'>11</a>\u001b[0m \u001b[39m# Assuming y_true_kfold, y_pred_kfold, y_true_stratified, y_pred_stratified are defined for each fold\u001b[39;00m\n\u001b[1;32m     <a href='vscode-notebook-cell:/home/afrid/Documents/NASA/dataverse_files/Multivariate_classifier.ipynb#Y134sZmlsZQ%3D%3D?line=11'>12</a>\u001b[0m \n\u001b[1;32m     <a href='vscode-notebook-cell:/home/afrid/Documents/NASA/dataverse_files/Multivariate_classifier.ipynb#Y134sZmlsZQ%3D%3D?line=12'>13</a>\u001b[0m \u001b[39m# Plot confusion matrices for each fold\u001b[39;00m\n\u001b[1;32m     <a href='vscode-notebook-cell:/home/afrid/Documents/NASA/dataverse_files/Multivariate_classifier.ipynb#Y134sZmlsZQ%3D%3D?line=13'>14</a>\u001b[0m \u001b[39mfor\u001b[39;00m i \u001b[39min\u001b[39;00m \u001b[39mrange\u001b[39m(\u001b[39mlen\u001b[39m(y_test)):\n\u001b[0;32m---> <a href='vscode-notebook-cell:/home/afrid/Documents/NASA/dataverse_files/Multivariate_classifier.ipynb#Y134sZmlsZQ%3D%3D?line=14'>15</a>\u001b[0m     plot_confusion(y_test[i], y_pred[i], method\u001b[39m=\u001b[39m\u001b[39m'\u001b[39m\u001b[39mK-Fold, Split \u001b[39m\u001b[39m{}\u001b[39;00m\u001b[39m'\u001b[39m\u001b[39m.\u001b[39mformat(i \u001b[39m+\u001b[39m \u001b[39m1\u001b[39m))\n\u001b[1;32m     <a href='vscode-notebook-cell:/home/afrid/Documents/NASA/dataverse_files/Multivariate_classifier.ipynb#Y134sZmlsZQ%3D%3D?line=16'>17</a>\u001b[0m \u001b[39mfor\u001b[39;00m i \u001b[39min\u001b[39;00m \u001b[39mrange\u001b[39m(\u001b[39mlen\u001b[39m(y_test)):\n\u001b[1;32m     <a href='vscode-notebook-cell:/home/afrid/Documents/NASA/dataverse_files/Multivariate_classifier.ipynb#Y134sZmlsZQ%3D%3D?line=17'>18</a>\u001b[0m     plot_confusion(y_test[i], y_pred_strat[i], method\u001b[39m=\u001b[39m\u001b[39m'\u001b[39m\u001b[39mStratified K-Fold, Split \u001b[39m\u001b[39m{}\u001b[39;00m\u001b[39m'\u001b[39m\u001b[39m.\u001b[39mformat(i \u001b[39m+\u001b[39m \u001b[39m1\u001b[39m))\n",
      "\u001b[1;32m/home/afrid/Documents/NASA/dataverse_files/Multivariate_classifier.ipynb Cell 72\u001b[0m line \u001b[0;36m3\n\u001b[1;32m      <a href='vscode-notebook-cell:/home/afrid/Documents/NASA/dataverse_files/Multivariate_classifier.ipynb#Y134sZmlsZQ%3D%3D?line=1'>2</a>\u001b[0m \u001b[39mdef\u001b[39;00m \u001b[39mplot_confusion\u001b[39m(y_true, y_pred, method):\n\u001b[0;32m----> <a href='vscode-notebook-cell:/home/afrid/Documents/NASA/dataverse_files/Multivariate_classifier.ipynb#Y134sZmlsZQ%3D%3D?line=2'>3</a>\u001b[0m     cm \u001b[39m=\u001b[39m confusion_matrix(y_true, y_pred)\n\u001b[1;32m      <a href='vscode-notebook-cell:/home/afrid/Documents/NASA/dataverse_files/Multivariate_classifier.ipynb#Y134sZmlsZQ%3D%3D?line=3'>4</a>\u001b[0m     plt\u001b[39m.\u001b[39mfigure(figsize\u001b[39m=\u001b[39m(\u001b[39m6\u001b[39m, \u001b[39m6\u001b[39m))\n\u001b[1;32m      <a href='vscode-notebook-cell:/home/afrid/Documents/NASA/dataverse_files/Multivariate_classifier.ipynb#Y134sZmlsZQ%3D%3D?line=4'>5</a>\u001b[0m     sns\u001b[39m.\u001b[39mheatmap(cm, annot\u001b[39m=\u001b[39m\u001b[39mTrue\u001b[39;00m, fmt\u001b[39m=\u001b[39m\u001b[39m\"\u001b[39m\u001b[39md\u001b[39m\u001b[39m\"\u001b[39m, cmap\u001b[39m=\u001b[39m\u001b[39m\"\u001b[39m\u001b[39mBlues\u001b[39m\u001b[39m\"\u001b[39m, cbar\u001b[39m=\u001b[39m\u001b[39mFalse\u001b[39;00m)\n",
      "File \u001b[0;32m~/anaconda3/lib/python3.11/site-packages/sklearn/utils/_param_validation.py:201\u001b[0m, in \u001b[0;36mvalidate_params.<locals>.decorator.<locals>.wrapper\u001b[0;34m(*args, **kwargs)\u001b[0m\n\u001b[1;32m    198\u001b[0m to_ignore \u001b[39m+\u001b[39m\u001b[39m=\u001b[39m [\u001b[39m\"\u001b[39m\u001b[39mself\u001b[39m\u001b[39m\"\u001b[39m, \u001b[39m\"\u001b[39m\u001b[39mcls\u001b[39m\u001b[39m\"\u001b[39m]\n\u001b[1;32m    199\u001b[0m params \u001b[39m=\u001b[39m {k: v \u001b[39mfor\u001b[39;00m k, v \u001b[39min\u001b[39;00m params\u001b[39m.\u001b[39marguments\u001b[39m.\u001b[39mitems() \u001b[39mif\u001b[39;00m k \u001b[39mnot\u001b[39;00m \u001b[39min\u001b[39;00m to_ignore}\n\u001b[0;32m--> 201\u001b[0m validate_parameter_constraints(\n\u001b[1;32m    202\u001b[0m     parameter_constraints, params, caller_name\u001b[39m=\u001b[39mfunc\u001b[39m.\u001b[39m\u001b[39m__qualname__\u001b[39m\n\u001b[1;32m    203\u001b[0m )\n\u001b[1;32m    205\u001b[0m \u001b[39mtry\u001b[39;00m:\n\u001b[1;32m    206\u001b[0m     \u001b[39mwith\u001b[39;00m config_context(\n\u001b[1;32m    207\u001b[0m         skip_parameter_validation\u001b[39m=\u001b[39m(\n\u001b[1;32m    208\u001b[0m             prefer_skip_nested_validation \u001b[39mor\u001b[39;00m global_skip_validation\n\u001b[1;32m    209\u001b[0m         )\n\u001b[1;32m    210\u001b[0m     ):\n",
      "File \u001b[0;32m~/anaconda3/lib/python3.11/site-packages/sklearn/utils/_param_validation.py:95\u001b[0m, in \u001b[0;36mvalidate_parameter_constraints\u001b[0;34m(parameter_constraints, params, caller_name)\u001b[0m\n\u001b[1;32m     89\u001b[0m \u001b[39melse\u001b[39;00m:\n\u001b[1;32m     90\u001b[0m     constraints_str \u001b[39m=\u001b[39m (\n\u001b[1;32m     91\u001b[0m         \u001b[39mf\u001b[39m\u001b[39m\"\u001b[39m\u001b[39m{\u001b[39;00m\u001b[39m'\u001b[39m\u001b[39m, \u001b[39m\u001b[39m'\u001b[39m\u001b[39m.\u001b[39mjoin([\u001b[39mstr\u001b[39m(c)\u001b[39m \u001b[39m\u001b[39mfor\u001b[39;00m\u001b[39m \u001b[39mc\u001b[39m \u001b[39m\u001b[39min\u001b[39;00m\u001b[39m \u001b[39mconstraints[:\u001b[39m-\u001b[39m\u001b[39m1\u001b[39m]])\u001b[39m}\u001b[39;00m\u001b[39m or\u001b[39m\u001b[39m\"\u001b[39m\n\u001b[1;32m     92\u001b[0m         \u001b[39mf\u001b[39m\u001b[39m\"\u001b[39m\u001b[39m \u001b[39m\u001b[39m{\u001b[39;00mconstraints[\u001b[39m-\u001b[39m\u001b[39m1\u001b[39m]\u001b[39m}\u001b[39;00m\u001b[39m\"\u001b[39m\n\u001b[1;32m     93\u001b[0m     )\n\u001b[0;32m---> 95\u001b[0m \u001b[39mraise\u001b[39;00m InvalidParameterError(\n\u001b[1;32m     96\u001b[0m     \u001b[39mf\u001b[39m\u001b[39m\"\u001b[39m\u001b[39mThe \u001b[39m\u001b[39m{\u001b[39;00mparam_name\u001b[39m!r}\u001b[39;00m\u001b[39m parameter of \u001b[39m\u001b[39m{\u001b[39;00mcaller_name\u001b[39m}\u001b[39;00m\u001b[39m must be\u001b[39m\u001b[39m\"\u001b[39m\n\u001b[1;32m     97\u001b[0m     \u001b[39mf\u001b[39m\u001b[39m\"\u001b[39m\u001b[39m \u001b[39m\u001b[39m{\u001b[39;00mconstraints_str\u001b[39m}\u001b[39;00m\u001b[39m. Got \u001b[39m\u001b[39m{\u001b[39;00mparam_val\u001b[39m!r}\u001b[39;00m\u001b[39m instead.\u001b[39m\u001b[39m\"\u001b[39m\n\u001b[1;32m     98\u001b[0m )\n",
      "\u001b[0;31mInvalidParameterError\u001b[0m: The 'y_true' parameter of confusion_matrix must be an array-like. Got 1 instead."
     ]
    }
   ],
   "source": [
    "# Function to plot confusion matrix\n",
    "def plot_confusion(y_true, y_pred, method):\n",
    "    cm = confusion_matrix(y_true, y_pred)\n",
    "    plt.figure(figsize=(6, 6))\n",
    "    sns.heatmap(cm, annot=True, fmt=\"d\", cmap=\"Blues\", cbar=False)\n",
    "    plt.title(f'Confusion Matrix - {method}')\n",
    "    plt.xlabel('Predicted')\n",
    "    plt.ylabel('True')\n",
    "    plt.show()\n",
    "\n",
    "# Assuming y_true_kfold, y_pred_kfold, y_true_stratified, y_pred_stratified are defined for each fold\n",
    "\n",
    "# Plot confusion matrices for each fold\n",
    "for i in range(len(y_test)):\n",
    "    plot_confusion(y_test[i], y_pred[i], method='K-Fold, Split {}'.format(i + 1))\n",
    "\n",
    "for i in range(len(y_test)):\n",
    "    plot_confusion(y_test[i], y_pred_strat[i], method='Stratified K-Fold, Split {}'.format(i + 1))\n"
   ]
  },
  {
   "cell_type": "code",
   "execution_count": null,
   "metadata": {},
   "outputs": [],
   "source": []
  },
  {
   "cell_type": "code",
   "execution_count": null,
   "metadata": {},
   "outputs": [],
   "source": []
  },
  {
   "cell_type": "code",
   "execution_count": null,
   "metadata": {},
   "outputs": [],
   "source": []
  },
  {
   "cell_type": "code",
   "execution_count": null,
   "metadata": {},
   "outputs": [],
   "source": []
  },
  {
   "cell_type": "code",
   "execution_count": 57,
   "metadata": {},
   "outputs": [
    {
     "ename": "KeyError",
     "evalue": "\"['mean_test_score'] not in index\"",
     "output_type": "error",
     "traceback": [
      "\u001b[0;31m---------------------------------------------------------------------------\u001b[0m",
      "\u001b[0;31mKeyError\u001b[0m                                  Traceback (most recent call last)",
      "\u001b[1;32m/home/afrid/Documents/NASA/dataverse_files/Multivariate_classifier.ipynb Cell 54\u001b[0m line \u001b[0;36m1\n\u001b[0;32m----> <a href='vscode-notebook-cell:/home/afrid/Documents/NASA/dataverse_files/Multivariate_classifier.ipynb#Y102sZmlsZQ%3D%3D?line=0'>1</a>\u001b[0m heatmap_data \u001b[39m=\u001b[39m results_df[[\u001b[39m'\u001b[39m\u001b[39mparam_estimator__criterion\u001b[39m\u001b[39m'\u001b[39m, \u001b[39m'\u001b[39m\u001b[39mparam_estimator__max_depth\u001b[39m\u001b[39m'\u001b[39m,\n\u001b[1;32m      <a href='vscode-notebook-cell:/home/afrid/Documents/NASA/dataverse_files/Multivariate_classifier.ipynb#Y102sZmlsZQ%3D%3D?line=1'>2</a>\u001b[0m                             \u001b[39m'\u001b[39m\u001b[39mparam_estimator__min_window_size\u001b[39m\u001b[39m'\u001b[39m, \u001b[39m'\u001b[39m\u001b[39mparam_estimator__n_estimators\u001b[39m\u001b[39m'\u001b[39m,\n\u001b[1;32m      <a href='vscode-notebook-cell:/home/afrid/Documents/NASA/dataverse_files/Multivariate_classifier.ipynb#Y102sZmlsZQ%3D%3D?line=2'>3</a>\u001b[0m                             \u001b[39m'\u001b[39m\u001b[39mparam_estimator__n_windows\u001b[39m\u001b[39m'\u001b[39m, \u001b[39m'\u001b[39m\u001b[39mmean_test_score\u001b[39m\u001b[39m'\u001b[39m]]\n\u001b[1;32m      <a href='vscode-notebook-cell:/home/afrid/Documents/NASA/dataverse_files/Multivariate_classifier.ipynb#Y102sZmlsZQ%3D%3D?line=5'>6</a>\u001b[0m heatmap_data_pivot \u001b[39m=\u001b[39m heatmap_data\u001b[39m.\u001b[39mpivot_table(index\u001b[39m=\u001b[39m[\u001b[39m'\u001b[39m\u001b[39mparam_estimator__max_depth\u001b[39m\u001b[39m'\u001b[39m, \u001b[39m'\u001b[39m\u001b[39mparam_estimator__n_estimators\u001b[39m\u001b[39m'\u001b[39m],\n\u001b[1;32m      <a href='vscode-notebook-cell:/home/afrid/Documents/NASA/dataverse_files/Multivariate_classifier.ipynb#Y102sZmlsZQ%3D%3D?line=6'>7</a>\u001b[0m                                               columns\u001b[39m=\u001b[39m[\u001b[39m'\u001b[39m\u001b[39mparam_estimator__min_window_size\u001b[39m\u001b[39m'\u001b[39m, \u001b[39m'\u001b[39m\u001b[39mparam_estimator__n_windows\u001b[39m\u001b[39m'\u001b[39m],\n\u001b[1;32m      <a href='vscode-notebook-cell:/home/afrid/Documents/NASA/dataverse_files/Multivariate_classifier.ipynb#Y102sZmlsZQ%3D%3D?line=7'>8</a>\u001b[0m                                               values\u001b[39m=\u001b[39m\u001b[39m'\u001b[39m\u001b[39mmean_test_score\u001b[39m\u001b[39m'\u001b[39m, aggfunc\u001b[39m=\u001b[39m\u001b[39m'\u001b[39m\u001b[39mmean\u001b[39m\u001b[39m'\u001b[39m)\n\u001b[1;32m     <a href='vscode-notebook-cell:/home/afrid/Documents/NASA/dataverse_files/Multivariate_classifier.ipynb#Y102sZmlsZQ%3D%3D?line=10'>11</a>\u001b[0m plt\u001b[39m.\u001b[39mfigure(figsize\u001b[39m=\u001b[39m(\u001b[39m12\u001b[39m, \u001b[39m8\u001b[39m))\n",
      "File \u001b[0;32m~/anaconda3/lib/python3.11/site-packages/pandas/core/frame.py:3813\u001b[0m, in \u001b[0;36mDataFrame.__getitem__\u001b[0;34m(self, key)\u001b[0m\n\u001b[1;32m   3811\u001b[0m     \u001b[39mif\u001b[39;00m is_iterator(key):\n\u001b[1;32m   3812\u001b[0m         key \u001b[39m=\u001b[39m \u001b[39mlist\u001b[39m(key)\n\u001b[0;32m-> 3813\u001b[0m     indexer \u001b[39m=\u001b[39m \u001b[39mself\u001b[39m\u001b[39m.\u001b[39mcolumns\u001b[39m.\u001b[39m_get_indexer_strict(key, \u001b[39m\"\u001b[39m\u001b[39mcolumns\u001b[39m\u001b[39m\"\u001b[39m)[\u001b[39m1\u001b[39m]\n\u001b[1;32m   3815\u001b[0m \u001b[39m# take() does not accept boolean indexers\u001b[39;00m\n\u001b[1;32m   3816\u001b[0m \u001b[39mif\u001b[39;00m \u001b[39mgetattr\u001b[39m(indexer, \u001b[39m\"\u001b[39m\u001b[39mdtype\u001b[39m\u001b[39m\"\u001b[39m, \u001b[39mNone\u001b[39;00m) \u001b[39m==\u001b[39m \u001b[39mbool\u001b[39m:\n",
      "File \u001b[0;32m~/anaconda3/lib/python3.11/site-packages/pandas/core/indexes/base.py:6070\u001b[0m, in \u001b[0;36mIndex._get_indexer_strict\u001b[0;34m(self, key, axis_name)\u001b[0m\n\u001b[1;32m   6067\u001b[0m \u001b[39melse\u001b[39;00m:\n\u001b[1;32m   6068\u001b[0m     keyarr, indexer, new_indexer \u001b[39m=\u001b[39m \u001b[39mself\u001b[39m\u001b[39m.\u001b[39m_reindex_non_unique(keyarr)\n\u001b[0;32m-> 6070\u001b[0m \u001b[39mself\u001b[39m\u001b[39m.\u001b[39m_raise_if_missing(keyarr, indexer, axis_name)\n\u001b[1;32m   6072\u001b[0m keyarr \u001b[39m=\u001b[39m \u001b[39mself\u001b[39m\u001b[39m.\u001b[39mtake(indexer)\n\u001b[1;32m   6073\u001b[0m \u001b[39mif\u001b[39;00m \u001b[39misinstance\u001b[39m(key, Index):\n\u001b[1;32m   6074\u001b[0m     \u001b[39m# GH 42790 - Preserve name from an Index\u001b[39;00m\n",
      "File \u001b[0;32m~/anaconda3/lib/python3.11/site-packages/pandas/core/indexes/base.py:6133\u001b[0m, in \u001b[0;36mIndex._raise_if_missing\u001b[0;34m(self, key, indexer, axis_name)\u001b[0m\n\u001b[1;32m   6130\u001b[0m     \u001b[39mraise\u001b[39;00m \u001b[39mKeyError\u001b[39;00m(\u001b[39mf\u001b[39m\u001b[39m\"\u001b[39m\u001b[39mNone of [\u001b[39m\u001b[39m{\u001b[39;00mkey\u001b[39m}\u001b[39;00m\u001b[39m] are in the [\u001b[39m\u001b[39m{\u001b[39;00maxis_name\u001b[39m}\u001b[39;00m\u001b[39m]\u001b[39m\u001b[39m\"\u001b[39m)\n\u001b[1;32m   6132\u001b[0m not_found \u001b[39m=\u001b[39m \u001b[39mlist\u001b[39m(ensure_index(key)[missing_mask\u001b[39m.\u001b[39mnonzero()[\u001b[39m0\u001b[39m]]\u001b[39m.\u001b[39munique())\n\u001b[0;32m-> 6133\u001b[0m \u001b[39mraise\u001b[39;00m \u001b[39mKeyError\u001b[39;00m(\u001b[39mf\u001b[39m\u001b[39m\"\u001b[39m\u001b[39m{\u001b[39;00mnot_found\u001b[39m}\u001b[39;00m\u001b[39m not in index\u001b[39m\u001b[39m\"\u001b[39m)\n",
      "\u001b[0;31mKeyError\u001b[0m: \"['mean_test_score'] not in index\""
     ]
    }
   ],
   "source": [
    "heatmap_data = results_df[['param_estimator__criterion', 'param_estimator__max_depth',\n",
    "                            'param_estimator__min_window_size', 'param_estimator__n_estimators',\n",
    "                            'param_estimator__n_windows', 'mean_test_score']]\n",
    "\n",
    "\n",
    "heatmap_data_pivot = heatmap_data.pivot_table(index=['param_estimator__max_depth', 'param_estimator__n_estimators'],\n",
    "                                              columns=['param_estimator__min_window_size', 'param_estimator__n_windows'],\n",
    "                                              values='mean_test_score', aggfunc='mean')\n",
    "\n",
    "\n",
    "plt.figure(figsize=(12, 8))\n",
    "sns.heatmap(heatmap_data_pivot, annot=True, cmap='RdBu_r', fmt=\".3f\", vmin=-1, vmax=1, cbar_kws={'label': 'Mean TSS Score'})\n",
    "plt.title('TSS Score Across Parameter Combinations')\n",
    "plt.show()\n"
   ]
  },
  {
   "cell_type": "code",
   "execution_count": 58,
   "metadata": {},
   "outputs": [
    {
     "ename": "KeyError",
     "evalue": "'mean_test_score'",
     "output_type": "error",
     "traceback": [
      "\u001b[0;31m---------------------------------------------------------------------------\u001b[0m",
      "\u001b[0;31mKeyError\u001b[0m                                  Traceback (most recent call last)",
      "\u001b[1;32m/home/afrid/Documents/NASA/dataverse_files/Multivariate_classifier.ipynb Cell 55\u001b[0m line \u001b[0;36m2\n\u001b[1;32m      <a href='vscode-notebook-cell:/home/afrid/Documents/NASA/dataverse_files/Multivariate_classifier.ipynb#Y103sZmlsZQ%3D%3D?line=0'>1</a>\u001b[0m param_combinations \u001b[39m=\u001b[39m grid_search\u001b[39m.\u001b[39mcv_results_[\u001b[39m'\u001b[39m\u001b[39mparams\u001b[39m\u001b[39m'\u001b[39m]\n\u001b[0;32m----> <a href='vscode-notebook-cell:/home/afrid/Documents/NASA/dataverse_files/Multivariate_classifier.ipynb#Y103sZmlsZQ%3D%3D?line=1'>2</a>\u001b[0m tss_values \u001b[39m=\u001b[39m grid_search\u001b[39m.\u001b[39mcv_results_[\u001b[39m'\u001b[39m\u001b[39mmean_test_score\u001b[39m\u001b[39m'\u001b[39m]\n\u001b[1;32m      <a href='vscode-notebook-cell:/home/afrid/Documents/NASA/dataverse_files/Multivariate_classifier.ipynb#Y103sZmlsZQ%3D%3D?line=3'>4</a>\u001b[0m n_windows_values \u001b[39m=\u001b[39m [comb[\u001b[39m'\u001b[39m\u001b[39mestimator__n_windows\u001b[39m\u001b[39m'\u001b[39m] \u001b[39mfor\u001b[39;00m comb \u001b[39min\u001b[39;00m param_combinations]\n\u001b[1;32m      <a href='vscode-notebook-cell:/home/afrid/Documents/NASA/dataverse_files/Multivariate_classifier.ipynb#Y103sZmlsZQ%3D%3D?line=4'>5</a>\u001b[0m n_estimators_values \u001b[39m=\u001b[39m [comb[\u001b[39m'\u001b[39m\u001b[39mestimator__n_estimators\u001b[39m\u001b[39m'\u001b[39m] \u001b[39mfor\u001b[39;00m comb \u001b[39min\u001b[39;00m param_combinations]\n",
      "\u001b[0;31mKeyError\u001b[0m: 'mean_test_score'"
     ]
    }
   ],
   "source": [
    "param_combinations = grid_search.cv_results_['params']\n",
    "tss_values = grid_search.cv_results_['mean_test_score']\n",
    "\n",
    "n_windows_values = [comb['estimator__n_windows'] for comb in param_combinations]\n",
    "n_estimators_values = [comb['estimator__n_estimators'] for comb in param_combinations]\n",
    "\n",
    "labels = [f\"N Windows: {n_windows}, N Estimators: {n_estimators}, TSS: {tss}\" \n",
    "          for n_windows, n_estimators, tss in zip(n_windows_values, n_estimators_values, tss_values)]\n",
    "\n",
    "fig = go.Figure(data=[go.Scatter3d(x=n_windows_values, y=n_estimators_values, z=tss_values, mode='markers',\n",
    "                                   marker=dict(color=tss_values, colorscale='Viridis', colorbar=dict(title='TSS')),\n",
    "                                   text=labels, hoverinfo='text')])\n",
    "\n",
    "fig.update_layout(scene=dict(xaxis_title='N Windows', yaxis_title='N Estimators', zaxis_title='TSS'))\n",
    "\n",
    "fig.show()"
   ]
  },
  {
   "cell_type": "code",
   "execution_count": 88,
   "metadata": {},
   "outputs": [],
   "source": [
    "def hss_score(y_true, y_pred):\n",
    "    cm = confusion_matrix(y_true, y_pred)\n",
    "    TN, FP, FN, TP = cm.ravel()\n",
    "    P = TP + FN\n",
    "    N = FP + TN\n",
    "    return (2 * ((TP * TN) - (FN * FP))) / ( (P * (FN + TN)) + (N * (TP + FP)) )"
   ]
  },
  {
   "cell_type": "code",
   "execution_count": 94,
   "metadata": {},
   "outputs": [
    {
     "name": "stdout",
     "output_type": "stream",
     "text": [
      "Parameters: {'n_estimators': 100, 'n_windows': 5, 'max_depth': None}\n",
      "TSS score: 0.744\n",
      "HSS score: 0.139\n",
      "\n",
      "Parameters: {'n_estimators': 200, 'n_windows': 5, 'max_depth': None}\n",
      "TSS score: 0.740\n",
      "HSS score: 0.138\n",
      "\n",
      "Parameters: {'n_estimators': 300, 'n_windows': 5, 'max_depth': None}\n",
      "TSS score: 0.743\n",
      "HSS score: 0.138\n",
      "\n"
     ]
    }
   ],
   "source": [
    "n_estimators_values = [100, 200, 300]\n",
    "n_windows_values = [5]\n",
    "max_depth_values = [None]\n",
    "\n",
    "results = {\"params\": [], \"tss_scores\": [], \"hss_scores\": []}\n",
    "\n",
    "for n_estimators in n_estimators_values:\n",
    "    for n_windows in n_windows_values:\n",
    "        for max_depth in max_depth_values:\n",
    "            clf = MultivariateClassifier(estimator=TimeSeriesForest(\n",
    "                n_estimators=n_estimators, n_windows=n_windows, max_depth=max_depth,random_state=53\n",
    "            ))\n",
    "            clf.fit(X_train, y_train)\n",
    "            y_pred = clf.predict(X_test)\n",
    "            tss = tss_score(y_test, y_pred)\n",
    "            hss = hss_score(y_test, y_pred)\n",
    "            results[\"params\"].append({\n",
    "                \"n_estimators\": n_estimators,\n",
    "                \"n_windows\": n_windows,\n",
    "                \"max_depth\": max_depth\n",
    "            })\n",
    "            results[\"tss_scores\"].append(tss)\n",
    "            results[\"hss_scores\"].append(hss)\n",
    "            print(f\"Parameters: {results['params'][-1]}\")\n",
    "            print(f\"TSS score: {tss:.3f}\") \n",
    "            print(f\"HSS score: {hss:.3f}\\n\")"
   ]
  },
  {
   "cell_type": "code",
   "execution_count": null,
   "metadata": {},
   "outputs": [],
   "source": []
  },
  {
   "cell_type": "code",
   "execution_count": null,
   "metadata": {},
   "outputs": [],
   "source": [
    "best_model = grid_search.best_estimator_"
   ]
  },
  {
   "cell_type": "code",
   "execution_count": null,
   "metadata": {},
   "outputs": [],
   "source": []
  },
  {
   "cell_type": "code",
   "execution_count": null,
   "metadata": {},
   "outputs": [],
   "source": []
  }
 ],
 "metadata": {
  "kernelspec": {
   "display_name": "base",
   "language": "python",
   "name": "python3"
  },
  "language_info": {
   "codemirror_mode": {
    "name": "ipython",
    "version": 3
   },
   "file_extension": ".py",
   "mimetype": "text/x-python",
   "name": "python",
   "nbconvert_exporter": "python",
   "pygments_lexer": "ipython3",
   "version": "3.11.4"
  },
  "orig_nbformat": 4
 },
 "nbformat": 4,
 "nbformat_minor": 2
}
