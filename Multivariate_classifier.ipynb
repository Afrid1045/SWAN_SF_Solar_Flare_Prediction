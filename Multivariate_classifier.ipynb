{
 "cells": [
  {
   "cell_type": "code",
   "execution_count": 1,
   "metadata": {},
   "outputs": [],
   "source": [
    "import os\n",
    "import numpy as np\n",
    "import pandas as pd\n",
    "import seaborn as sns\n",
    "import matplotlib.pyplot as plt\n",
    "from sklearn.metrics import accuracy_score, precision_score, recall_score, f1_score\n",
    "from sklearn.metrics import classification_report\n",
    "from sklearn.metrics import confusion_matrix\n",
    "from pyts.multivariate.classification import MultivariateClassifier\n",
    "from pyts.classification import TimeSeriesForest\n",
    "from sklearn.model_selection import GridSearchCV\n",
    "from joblib import Parallel, delayed\n",
    "from sklearn.preprocessing import RobustScaler\n",
    "from mpl_toolkits.mplot3d import Axes3D\n",
    "import itertools\n",
    "from sklearn.metrics import make_scorer\n",
    "from sklearn.model_selection import TimeSeriesSplit\n",
    "import plotly.graph_objects as go"
   ]
  },
  {
   "cell_type": "markdown",
   "metadata": {},
   "source": [
    "**Loading Partition 1.**"
   ]
  },
  {
   "cell_type": "code",
   "execution_count": 2,
   "metadata": {},
   "outputs": [],
   "source": [
    "main_folder_path = \"/home/afrid/Documents/NASA/dataverse_files/partition1\"\n",
    "folder_name_1 = 'FL'\n",
    "folder_name_2 = 'NF'\n",
    "folder_path_1 = os.path.join(main_folder_path, folder_name_1)\n",
    "folder_path_2 = os.path.join(main_folder_path, folder_name_2)\n",
    "files_folder_1 = os.listdir(folder_path_1)\n",
    "files_folder_2 = os.listdir(folder_path_2)\n"
   ]
  },
  {
   "cell_type": "code",
   "execution_count": 3,
   "metadata": {},
   "outputs": [],
   "source": [
    "dfs_folder_1 = [pd.read_csv(os.path.join(folder_path_1, file), sep='\\t', usecols=[1, 2, 3]).assign(Class=1) for file in files_folder_1]\n",
    "dfs_folder_2 = [pd.read_csv(os.path.join(folder_path_2, file), sep='\\t', usecols=[1, 2, 3]).assign(Class=0) for file in files_folder_2]\n",
    "\n",
    "# Ensure the 'Class' column is of integer type\n",
    "#for df in dfs_folder_1 + dfs_folder_2:\n",
    "#    df['Class'] = df['Class'].astype(int)"
   ]
  },
  {
   "cell_type": "code",
   "execution_count": 4,
   "metadata": {},
   "outputs": [
    {
     "name": "stdout",
     "output_type": "stream",
     "text": [
      "Data types after loading CSV files:\n",
      "TOTUSJH    float64\n",
      "TOTBSQ     float64\n",
      "TOTPOT     float64\n",
      "Class        int64\n",
      "dtype: object\n",
      "TOTUSJH    float64\n",
      "TOTBSQ     float64\n",
      "TOTPOT     float64\n",
      "Class        int64\n",
      "dtype: object\n"
     ]
    }
   ],
   "source": [
    "data_folder_1 = np.stack([df.values for df in dfs_folder_1], axis=0)\n",
    "data_folder_2 = np.stack([df.values for df in dfs_folder_2], axis=0)\n",
    "\n",
    "print(\"Data types after loading CSV files:\")\n",
    "print(dfs_folder_1[0].dtypes)\n",
    "print(dfs_folder_2[0].dtypes)"
   ]
  },
  {
   "cell_type": "code",
   "execution_count": 5,
   "metadata": {},
   "outputs": [
    {
     "name": "stdout",
     "output_type": "stream",
     "text": [
      "Data types after conversion:\n",
      "float64\n",
      "float64\n"
     ]
    }
   ],
   "source": [
    "data_folder_1[:, :, -1] = data_folder_1[:, :, -1].astype(int)\n",
    "data_folder_2[:, :, -1] = data_folder_2[:, :, -1].astype(int)\n",
    "\n",
    "\n",
    "print(\"Data types after conversion:\")\n",
    "print(data_folder_1[:, :, -1].dtype)\n",
    "print(data_folder_2[:, :, -1].dtype)"
   ]
  },
  {
   "cell_type": "code",
   "execution_count": 6,
   "metadata": {},
   "outputs": [],
   "source": [
    "final_data = np.concatenate([data_folder_1, data_folder_2], axis=0)"
   ]
  },
  {
   "cell_type": "code",
   "execution_count": 7,
   "metadata": {},
   "outputs": [
    {
     "name": "stdout",
     "output_type": "stream",
     "text": [
      "Missing values present in the 5th subarray of data_folder_1.\n"
     ]
    }
   ],
   "source": [
    "fifth_subarray = data_folder_1[4]\n",
    "\n",
    "missing_values_present = np.isnan(fifth_subarray).any()\n",
    "\n",
    "if missing_values_present:\n",
    "    print(\"Missing values present in the 5th subarray of data_folder_1.\")\n",
    "else:\n",
    "    print(\"No missing values in the 5th subarray of data_folder_1.\")\n"
   ]
  },
  {
   "cell_type": "code",
   "execution_count": 8,
   "metadata": {},
   "outputs": [],
   "source": [
    "subarrays_with_missing_values = []\n",
    "for i, subarray in enumerate(final_data):\n",
    "    missing_values_present = np.isnan(subarray).any()\n",
    "    if missing_values_present:\n",
    "        subarrays_with_missing_values.append(i)"
   ]
  },
  {
   "cell_type": "code",
   "execution_count": 9,
   "metadata": {},
   "outputs": [],
   "source": [
    "subarrays_with_missing_values = []\n",
    "for i, subarray in enumerate(final_data):\n",
    "    subarray = np.array(subarray)\n",
    "    missing_values_present = np.isnan(subarray)\n",
    "    if np.any(missing_values_present):\n",
    "        subarrays_with_missing_values.append(i)\n",
    "        column_means = np.nanmean(subarray, axis=0)\n",
    "        for j in range(subarray.shape[1]):\n",
    "            subarray[:, j][missing_values_present[:, j]] = column_means[j]\n",
    "        final_data[i] = subarray.tolist()"
   ]
  },
  {
   "cell_type": "code",
   "execution_count": 10,
   "metadata": {},
   "outputs": [],
   "source": [
    "missing_values_per_array = [\n",
    "    np.any(np.isnan(array)) for array in final_data\n",
    "]"
   ]
  },
  {
   "cell_type": "code",
   "execution_count": 11,
   "metadata": {},
   "outputs": [
    {
     "data": {
      "text/plain": [
       "(1254, 60, 4)"
      ]
     },
     "execution_count": 11,
     "metadata": {},
     "output_type": "execute_result"
    }
   ],
   "source": [
    "data_folder_1.shape"
   ]
  },
  {
   "cell_type": "code",
   "execution_count": 12,
   "metadata": {},
   "outputs": [
    {
     "data": {
      "text/plain": [
       "(72238, 60, 4)"
      ]
     },
     "execution_count": 12,
     "metadata": {},
     "output_type": "execute_result"
    }
   ],
   "source": [
    "data_folder_2.shape"
   ]
  },
  {
   "cell_type": "code",
   "execution_count": 13,
   "metadata": {},
   "outputs": [
    {
     "data": {
      "text/plain": [
       "(73492, 60, 4)"
      ]
     },
     "execution_count": 13,
     "metadata": {},
     "output_type": "execute_result"
    }
   ],
   "source": [
    "final_data.shape"
   ]
  },
  {
   "cell_type": "markdown",
   "metadata": {},
   "source": [
    "**Loading Partition 2.**"
   ]
  },
  {
   "cell_type": "code",
   "execution_count": 14,
   "metadata": {},
   "outputs": [],
   "source": [
    "\n",
    "main_folder_path_p2 = \"/home/afrid/Documents/NASA/dataverse_files/partition2\"\n",
    "folder_name_FL_p2 = 'FL'\n",
    "folder_name_NF_p2 = 'NF'\n",
    "\n",
    "folder_path_FL_p2 = os.path.join(main_folder_path_p2, folder_name_FL_p2)\n",
    "folder_path_NF_p2 = os.path.join(main_folder_path_p2, folder_name_NF_p2)\n",
    "files_FL_p2 = os.listdir(folder_path_FL_p2)\n",
    "files_NF_p2 = os.listdir(folder_path_NF_p2)\n"
   ]
  },
  {
   "cell_type": "code",
   "execution_count": 15,
   "metadata": {},
   "outputs": [],
   "source": [
    "dfs_FL_p2 = [pd.read_csv(os.path.join(folder_path_FL_p2, file), sep='\\t', usecols=[1, 2, 3]).assign(Class=1) for file in files_FL_p2]\n",
    "dfs_NF_p2 = [pd.read_csv(os.path.join(folder_path_NF_p2, file), sep='\\t', usecols=[1, 2, 3]).assign(Class=0) for file in files_NF_p2]\n",
    "data_FL_p2 = np.stack([df.values for df in dfs_FL_p2], axis=0)\n",
    "data_NF_p2 = np.stack([df.values for df in dfs_NF_p2], axis=0)\n",
    "data_FL_p2[:, :, -1] = data_FL_p2[:, :, -1].astype(int)\n",
    "data_NF_p2[:, :, -1] = data_NF_p2[:, :, -1].astype(int)"
   ]
  },
  {
   "cell_type": "code",
   "execution_count": 16,
   "metadata": {},
   "outputs": [],
   "source": [
    "final_data_p2 = np.concatenate([data_FL_p2, data_NF_p2], axis=0)"
   ]
  },
  {
   "cell_type": "code",
   "execution_count": 17,
   "metadata": {},
   "outputs": [],
   "source": [
    "subarrays_with_missing_values_NF_p2 = []\n",
    "\n",
    "for i, subarray in enumerate(final_data_p2):\n",
    "    subarray_NF_p2 = np.array(subarray)\n",
    "    missing_values_present_NF_p2 = np.isnan(subarray_NF_p2)\n",
    "\n",
    "    if np.any(missing_values_present_NF_p2):\n",
    "        subarrays_with_missing_values_NF_p2.append(i)\n",
    "        column_means_NF_p2 = np.nanmean(subarray_NF_p2, axis=0)\n",
    "        for j_NF_p2 in range(subarray_NF_p2.shape[1]):\n",
    "            subarray_NF_p2[:, j_NF_p2][missing_values_present_NF_p2[:, j_NF_p2]] = column_means_NF_p2[j_NF_p2]\n",
    "        final_data_p2[i] = subarray_NF_p2.tolist()"
   ]
  },
  {
   "cell_type": "markdown",
   "metadata": {},
   "source": [
    "**Sampling.**\n"
   ]
  },
  {
   "cell_type": "markdown",
   "metadata": {},
   "source": [
    "partition 1"
   ]
  },
  {
   "cell_type": "code",
   "execution_count": 18,
   "metadata": {},
   "outputs": [
    {
     "name": "stdout",
     "output_type": "stream",
     "text": [
      "(2508, 60, 4)\n"
     ]
    }
   ],
   "source": [
    "\n",
    "class_labels = final_data[:, 0, -1]\n",
    "class_0_indices = np.where(class_labels == 0)[0]\n",
    "class_1_indices = np.where(class_labels == 1)[0]\n",
    "selected_class_0_indices = class_0_indices[:len(class_1_indices)]\n",
    "selected_indices = np.concatenate([class_1_indices, selected_class_0_indices])\n",
    "final_train_data = final_data[selected_indices]\n",
    "final_train_data[:, 0, -1] = final_train_data[:, 0, -1].astype(int)\n",
    "\n",
    "print(final_train_data.shape)"
   ]
  },
  {
   "cell_type": "markdown",
   "metadata": {},
   "source": [
    "Model Example."
   ]
  },
  {
   "cell_type": "code",
   "execution_count": 66,
   "metadata": {},
   "outputs": [],
   "source": [
    "X_train = final_train_data[:, :, :-1]\n",
    "y_train = final_train_data[:, 0, -1]\n",
    "\n",
    "X_test = final_data_p2[:, :, :-1]\n",
    "y_test = final_data_p2[:, 0, -1]"
   ]
  },
  {
   "cell_type": "code",
   "execution_count": 67,
   "metadata": {},
   "outputs": [],
   "source": [
    "y_train = y_train.astype(int)\n",
    "y_test = y_test.astype(int)"
   ]
  },
  {
   "cell_type": "code",
   "execution_count": 68,
   "metadata": {},
   "outputs": [
    {
     "data": {
      "text/plain": [
       "(88558,)"
      ]
     },
     "execution_count": 68,
     "metadata": {},
     "output_type": "execute_result"
    }
   ],
   "source": [
    "y_test.shape"
   ]
  },
  {
   "cell_type": "code",
   "execution_count": 69,
   "metadata": {},
   "outputs": [
    {
     "name": "stdout",
     "output_type": "stream",
     "text": [
      "(2508, 60, 3)\n",
      "(88558, 60, 3)\n",
      "(2508,)\n",
      "(88558,)\n"
     ]
    }
   ],
   "source": [
    "X_train.shape\n",
    "X_test.shape\n",
    "y_train.shape\n",
    "y_test.shape\n",
    "\n",
    "print(X_train.shape)\n",
    "print(X_test.shape)\n",
    "print(y_train.shape)\n",
    "print(y_test.shape)"
   ]
  },
  {
   "cell_type": "code",
   "execution_count": 139,
   "metadata": {},
   "outputs": [
    {
     "name": "stdout",
     "output_type": "stream",
     "text": [
      "Any NaN in X_train: False\n",
      "Any NaN in X_test: False\n"
     ]
    }
   ],
   "source": [
    "# Check for NaN values in X_train\n",
    "nan_in_x_train = np.isnan(X_train)\n",
    "any_nan_in_x_train = np.any(nan_in_x_train)\n",
    "\n",
    "# Check for NaN values in X_test\n",
    "nan_in_x_test = np.isnan(X_test)\n",
    "any_nan_in_x_test = np.any(nan_in_x_test)\n",
    "\n",
    "print(f'Any NaN in X_train: {any_nan_in_x_train}')\n",
    "print(f'Any NaN in X_test: {any_nan_in_x_test}')"
   ]
  },
  {
   "cell_type": "code",
   "execution_count": 70,
   "metadata": {},
   "outputs": [
    {
     "data": {
      "text/plain": [
       "array([0, 1])"
      ]
     },
     "execution_count": 70,
     "metadata": {},
     "output_type": "execute_result"
    }
   ],
   "source": [
    "np.unique(y_test)\n"
   ]
  },
  {
   "cell_type": "code",
   "execution_count": 71,
   "metadata": {},
   "outputs": [],
   "source": [
    "#X_train"
   ]
  },
  {
   "cell_type": "code",
   "execution_count": 72,
   "metadata": {},
   "outputs": [],
   "source": [
    "scaler = RobustScaler()\n",
    "\n"
   ]
  },
  {
   "cell_type": "code",
   "execution_count": 73,
   "metadata": {},
   "outputs": [
    {
     "data": {
      "text/plain": [
       "'def tss_score(estimator, X, y):\\n    y_pred = estimator.predict(X)\\n    cm = confusion_matrix(y, y_pred)\\n    TN, FP, FN, TP = cm.ravel()\\n    P = TP + FN\\n    N = FP + TN\\n    return (TP / P) - (FP / N) if (P > 0 and N > 0) else 0'"
      ]
     },
     "execution_count": 73,
     "metadata": {},
     "output_type": "execute_result"
    }
   ],
   "source": [
    "'''def tss_score(estimator, X, y):\n",
    "    y_pred = estimator.predict(X)\n",
    "    cm = confusion_matrix(y, y_pred)\n",
    "    TN, FP, FN, TP = cm.ravel()\n",
    "    P = TP + FN\n",
    "    N = FP + TN\n",
    "    return (TP / P) - (FP / N) if (P > 0 and N > 0) else 0'''"
   ]
  },
  {
   "cell_type": "code",
   "execution_count": 279,
   "metadata": {},
   "outputs": [],
   "source": [
    "'''# Modify the tss_score function to take y_true and y_pred only\n",
    "def tss_score(y_true, y_pred):\n",
    "    cm = confusion_matrix(y_true, y_pred)\n",
    "\n",
    "    if cm.shape[0] == cm.shape[1]:\n",
    "        n_classes = cm.shape[0]\n",
    "        tss_total = 0\n",
    "        for i in range(n_classes):\n",
    "            tp = cm[i, i]\n",
    "            fn = cm[i, :].sum() - tp\n",
    "            fp = cm[:, i].sum() - tp\n",
    "            tn = cm.sum() - tp - fn - fp\n",
    "\n",
    "            sensitivity = tp / (tp + fn)\n",
    "            specificity = tn / (tn + fp)\n",
    "            tss = sensitivity - (1 - specificity)\n",
    "\n",
    "            tss_total += tss\n",
    "\n",
    "        return tss_total / n_classes\n",
    "    else:\n",
    "        print(\"Error: Confusion matrix is not square.\")\n",
    "        return 0'''\n",
    "\n",
    "\n",
    "'''def tss_score(y_true, y_pred):\n",
    "    cm = confusion_matrix(y_true, y_pred)\n",
    "\n",
    "    if cm.shape[0] == cm.shape[1]:\n",
    "        n_classes = cm.shape[0]\n",
    "        tss_total = 0\n",
    "        for i in range(n_classes):\n",
    "            tp = cm[i, i]\n",
    "            fn = cm[i, :].sum() - tp\n",
    "            fp = cm[:, i].sum() - tp\n",
    "            tn = cm.sum() - tp - fn - fp\n",
    "\n",
    "            sensitivity = tp / (tp + fn) if (tp + fn) != 0 else 0\n",
    "            #specificity = tn / (tn + fp) if (tn + fp) != 0 else 0\n",
    "            #tss = sensitivity - (1 - specificity)\n",
    "            fpr = fp / (fp + tn) if (fp + tn) != 0 else 0\n",
    "            tss = sensitivity - fpr\n",
    "\n",
    "            tss_total += tss\n",
    "\n",
    "        return tss_total #/ n_classes\n",
    "    else:\n",
    "        print(\"Error: Confusion matrix is not square.\")\n",
    "        return 0'''\n",
    "\n",
    "def tss_score(y_true, y_pred):\n",
    "    cm = confusion_matrix(y_true, y_pred)\n",
    "\n",
    "    if cm.shape == (2, 2):\n",
    "        tp = cm[1, 1]\n",
    "        fn = cm[1, 0]\n",
    "        fp = cm[0, 1]\n",
    "        tn = cm[0, 0]\n",
    "\n",
    "        sensitivity = tp / (tp + fn) if (tp + fn) != 0 else 0\n",
    "        fpr = fp / (fp + tn) if (fp + tn) != 0 else 0\n",
    "        tss = sensitivity - fpr\n",
    "\n",
    "        return tss\n",
    "    elif cm.shape == (1, 1):\n",
    "        return 1 if y_true[0] == y_pred[0] else 0\n",
    "    else:\n",
    "        print(f\"Error: Confusion matrix shape {cm.shape} is not handled.\")\n",
    "        return 0\n",
    "\n",
    "\n",
    "custom_scorer = make_scorer(tss_score, greater_is_better=True)"
   ]
  },
  {
   "cell_type": "code",
   "execution_count": 346,
   "metadata": {},
   "outputs": [],
   "source": [
    "param_grid = {\n",
    "    'estimator__n_estimators': [100, 200, 300],\n",
    "    'estimator__n_windows': [5, 10, 15],\n",
    "    'estimator__min_window_size': [1, 2],\n",
    "    'estimator__criterion': ['entropy'],#, 'gini'],\n",
    "    'estimator__max_depth': [5, 10, 20],\n",
    "}"
   ]
  },
  {
   "cell_type": "code",
   "execution_count": 347,
   "metadata": {},
   "outputs": [
    {
     "data": {
      "text/plain": [
       "'# Assuming X_train and X_test are 3D arrays with shape (n_samples, n_timestamps, n_features)\\nX_train_2d = X_train.reshape(X_train.shape[0], -1)\\nX_test_2d = X_test.reshape(X_test.shape[0], -1)\\n\\n# Now apply RobustScaler\\nX_train_scaled_2d = scaler.fit_transform(X_train_2d)\\nX_test_scaled_2d = scaler.transform(X_test_2d)\\n\\n# Reshape back to 3D\\nX_train_scaled = X_train_scaled_2d.reshape(X_train.shape)\\nX_test_scaled = X_test_scaled_2d.reshape(X_test.shape)'"
      ]
     },
     "execution_count": 347,
     "metadata": {},
     "output_type": "execute_result"
    }
   ],
   "source": [
    "'''# Assuming X_train and X_test are 3D arrays with shape (n_samples, n_timestamps, n_features)\n",
    "X_train_2d = X_train.reshape(X_train.shape[0], -1)\n",
    "X_test_2d = X_test.reshape(X_test.shape[0], -1)\n",
    "\n",
    "# Now apply RobustScaler\n",
    "X_train_scaled_2d = scaler.fit_transform(X_train_2d)\n",
    "X_test_scaled_2d = scaler.transform(X_test_2d)\n",
    "\n",
    "# Reshape back to 3D\n",
    "X_train_scaled = X_train_scaled_2d.reshape(X_train.shape)\n",
    "X_test_scaled = X_test_scaled_2d.reshape(X_test.shape)'''\n"
   ]
  },
  {
   "cell_type": "code",
   "execution_count": null,
   "metadata": {},
   "outputs": [],
   "source": []
  },
  {
   "cell_type": "code",
   "execution_count": 348,
   "metadata": {},
   "outputs": [],
   "source": [
    "clf = MultivariateClassifier(estimator=TimeSeriesForest(random_state=53))\n",
    "\n",
    "n_splits = 20\n",
    "tscv = TimeSeriesSplit(n_splits=n_splits)\n",
    "\n",
    "grid_search = GridSearchCV(\n",
    "    estimator=clf,\n",
    "    param_grid=param_grid,\n",
    "    scoring=custom_scorer, \n",
    "    refit='tss',\n",
    "    cv=tscv,  \n",
    "    n_jobs=-1,  \n",
    ")"
   ]
  },
  {
   "cell_type": "code",
   "execution_count": 349,
   "metadata": {},
   "outputs": [
    {
     "name": "stderr",
     "output_type": "stream",
     "text": [
      "/home/afrid/anaconda3/lib/python3.11/site-packages/joblib/externals/loky/process_executor.py:700: UserWarning: A worker stopped while some jobs were given to the executor. This can be caused by a too short worker timeout or by a memory leak.\n",
      "  warnings.warn(\n"
     ]
    },
    {
     "data": {
      "text/html": [
       "<style>#sk-container-id-21 {color: black;}#sk-container-id-21 pre{padding: 0;}#sk-container-id-21 div.sk-toggleable {background-color: white;}#sk-container-id-21 label.sk-toggleable__label {cursor: pointer;display: block;width: 100%;margin-bottom: 0;padding: 0.3em;box-sizing: border-box;text-align: center;}#sk-container-id-21 label.sk-toggleable__label-arrow:before {content: \"▸\";float: left;margin-right: 0.25em;color: #696969;}#sk-container-id-21 label.sk-toggleable__label-arrow:hover:before {color: black;}#sk-container-id-21 div.sk-estimator:hover label.sk-toggleable__label-arrow:before {color: black;}#sk-container-id-21 div.sk-toggleable__content {max-height: 0;max-width: 0;overflow: hidden;text-align: left;background-color: #f0f8ff;}#sk-container-id-21 div.sk-toggleable__content pre {margin: 0.2em;color: black;border-radius: 0.25em;background-color: #f0f8ff;}#sk-container-id-21 input.sk-toggleable__control:checked~div.sk-toggleable__content {max-height: 200px;max-width: 100%;overflow: auto;}#sk-container-id-21 input.sk-toggleable__control:checked~label.sk-toggleable__label-arrow:before {content: \"▾\";}#sk-container-id-21 div.sk-estimator input.sk-toggleable__control:checked~label.sk-toggleable__label {background-color: #d4ebff;}#sk-container-id-21 div.sk-label input.sk-toggleable__control:checked~label.sk-toggleable__label {background-color: #d4ebff;}#sk-container-id-21 input.sk-hidden--visually {border: 0;clip: rect(1px 1px 1px 1px);clip: rect(1px, 1px, 1px, 1px);height: 1px;margin: -1px;overflow: hidden;padding: 0;position: absolute;width: 1px;}#sk-container-id-21 div.sk-estimator {font-family: monospace;background-color: #f0f8ff;border: 1px dotted black;border-radius: 0.25em;box-sizing: border-box;margin-bottom: 0.5em;}#sk-container-id-21 div.sk-estimator:hover {background-color: #d4ebff;}#sk-container-id-21 div.sk-parallel-item::after {content: \"\";width: 100%;border-bottom: 1px solid gray;flex-grow: 1;}#sk-container-id-21 div.sk-label:hover label.sk-toggleable__label {background-color: #d4ebff;}#sk-container-id-21 div.sk-serial::before {content: \"\";position: absolute;border-left: 1px solid gray;box-sizing: border-box;top: 0;bottom: 0;left: 50%;z-index: 0;}#sk-container-id-21 div.sk-serial {display: flex;flex-direction: column;align-items: center;background-color: white;padding-right: 0.2em;padding-left: 0.2em;position: relative;}#sk-container-id-21 div.sk-item {position: relative;z-index: 1;}#sk-container-id-21 div.sk-parallel {display: flex;align-items: stretch;justify-content: center;background-color: white;position: relative;}#sk-container-id-21 div.sk-item::before, #sk-container-id-21 div.sk-parallel-item::before {content: \"\";position: absolute;border-left: 1px solid gray;box-sizing: border-box;top: 0;bottom: 0;left: 50%;z-index: -1;}#sk-container-id-21 div.sk-parallel-item {display: flex;flex-direction: column;z-index: 1;position: relative;background-color: white;}#sk-container-id-21 div.sk-parallel-item:first-child::after {align-self: flex-end;width: 50%;}#sk-container-id-21 div.sk-parallel-item:last-child::after {align-self: flex-start;width: 50%;}#sk-container-id-21 div.sk-parallel-item:only-child::after {width: 0;}#sk-container-id-21 div.sk-dashed-wrapped {border: 1px dashed gray;margin: 0 0.4em 0.5em 0.4em;box-sizing: border-box;padding-bottom: 0.4em;background-color: white;}#sk-container-id-21 div.sk-label label {font-family: monospace;font-weight: bold;display: inline-block;line-height: 1.2em;}#sk-container-id-21 div.sk-label-container {text-align: center;}#sk-container-id-21 div.sk-container {/* jupyter's `normalize.less` sets `[hidden] { display: none; }` but bootstrap.min.css set `[hidden] { display: none !important; }` so we also need the `!important` here to be able to override the default hidden behavior on the sphinx rendered scikit-learn.org. See: https://github.com/scikit-learn/scikit-learn/issues/21755 */display: inline-block !important;position: relative;}#sk-container-id-21 div.sk-text-repr-fallback {display: none;}</style><div id=\"sk-container-id-21\" class=\"sk-top-container\"><div class=\"sk-text-repr-fallback\"><pre>GridSearchCV(cv=TimeSeriesSplit(gap=0, max_train_size=None, n_splits=20, test_size=None),\n",
       "             estimator=MultivariateClassifier(estimator=TimeSeriesForest(random_state=53)),\n",
       "             n_jobs=-1,\n",
       "             param_grid={&#x27;estimator__criterion&#x27;: [&#x27;entropy&#x27;],\n",
       "                         &#x27;estimator__max_depth&#x27;: [5, 10, 20],\n",
       "                         &#x27;estimator__min_window_size&#x27;: [1, 2],\n",
       "                         &#x27;estimator__n_estimators&#x27;: [100, 200, 300],\n",
       "                         &#x27;estimator__n_windows&#x27;: [5, 10, 15]},\n",
       "             refit=&#x27;tss&#x27;, scoring=make_scorer(tss_score))</pre><b>In a Jupyter environment, please rerun this cell to show the HTML representation or trust the notebook. <br />On GitHub, the HTML representation is unable to render, please try loading this page with nbviewer.org.</b></div><div class=\"sk-container\" hidden><div class=\"sk-item sk-dashed-wrapped\"><div class=\"sk-label-container\"><div class=\"sk-label sk-toggleable\"><input class=\"sk-toggleable__control sk-hidden--visually\" id=\"sk-estimator-id-80\" type=\"checkbox\" ><label for=\"sk-estimator-id-80\" class=\"sk-toggleable__label sk-toggleable__label-arrow\">GridSearchCV</label><div class=\"sk-toggleable__content\"><pre>GridSearchCV(cv=TimeSeriesSplit(gap=0, max_train_size=None, n_splits=20, test_size=None),\n",
       "             estimator=MultivariateClassifier(estimator=TimeSeriesForest(random_state=53)),\n",
       "             n_jobs=-1,\n",
       "             param_grid={&#x27;estimator__criterion&#x27;: [&#x27;entropy&#x27;],\n",
       "                         &#x27;estimator__max_depth&#x27;: [5, 10, 20],\n",
       "                         &#x27;estimator__min_window_size&#x27;: [1, 2],\n",
       "                         &#x27;estimator__n_estimators&#x27;: [100, 200, 300],\n",
       "                         &#x27;estimator__n_windows&#x27;: [5, 10, 15]},\n",
       "             refit=&#x27;tss&#x27;, scoring=make_scorer(tss_score))</pre></div></div></div><div class=\"sk-parallel\"><div class=\"sk-parallel-item\"><div class=\"sk-item\"><div class=\"sk-label-container\"><div class=\"sk-label sk-toggleable\"><input class=\"sk-toggleable__control sk-hidden--visually\" id=\"sk-estimator-id-81\" type=\"checkbox\" ><label for=\"sk-estimator-id-81\" class=\"sk-toggleable__label sk-toggleable__label-arrow\">estimator: MultivariateClassifier</label><div class=\"sk-toggleable__content\"><pre>MultivariateClassifier(estimator=TimeSeriesForest(random_state=53))</pre></div></div></div><div class=\"sk-serial\"><div class=\"sk-item sk-dashed-wrapped\"><div class=\"sk-parallel\"><div class=\"sk-parallel-item\"><div class=\"sk-item\"><div class=\"sk-label-container\"><div class=\"sk-label sk-toggleable\"><input class=\"sk-toggleable__control sk-hidden--visually\" id=\"sk-estimator-id-82\" type=\"checkbox\" ><label for=\"sk-estimator-id-82\" class=\"sk-toggleable__label sk-toggleable__label-arrow\">estimator: TimeSeriesForest</label><div class=\"sk-toggleable__content\"><pre>TimeSeriesForest(random_state=53)</pre></div></div></div><div class=\"sk-serial\"><div class=\"sk-item\"><div class=\"sk-estimator sk-toggleable\"><input class=\"sk-toggleable__control sk-hidden--visually\" id=\"sk-estimator-id-83\" type=\"checkbox\" ><label for=\"sk-estimator-id-83\" class=\"sk-toggleable__label sk-toggleable__label-arrow\">TimeSeriesForest</label><div class=\"sk-toggleable__content\"><pre>TimeSeriesForest(random_state=53)</pre></div></div></div></div></div></div></div></div></div></div></div></div></div></div></div>"
      ],
      "text/plain": [
       "GridSearchCV(cv=TimeSeriesSplit(gap=0, max_train_size=None, n_splits=20, test_size=None),\n",
       "             estimator=MultivariateClassifier(estimator=TimeSeriesForest(random_state=53)),\n",
       "             n_jobs=-1,\n",
       "             param_grid={'estimator__criterion': ['entropy'],\n",
       "                         'estimator__max_depth': [5, 10, 20],\n",
       "                         'estimator__min_window_size': [1, 2],\n",
       "                         'estimator__n_estimators': [100, 200, 300],\n",
       "                         'estimator__n_windows': [5, 10, 15]},\n",
       "             refit='tss', scoring=make_scorer(tss_score))"
      ]
     },
     "execution_count": 349,
     "metadata": {},
     "output_type": "execute_result"
    }
   ],
   "source": [
    "\n",
    "grid_search.fit(X_train, y_train)"
   ]
  },
  {
   "cell_type": "code",
   "execution_count": 328,
   "metadata": {},
   "outputs": [
    {
     "data": {
      "text/plain": [
       "'#clf = MultivariateClassifier(estimator=TimeSeriesForest(n_estimators=100,n_windows=5, \\n                                                        max_depth=5, \\n                                                        min_window_size=2, \\n                                                        random_state=53))\\n#clf.fit(X_train_scaled, y_train)'"
      ]
     },
     "execution_count": 328,
     "metadata": {},
     "output_type": "execute_result"
    }
   ],
   "source": [
    "'''#clf = MultivariateClassifier(estimator=TimeSeriesForest(n_estimators=100,n_windows=5, \n",
    "                                                        max_depth=5, \n",
    "                                                        min_window_size=2, \n",
    "                                                        random_state=53))\n",
    "#clf.fit(X_train_scaled, y_train)'''"
   ]
  },
  {
   "cell_type": "code",
   "execution_count": 350,
   "metadata": {},
   "outputs": [
    {
     "name": "stdout",
     "output_type": "stream",
     "text": [
      "Split 1:\n",
      "Training indices: [  0   1   2   3   4   5   6   7   8   9  10  11  12  13  14  15  16  17\n",
      "  18  19  20  21  22  23  24  25  26  27  28  29  30  31  32  33  34  35\n",
      "  36  37  38  39  40  41  42  43  44  45  46  47  48  49  50  51  52  53\n",
      "  54  55  56  57  58  59  60  61  62  63  64  65  66  67  68  69  70  71\n",
      "  72  73  74  75  76  77  78  79  80  81  82  83  84  85  86  87  88  89\n",
      "  90  91  92  93  94  95  96  97  98  99 100 101 102 103 104 105 106 107\n",
      " 108 109 110 111 112 113 114 115 116 117 118 119 120 121 122 123 124 125\n",
      " 126 127]\n",
      "Testing indices: [128 129 130 131 132 133 134 135 136 137 138 139 140 141 142 143 144 145\n",
      " 146 147 148 149 150 151 152 153 154 155 156 157 158 159 160 161 162 163\n",
      " 164 165 166 167 168 169 170 171 172 173 174 175 176 177 178 179 180 181\n",
      " 182 183 184 185 186 187 188 189 190 191 192 193 194 195 196 197 198 199\n",
      " 200 201 202 203 204 205 206 207 208 209 210 211 212 213 214 215 216 217\n",
      " 218 219 220 221 222 223 224 225 226 227 228 229 230 231 232 233 234 235\n",
      " 236 237 238 239 240 241 242 243 244 245 246]\n",
      "\n",
      "Split 2:\n",
      "Training indices: [  0   1   2   3   4   5   6   7   8   9  10  11  12  13  14  15  16  17\n",
      "  18  19  20  21  22  23  24  25  26  27  28  29  30  31  32  33  34  35\n",
      "  36  37  38  39  40  41  42  43  44  45  46  47  48  49  50  51  52  53\n",
      "  54  55  56  57  58  59  60  61  62  63  64  65  66  67  68  69  70  71\n",
      "  72  73  74  75  76  77  78  79  80  81  82  83  84  85  86  87  88  89\n",
      "  90  91  92  93  94  95  96  97  98  99 100 101 102 103 104 105 106 107\n",
      " 108 109 110 111 112 113 114 115 116 117 118 119 120 121 122 123 124 125\n",
      " 126 127 128 129 130 131 132 133 134 135 136 137 138 139 140 141 142 143\n",
      " 144 145 146 147 148 149 150 151 152 153 154 155 156 157 158 159 160 161\n",
      " 162 163 164 165 166 167 168 169 170 171 172 173 174 175 176 177 178 179\n",
      " 180 181 182 183 184 185 186 187 188 189 190 191 192 193 194 195 196 197\n",
      " 198 199 200 201 202 203 204 205 206 207 208 209 210 211 212 213 214 215\n",
      " 216 217 218 219 220 221 222 223 224 225 226 227 228 229 230 231 232 233\n",
      " 234 235 236 237 238 239 240 241 242 243 244 245 246]\n",
      "Testing indices: [247 248 249 250 251 252 253 254 255 256 257 258 259 260 261 262 263 264\n",
      " 265 266 267 268 269 270 271 272 273 274 275 276 277 278 279 280 281 282\n",
      " 283 284 285 286 287 288 289 290 291 292 293 294 295 296 297 298 299 300\n",
      " 301 302 303 304 305 306 307 308 309 310 311 312 313 314 315 316 317 318\n",
      " 319 320 321 322 323 324 325 326 327 328 329 330 331 332 333 334 335 336\n",
      " 337 338 339 340 341 342 343 344 345 346 347 348 349 350 351 352 353 354\n",
      " 355 356 357 358 359 360 361 362 363 364 365]\n",
      "\n",
      "Split 3:\n",
      "Training indices: [  0   1   2   3   4   5   6   7   8   9  10  11  12  13  14  15  16  17\n",
      "  18  19  20  21  22  23  24  25  26  27  28  29  30  31  32  33  34  35\n",
      "  36  37  38  39  40  41  42  43  44  45  46  47  48  49  50  51  52  53\n",
      "  54  55  56  57  58  59  60  61  62  63  64  65  66  67  68  69  70  71\n",
      "  72  73  74  75  76  77  78  79  80  81  82  83  84  85  86  87  88  89\n",
      "  90  91  92  93  94  95  96  97  98  99 100 101 102 103 104 105 106 107\n",
      " 108 109 110 111 112 113 114 115 116 117 118 119 120 121 122 123 124 125\n",
      " 126 127 128 129 130 131 132 133 134 135 136 137 138 139 140 141 142 143\n",
      " 144 145 146 147 148 149 150 151 152 153 154 155 156 157 158 159 160 161\n",
      " 162 163 164 165 166 167 168 169 170 171 172 173 174 175 176 177 178 179\n",
      " 180 181 182 183 184 185 186 187 188 189 190 191 192 193 194 195 196 197\n",
      " 198 199 200 201 202 203 204 205 206 207 208 209 210 211 212 213 214 215\n",
      " 216 217 218 219 220 221 222 223 224 225 226 227 228 229 230 231 232 233\n",
      " 234 235 236 237 238 239 240 241 242 243 244 245 246 247 248 249 250 251\n",
      " 252 253 254 255 256 257 258 259 260 261 262 263 264 265 266 267 268 269\n",
      " 270 271 272 273 274 275 276 277 278 279 280 281 282 283 284 285 286 287\n",
      " 288 289 290 291 292 293 294 295 296 297 298 299 300 301 302 303 304 305\n",
      " 306 307 308 309 310 311 312 313 314 315 316 317 318 319 320 321 322 323\n",
      " 324 325 326 327 328 329 330 331 332 333 334 335 336 337 338 339 340 341\n",
      " 342 343 344 345 346 347 348 349 350 351 352 353 354 355 356 357 358 359\n",
      " 360 361 362 363 364 365]\n",
      "Testing indices: [366 367 368 369 370 371 372 373 374 375 376 377 378 379 380 381 382 383\n",
      " 384 385 386 387 388 389 390 391 392 393 394 395 396 397 398 399 400 401\n",
      " 402 403 404 405 406 407 408 409 410 411 412 413 414 415 416 417 418 419\n",
      " 420 421 422 423 424 425 426 427 428 429 430 431 432 433 434 435 436 437\n",
      " 438 439 440 441 442 443 444 445 446 447 448 449 450 451 452 453 454 455\n",
      " 456 457 458 459 460 461 462 463 464 465 466 467 468 469 470 471 472 473\n",
      " 474 475 476 477 478 479 480 481 482 483 484]\n",
      "\n",
      "Split 4:\n",
      "Training indices: [  0   1   2   3   4   5   6   7   8   9  10  11  12  13  14  15  16  17\n",
      "  18  19  20  21  22  23  24  25  26  27  28  29  30  31  32  33  34  35\n",
      "  36  37  38  39  40  41  42  43  44  45  46  47  48  49  50  51  52  53\n",
      "  54  55  56  57  58  59  60  61  62  63  64  65  66  67  68  69  70  71\n",
      "  72  73  74  75  76  77  78  79  80  81  82  83  84  85  86  87  88  89\n",
      "  90  91  92  93  94  95  96  97  98  99 100 101 102 103 104 105 106 107\n",
      " 108 109 110 111 112 113 114 115 116 117 118 119 120 121 122 123 124 125\n",
      " 126 127 128 129 130 131 132 133 134 135 136 137 138 139 140 141 142 143\n",
      " 144 145 146 147 148 149 150 151 152 153 154 155 156 157 158 159 160 161\n",
      " 162 163 164 165 166 167 168 169 170 171 172 173 174 175 176 177 178 179\n",
      " 180 181 182 183 184 185 186 187 188 189 190 191 192 193 194 195 196 197\n",
      " 198 199 200 201 202 203 204 205 206 207 208 209 210 211 212 213 214 215\n",
      " 216 217 218 219 220 221 222 223 224 225 226 227 228 229 230 231 232 233\n",
      " 234 235 236 237 238 239 240 241 242 243 244 245 246 247 248 249 250 251\n",
      " 252 253 254 255 256 257 258 259 260 261 262 263 264 265 266 267 268 269\n",
      " 270 271 272 273 274 275 276 277 278 279 280 281 282 283 284 285 286 287\n",
      " 288 289 290 291 292 293 294 295 296 297 298 299 300 301 302 303 304 305\n",
      " 306 307 308 309 310 311 312 313 314 315 316 317 318 319 320 321 322 323\n",
      " 324 325 326 327 328 329 330 331 332 333 334 335 336 337 338 339 340 341\n",
      " 342 343 344 345 346 347 348 349 350 351 352 353 354 355 356 357 358 359\n",
      " 360 361 362 363 364 365 366 367 368 369 370 371 372 373 374 375 376 377\n",
      " 378 379 380 381 382 383 384 385 386 387 388 389 390 391 392 393 394 395\n",
      " 396 397 398 399 400 401 402 403 404 405 406 407 408 409 410 411 412 413\n",
      " 414 415 416 417 418 419 420 421 422 423 424 425 426 427 428 429 430 431\n",
      " 432 433 434 435 436 437 438 439 440 441 442 443 444 445 446 447 448 449\n",
      " 450 451 452 453 454 455 456 457 458 459 460 461 462 463 464 465 466 467\n",
      " 468 469 470 471 472 473 474 475 476 477 478 479 480 481 482 483 484]\n",
      "Testing indices: [485 486 487 488 489 490 491 492 493 494 495 496 497 498 499 500 501 502\n",
      " 503 504 505 506 507 508 509 510 511 512 513 514 515 516 517 518 519 520\n",
      " 521 522 523 524 525 526 527 528 529 530 531 532 533 534 535 536 537 538\n",
      " 539 540 541 542 543 544 545 546 547 548 549 550 551 552 553 554 555 556\n",
      " 557 558 559 560 561 562 563 564 565 566 567 568 569 570 571 572 573 574\n",
      " 575 576 577 578 579 580 581 582 583 584 585 586 587 588 589 590 591 592\n",
      " 593 594 595 596 597 598 599 600 601 602 603]\n",
      "\n",
      "Split 5:\n",
      "Training indices: [  0   1   2   3   4   5   6   7   8   9  10  11  12  13  14  15  16  17\n",
      "  18  19  20  21  22  23  24  25  26  27  28  29  30  31  32  33  34  35\n",
      "  36  37  38  39  40  41  42  43  44  45  46  47  48  49  50  51  52  53\n",
      "  54  55  56  57  58  59  60  61  62  63  64  65  66  67  68  69  70  71\n",
      "  72  73  74  75  76  77  78  79  80  81  82  83  84  85  86  87  88  89\n",
      "  90  91  92  93  94  95  96  97  98  99 100 101 102 103 104 105 106 107\n",
      " 108 109 110 111 112 113 114 115 116 117 118 119 120 121 122 123 124 125\n",
      " 126 127 128 129 130 131 132 133 134 135 136 137 138 139 140 141 142 143\n",
      " 144 145 146 147 148 149 150 151 152 153 154 155 156 157 158 159 160 161\n",
      " 162 163 164 165 166 167 168 169 170 171 172 173 174 175 176 177 178 179\n",
      " 180 181 182 183 184 185 186 187 188 189 190 191 192 193 194 195 196 197\n",
      " 198 199 200 201 202 203 204 205 206 207 208 209 210 211 212 213 214 215\n",
      " 216 217 218 219 220 221 222 223 224 225 226 227 228 229 230 231 232 233\n",
      " 234 235 236 237 238 239 240 241 242 243 244 245 246 247 248 249 250 251\n",
      " 252 253 254 255 256 257 258 259 260 261 262 263 264 265 266 267 268 269\n",
      " 270 271 272 273 274 275 276 277 278 279 280 281 282 283 284 285 286 287\n",
      " 288 289 290 291 292 293 294 295 296 297 298 299 300 301 302 303 304 305\n",
      " 306 307 308 309 310 311 312 313 314 315 316 317 318 319 320 321 322 323\n",
      " 324 325 326 327 328 329 330 331 332 333 334 335 336 337 338 339 340 341\n",
      " 342 343 344 345 346 347 348 349 350 351 352 353 354 355 356 357 358 359\n",
      " 360 361 362 363 364 365 366 367 368 369 370 371 372 373 374 375 376 377\n",
      " 378 379 380 381 382 383 384 385 386 387 388 389 390 391 392 393 394 395\n",
      " 396 397 398 399 400 401 402 403 404 405 406 407 408 409 410 411 412 413\n",
      " 414 415 416 417 418 419 420 421 422 423 424 425 426 427 428 429 430 431\n",
      " 432 433 434 435 436 437 438 439 440 441 442 443 444 445 446 447 448 449\n",
      " 450 451 452 453 454 455 456 457 458 459 460 461 462 463 464 465 466 467\n",
      " 468 469 470 471 472 473 474 475 476 477 478 479 480 481 482 483 484 485\n",
      " 486 487 488 489 490 491 492 493 494 495 496 497 498 499 500 501 502 503\n",
      " 504 505 506 507 508 509 510 511 512 513 514 515 516 517 518 519 520 521\n",
      " 522 523 524 525 526 527 528 529 530 531 532 533 534 535 536 537 538 539\n",
      " 540 541 542 543 544 545 546 547 548 549 550 551 552 553 554 555 556 557\n",
      " 558 559 560 561 562 563 564 565 566 567 568 569 570 571 572 573 574 575\n",
      " 576 577 578 579 580 581 582 583 584 585 586 587 588 589 590 591 592 593\n",
      " 594 595 596 597 598 599 600 601 602 603]\n",
      "Testing indices: [604 605 606 607 608 609 610 611 612 613 614 615 616 617 618 619 620 621\n",
      " 622 623 624 625 626 627 628 629 630 631 632 633 634 635 636 637 638 639\n",
      " 640 641 642 643 644 645 646 647 648 649 650 651 652 653 654 655 656 657\n",
      " 658 659 660 661 662 663 664 665 666 667 668 669 670 671 672 673 674 675\n",
      " 676 677 678 679 680 681 682 683 684 685 686 687 688 689 690 691 692 693\n",
      " 694 695 696 697 698 699 700 701 702 703 704 705 706 707 708 709 710 711\n",
      " 712 713 714 715 716 717 718 719 720 721 722]\n",
      "\n",
      "Split 6:\n",
      "Training indices: [  0   1   2   3   4   5   6   7   8   9  10  11  12  13  14  15  16  17\n",
      "  18  19  20  21  22  23  24  25  26  27  28  29  30  31  32  33  34  35\n",
      "  36  37  38  39  40  41  42  43  44  45  46  47  48  49  50  51  52  53\n",
      "  54  55  56  57  58  59  60  61  62  63  64  65  66  67  68  69  70  71\n",
      "  72  73  74  75  76  77  78  79  80  81  82  83  84  85  86  87  88  89\n",
      "  90  91  92  93  94  95  96  97  98  99 100 101 102 103 104 105 106 107\n",
      " 108 109 110 111 112 113 114 115 116 117 118 119 120 121 122 123 124 125\n",
      " 126 127 128 129 130 131 132 133 134 135 136 137 138 139 140 141 142 143\n",
      " 144 145 146 147 148 149 150 151 152 153 154 155 156 157 158 159 160 161\n",
      " 162 163 164 165 166 167 168 169 170 171 172 173 174 175 176 177 178 179\n",
      " 180 181 182 183 184 185 186 187 188 189 190 191 192 193 194 195 196 197\n",
      " 198 199 200 201 202 203 204 205 206 207 208 209 210 211 212 213 214 215\n",
      " 216 217 218 219 220 221 222 223 224 225 226 227 228 229 230 231 232 233\n",
      " 234 235 236 237 238 239 240 241 242 243 244 245 246 247 248 249 250 251\n",
      " 252 253 254 255 256 257 258 259 260 261 262 263 264 265 266 267 268 269\n",
      " 270 271 272 273 274 275 276 277 278 279 280 281 282 283 284 285 286 287\n",
      " 288 289 290 291 292 293 294 295 296 297 298 299 300 301 302 303 304 305\n",
      " 306 307 308 309 310 311 312 313 314 315 316 317 318 319 320 321 322 323\n",
      " 324 325 326 327 328 329 330 331 332 333 334 335 336 337 338 339 340 341\n",
      " 342 343 344 345 346 347 348 349 350 351 352 353 354 355 356 357 358 359\n",
      " 360 361 362 363 364 365 366 367 368 369 370 371 372 373 374 375 376 377\n",
      " 378 379 380 381 382 383 384 385 386 387 388 389 390 391 392 393 394 395\n",
      " 396 397 398 399 400 401 402 403 404 405 406 407 408 409 410 411 412 413\n",
      " 414 415 416 417 418 419 420 421 422 423 424 425 426 427 428 429 430 431\n",
      " 432 433 434 435 436 437 438 439 440 441 442 443 444 445 446 447 448 449\n",
      " 450 451 452 453 454 455 456 457 458 459 460 461 462 463 464 465 466 467\n",
      " 468 469 470 471 472 473 474 475 476 477 478 479 480 481 482 483 484 485\n",
      " 486 487 488 489 490 491 492 493 494 495 496 497 498 499 500 501 502 503\n",
      " 504 505 506 507 508 509 510 511 512 513 514 515 516 517 518 519 520 521\n",
      " 522 523 524 525 526 527 528 529 530 531 532 533 534 535 536 537 538 539\n",
      " 540 541 542 543 544 545 546 547 548 549 550 551 552 553 554 555 556 557\n",
      " 558 559 560 561 562 563 564 565 566 567 568 569 570 571 572 573 574 575\n",
      " 576 577 578 579 580 581 582 583 584 585 586 587 588 589 590 591 592 593\n",
      " 594 595 596 597 598 599 600 601 602 603 604 605 606 607 608 609 610 611\n",
      " 612 613 614 615 616 617 618 619 620 621 622 623 624 625 626 627 628 629\n",
      " 630 631 632 633 634 635 636 637 638 639 640 641 642 643 644 645 646 647\n",
      " 648 649 650 651 652 653 654 655 656 657 658 659 660 661 662 663 664 665\n",
      " 666 667 668 669 670 671 672 673 674 675 676 677 678 679 680 681 682 683\n",
      " 684 685 686 687 688 689 690 691 692 693 694 695 696 697 698 699 700 701\n",
      " 702 703 704 705 706 707 708 709 710 711 712 713 714 715 716 717 718 719\n",
      " 720 721 722]\n",
      "Testing indices: [723 724 725 726 727 728 729 730 731 732 733 734 735 736 737 738 739 740\n",
      " 741 742 743 744 745 746 747 748 749 750 751 752 753 754 755 756 757 758\n",
      " 759 760 761 762 763 764 765 766 767 768 769 770 771 772 773 774 775 776\n",
      " 777 778 779 780 781 782 783 784 785 786 787 788 789 790 791 792 793 794\n",
      " 795 796 797 798 799 800 801 802 803 804 805 806 807 808 809 810 811 812\n",
      " 813 814 815 816 817 818 819 820 821 822 823 824 825 826 827 828 829 830\n",
      " 831 832 833 834 835 836 837 838 839 840 841]\n",
      "\n",
      "Split 7:\n",
      "Training indices: [  0   1   2   3   4   5   6   7   8   9  10  11  12  13  14  15  16  17\n",
      "  18  19  20  21  22  23  24  25  26  27  28  29  30  31  32  33  34  35\n",
      "  36  37  38  39  40  41  42  43  44  45  46  47  48  49  50  51  52  53\n",
      "  54  55  56  57  58  59  60  61  62  63  64  65  66  67  68  69  70  71\n",
      "  72  73  74  75  76  77  78  79  80  81  82  83  84  85  86  87  88  89\n",
      "  90  91  92  93  94  95  96  97  98  99 100 101 102 103 104 105 106 107\n",
      " 108 109 110 111 112 113 114 115 116 117 118 119 120 121 122 123 124 125\n",
      " 126 127 128 129 130 131 132 133 134 135 136 137 138 139 140 141 142 143\n",
      " 144 145 146 147 148 149 150 151 152 153 154 155 156 157 158 159 160 161\n",
      " 162 163 164 165 166 167 168 169 170 171 172 173 174 175 176 177 178 179\n",
      " 180 181 182 183 184 185 186 187 188 189 190 191 192 193 194 195 196 197\n",
      " 198 199 200 201 202 203 204 205 206 207 208 209 210 211 212 213 214 215\n",
      " 216 217 218 219 220 221 222 223 224 225 226 227 228 229 230 231 232 233\n",
      " 234 235 236 237 238 239 240 241 242 243 244 245 246 247 248 249 250 251\n",
      " 252 253 254 255 256 257 258 259 260 261 262 263 264 265 266 267 268 269\n",
      " 270 271 272 273 274 275 276 277 278 279 280 281 282 283 284 285 286 287\n",
      " 288 289 290 291 292 293 294 295 296 297 298 299 300 301 302 303 304 305\n",
      " 306 307 308 309 310 311 312 313 314 315 316 317 318 319 320 321 322 323\n",
      " 324 325 326 327 328 329 330 331 332 333 334 335 336 337 338 339 340 341\n",
      " 342 343 344 345 346 347 348 349 350 351 352 353 354 355 356 357 358 359\n",
      " 360 361 362 363 364 365 366 367 368 369 370 371 372 373 374 375 376 377\n",
      " 378 379 380 381 382 383 384 385 386 387 388 389 390 391 392 393 394 395\n",
      " 396 397 398 399 400 401 402 403 404 405 406 407 408 409 410 411 412 413\n",
      " 414 415 416 417 418 419 420 421 422 423 424 425 426 427 428 429 430 431\n",
      " 432 433 434 435 436 437 438 439 440 441 442 443 444 445 446 447 448 449\n",
      " 450 451 452 453 454 455 456 457 458 459 460 461 462 463 464 465 466 467\n",
      " 468 469 470 471 472 473 474 475 476 477 478 479 480 481 482 483 484 485\n",
      " 486 487 488 489 490 491 492 493 494 495 496 497 498 499 500 501 502 503\n",
      " 504 505 506 507 508 509 510 511 512 513 514 515 516 517 518 519 520 521\n",
      " 522 523 524 525 526 527 528 529 530 531 532 533 534 535 536 537 538 539\n",
      " 540 541 542 543 544 545 546 547 548 549 550 551 552 553 554 555 556 557\n",
      " 558 559 560 561 562 563 564 565 566 567 568 569 570 571 572 573 574 575\n",
      " 576 577 578 579 580 581 582 583 584 585 586 587 588 589 590 591 592 593\n",
      " 594 595 596 597 598 599 600 601 602 603 604 605 606 607 608 609 610 611\n",
      " 612 613 614 615 616 617 618 619 620 621 622 623 624 625 626 627 628 629\n",
      " 630 631 632 633 634 635 636 637 638 639 640 641 642 643 644 645 646 647\n",
      " 648 649 650 651 652 653 654 655 656 657 658 659 660 661 662 663 664 665\n",
      " 666 667 668 669 670 671 672 673 674 675 676 677 678 679 680 681 682 683\n",
      " 684 685 686 687 688 689 690 691 692 693 694 695 696 697 698 699 700 701\n",
      " 702 703 704 705 706 707 708 709 710 711 712 713 714 715 716 717 718 719\n",
      " 720 721 722 723 724 725 726 727 728 729 730 731 732 733 734 735 736 737\n",
      " 738 739 740 741 742 743 744 745 746 747 748 749 750 751 752 753 754 755\n",
      " 756 757 758 759 760 761 762 763 764 765 766 767 768 769 770 771 772 773\n",
      " 774 775 776 777 778 779 780 781 782 783 784 785 786 787 788 789 790 791\n",
      " 792 793 794 795 796 797 798 799 800 801 802 803 804 805 806 807 808 809\n",
      " 810 811 812 813 814 815 816 817 818 819 820 821 822 823 824 825 826 827\n",
      " 828 829 830 831 832 833 834 835 836 837 838 839 840 841]\n",
      "Testing indices: [842 843 844 845 846 847 848 849 850 851 852 853 854 855 856 857 858 859\n",
      " 860 861 862 863 864 865 866 867 868 869 870 871 872 873 874 875 876 877\n",
      " 878 879 880 881 882 883 884 885 886 887 888 889 890 891 892 893 894 895\n",
      " 896 897 898 899 900 901 902 903 904 905 906 907 908 909 910 911 912 913\n",
      " 914 915 916 917 918 919 920 921 922 923 924 925 926 927 928 929 930 931\n",
      " 932 933 934 935 936 937 938 939 940 941 942 943 944 945 946 947 948 949\n",
      " 950 951 952 953 954 955 956 957 958 959 960]\n",
      "\n",
      "Split 8:\n",
      "Training indices: [  0   1   2   3   4   5   6   7   8   9  10  11  12  13  14  15  16  17\n",
      "  18  19  20  21  22  23  24  25  26  27  28  29  30  31  32  33  34  35\n",
      "  36  37  38  39  40  41  42  43  44  45  46  47  48  49  50  51  52  53\n",
      "  54  55  56  57  58  59  60  61  62  63  64  65  66  67  68  69  70  71\n",
      "  72  73  74  75  76  77  78  79  80  81  82  83  84  85  86  87  88  89\n",
      "  90  91  92  93  94  95  96  97  98  99 100 101 102 103 104 105 106 107\n",
      " 108 109 110 111 112 113 114 115 116 117 118 119 120 121 122 123 124 125\n",
      " 126 127 128 129 130 131 132 133 134 135 136 137 138 139 140 141 142 143\n",
      " 144 145 146 147 148 149 150 151 152 153 154 155 156 157 158 159 160 161\n",
      " 162 163 164 165 166 167 168 169 170 171 172 173 174 175 176 177 178 179\n",
      " 180 181 182 183 184 185 186 187 188 189 190 191 192 193 194 195 196 197\n",
      " 198 199 200 201 202 203 204 205 206 207 208 209 210 211 212 213 214 215\n",
      " 216 217 218 219 220 221 222 223 224 225 226 227 228 229 230 231 232 233\n",
      " 234 235 236 237 238 239 240 241 242 243 244 245 246 247 248 249 250 251\n",
      " 252 253 254 255 256 257 258 259 260 261 262 263 264 265 266 267 268 269\n",
      " 270 271 272 273 274 275 276 277 278 279 280 281 282 283 284 285 286 287\n",
      " 288 289 290 291 292 293 294 295 296 297 298 299 300 301 302 303 304 305\n",
      " 306 307 308 309 310 311 312 313 314 315 316 317 318 319 320 321 322 323\n",
      " 324 325 326 327 328 329 330 331 332 333 334 335 336 337 338 339 340 341\n",
      " 342 343 344 345 346 347 348 349 350 351 352 353 354 355 356 357 358 359\n",
      " 360 361 362 363 364 365 366 367 368 369 370 371 372 373 374 375 376 377\n",
      " 378 379 380 381 382 383 384 385 386 387 388 389 390 391 392 393 394 395\n",
      " 396 397 398 399 400 401 402 403 404 405 406 407 408 409 410 411 412 413\n",
      " 414 415 416 417 418 419 420 421 422 423 424 425 426 427 428 429 430 431\n",
      " 432 433 434 435 436 437 438 439 440 441 442 443 444 445 446 447 448 449\n",
      " 450 451 452 453 454 455 456 457 458 459 460 461 462 463 464 465 466 467\n",
      " 468 469 470 471 472 473 474 475 476 477 478 479 480 481 482 483 484 485\n",
      " 486 487 488 489 490 491 492 493 494 495 496 497 498 499 500 501 502 503\n",
      " 504 505 506 507 508 509 510 511 512 513 514 515 516 517 518 519 520 521\n",
      " 522 523 524 525 526 527 528 529 530 531 532 533 534 535 536 537 538 539\n",
      " 540 541 542 543 544 545 546 547 548 549 550 551 552 553 554 555 556 557\n",
      " 558 559 560 561 562 563 564 565 566 567 568 569 570 571 572 573 574 575\n",
      " 576 577 578 579 580 581 582 583 584 585 586 587 588 589 590 591 592 593\n",
      " 594 595 596 597 598 599 600 601 602 603 604 605 606 607 608 609 610 611\n",
      " 612 613 614 615 616 617 618 619 620 621 622 623 624 625 626 627 628 629\n",
      " 630 631 632 633 634 635 636 637 638 639 640 641 642 643 644 645 646 647\n",
      " 648 649 650 651 652 653 654 655 656 657 658 659 660 661 662 663 664 665\n",
      " 666 667 668 669 670 671 672 673 674 675 676 677 678 679 680 681 682 683\n",
      " 684 685 686 687 688 689 690 691 692 693 694 695 696 697 698 699 700 701\n",
      " 702 703 704 705 706 707 708 709 710 711 712 713 714 715 716 717 718 719\n",
      " 720 721 722 723 724 725 726 727 728 729 730 731 732 733 734 735 736 737\n",
      " 738 739 740 741 742 743 744 745 746 747 748 749 750 751 752 753 754 755\n",
      " 756 757 758 759 760 761 762 763 764 765 766 767 768 769 770 771 772 773\n",
      " 774 775 776 777 778 779 780 781 782 783 784 785 786 787 788 789 790 791\n",
      " 792 793 794 795 796 797 798 799 800 801 802 803 804 805 806 807 808 809\n",
      " 810 811 812 813 814 815 816 817 818 819 820 821 822 823 824 825 826 827\n",
      " 828 829 830 831 832 833 834 835 836 837 838 839 840 841 842 843 844 845\n",
      " 846 847 848 849 850 851 852 853 854 855 856 857 858 859 860 861 862 863\n",
      " 864 865 866 867 868 869 870 871 872 873 874 875 876 877 878 879 880 881\n",
      " 882 883 884 885 886 887 888 889 890 891 892 893 894 895 896 897 898 899\n",
      " 900 901 902 903 904 905 906 907 908 909 910 911 912 913 914 915 916 917\n",
      " 918 919 920 921 922 923 924 925 926 927 928 929 930 931 932 933 934 935\n",
      " 936 937 938 939 940 941 942 943 944 945 946 947 948 949 950 951 952 953\n",
      " 954 955 956 957 958 959 960]\n",
      "Testing indices: [ 961  962  963  964  965  966  967  968  969  970  971  972  973  974\n",
      "  975  976  977  978  979  980  981  982  983  984  985  986  987  988\n",
      "  989  990  991  992  993  994  995  996  997  998  999 1000 1001 1002\n",
      " 1003 1004 1005 1006 1007 1008 1009 1010 1011 1012 1013 1014 1015 1016\n",
      " 1017 1018 1019 1020 1021 1022 1023 1024 1025 1026 1027 1028 1029 1030\n",
      " 1031 1032 1033 1034 1035 1036 1037 1038 1039 1040 1041 1042 1043 1044\n",
      " 1045 1046 1047 1048 1049 1050 1051 1052 1053 1054 1055 1056 1057 1058\n",
      " 1059 1060 1061 1062 1063 1064 1065 1066 1067 1068 1069 1070 1071 1072\n",
      " 1073 1074 1075 1076 1077 1078 1079]\n",
      "\n",
      "Split 9:\n",
      "Training indices: [   0    1    2 ... 1077 1078 1079]\n",
      "Testing indices: [1080 1081 1082 1083 1084 1085 1086 1087 1088 1089 1090 1091 1092 1093\n",
      " 1094 1095 1096 1097 1098 1099 1100 1101 1102 1103 1104 1105 1106 1107\n",
      " 1108 1109 1110 1111 1112 1113 1114 1115 1116 1117 1118 1119 1120 1121\n",
      " 1122 1123 1124 1125 1126 1127 1128 1129 1130 1131 1132 1133 1134 1135\n",
      " 1136 1137 1138 1139 1140 1141 1142 1143 1144 1145 1146 1147 1148 1149\n",
      " 1150 1151 1152 1153 1154 1155 1156 1157 1158 1159 1160 1161 1162 1163\n",
      " 1164 1165 1166 1167 1168 1169 1170 1171 1172 1173 1174 1175 1176 1177\n",
      " 1178 1179 1180 1181 1182 1183 1184 1185 1186 1187 1188 1189 1190 1191\n",
      " 1192 1193 1194 1195 1196 1197 1198]\n",
      "\n",
      "Split 10:\n",
      "Training indices: [   0    1    2 ... 1196 1197 1198]\n",
      "Testing indices: [1199 1200 1201 1202 1203 1204 1205 1206 1207 1208 1209 1210 1211 1212\n",
      " 1213 1214 1215 1216 1217 1218 1219 1220 1221 1222 1223 1224 1225 1226\n",
      " 1227 1228 1229 1230 1231 1232 1233 1234 1235 1236 1237 1238 1239 1240\n",
      " 1241 1242 1243 1244 1245 1246 1247 1248 1249 1250 1251 1252 1253 1254\n",
      " 1255 1256 1257 1258 1259 1260 1261 1262 1263 1264 1265 1266 1267 1268\n",
      " 1269 1270 1271 1272 1273 1274 1275 1276 1277 1278 1279 1280 1281 1282\n",
      " 1283 1284 1285 1286 1287 1288 1289 1290 1291 1292 1293 1294 1295 1296\n",
      " 1297 1298 1299 1300 1301 1302 1303 1304 1305 1306 1307 1308 1309 1310\n",
      " 1311 1312 1313 1314 1315 1316 1317]\n",
      "\n",
      "Split 11:\n",
      "Training indices: [   0    1    2 ... 1315 1316 1317]\n",
      "Testing indices: [1318 1319 1320 1321 1322 1323 1324 1325 1326 1327 1328 1329 1330 1331\n",
      " 1332 1333 1334 1335 1336 1337 1338 1339 1340 1341 1342 1343 1344 1345\n",
      " 1346 1347 1348 1349 1350 1351 1352 1353 1354 1355 1356 1357 1358 1359\n",
      " 1360 1361 1362 1363 1364 1365 1366 1367 1368 1369 1370 1371 1372 1373\n",
      " 1374 1375 1376 1377 1378 1379 1380 1381 1382 1383 1384 1385 1386 1387\n",
      " 1388 1389 1390 1391 1392 1393 1394 1395 1396 1397 1398 1399 1400 1401\n",
      " 1402 1403 1404 1405 1406 1407 1408 1409 1410 1411 1412 1413 1414 1415\n",
      " 1416 1417 1418 1419 1420 1421 1422 1423 1424 1425 1426 1427 1428 1429\n",
      " 1430 1431 1432 1433 1434 1435 1436]\n",
      "\n",
      "Split 12:\n",
      "Training indices: [   0    1    2 ... 1434 1435 1436]\n",
      "Testing indices: [1437 1438 1439 1440 1441 1442 1443 1444 1445 1446 1447 1448 1449 1450\n",
      " 1451 1452 1453 1454 1455 1456 1457 1458 1459 1460 1461 1462 1463 1464\n",
      " 1465 1466 1467 1468 1469 1470 1471 1472 1473 1474 1475 1476 1477 1478\n",
      " 1479 1480 1481 1482 1483 1484 1485 1486 1487 1488 1489 1490 1491 1492\n",
      " 1493 1494 1495 1496 1497 1498 1499 1500 1501 1502 1503 1504 1505 1506\n",
      " 1507 1508 1509 1510 1511 1512 1513 1514 1515 1516 1517 1518 1519 1520\n",
      " 1521 1522 1523 1524 1525 1526 1527 1528 1529 1530 1531 1532 1533 1534\n",
      " 1535 1536 1537 1538 1539 1540 1541 1542 1543 1544 1545 1546 1547 1548\n",
      " 1549 1550 1551 1552 1553 1554 1555]\n",
      "\n",
      "Split 13:\n",
      "Training indices: [   0    1    2 ... 1553 1554 1555]\n",
      "Testing indices: [1556 1557 1558 1559 1560 1561 1562 1563 1564 1565 1566 1567 1568 1569\n",
      " 1570 1571 1572 1573 1574 1575 1576 1577 1578 1579 1580 1581 1582 1583\n",
      " 1584 1585 1586 1587 1588 1589 1590 1591 1592 1593 1594 1595 1596 1597\n",
      " 1598 1599 1600 1601 1602 1603 1604 1605 1606 1607 1608 1609 1610 1611\n",
      " 1612 1613 1614 1615 1616 1617 1618 1619 1620 1621 1622 1623 1624 1625\n",
      " 1626 1627 1628 1629 1630 1631 1632 1633 1634 1635 1636 1637 1638 1639\n",
      " 1640 1641 1642 1643 1644 1645 1646 1647 1648 1649 1650 1651 1652 1653\n",
      " 1654 1655 1656 1657 1658 1659 1660 1661 1662 1663 1664 1665 1666 1667\n",
      " 1668 1669 1670 1671 1672 1673 1674]\n",
      "\n",
      "Split 14:\n",
      "Training indices: [   0    1    2 ... 1672 1673 1674]\n",
      "Testing indices: [1675 1676 1677 1678 1679 1680 1681 1682 1683 1684 1685 1686 1687 1688\n",
      " 1689 1690 1691 1692 1693 1694 1695 1696 1697 1698 1699 1700 1701 1702\n",
      " 1703 1704 1705 1706 1707 1708 1709 1710 1711 1712 1713 1714 1715 1716\n",
      " 1717 1718 1719 1720 1721 1722 1723 1724 1725 1726 1727 1728 1729 1730\n",
      " 1731 1732 1733 1734 1735 1736 1737 1738 1739 1740 1741 1742 1743 1744\n",
      " 1745 1746 1747 1748 1749 1750 1751 1752 1753 1754 1755 1756 1757 1758\n",
      " 1759 1760 1761 1762 1763 1764 1765 1766 1767 1768 1769 1770 1771 1772\n",
      " 1773 1774 1775 1776 1777 1778 1779 1780 1781 1782 1783 1784 1785 1786\n",
      " 1787 1788 1789 1790 1791 1792 1793]\n",
      "\n",
      "Split 15:\n",
      "Training indices: [   0    1    2 ... 1791 1792 1793]\n",
      "Testing indices: [1794 1795 1796 1797 1798 1799 1800 1801 1802 1803 1804 1805 1806 1807\n",
      " 1808 1809 1810 1811 1812 1813 1814 1815 1816 1817 1818 1819 1820 1821\n",
      " 1822 1823 1824 1825 1826 1827 1828 1829 1830 1831 1832 1833 1834 1835\n",
      " 1836 1837 1838 1839 1840 1841 1842 1843 1844 1845 1846 1847 1848 1849\n",
      " 1850 1851 1852 1853 1854 1855 1856 1857 1858 1859 1860 1861 1862 1863\n",
      " 1864 1865 1866 1867 1868 1869 1870 1871 1872 1873 1874 1875 1876 1877\n",
      " 1878 1879 1880 1881 1882 1883 1884 1885 1886 1887 1888 1889 1890 1891\n",
      " 1892 1893 1894 1895 1896 1897 1898 1899 1900 1901 1902 1903 1904 1905\n",
      " 1906 1907 1908 1909 1910 1911 1912]\n",
      "\n",
      "Split 16:\n",
      "Training indices: [   0    1    2 ... 1910 1911 1912]\n",
      "Testing indices: [1913 1914 1915 1916 1917 1918 1919 1920 1921 1922 1923 1924 1925 1926\n",
      " 1927 1928 1929 1930 1931 1932 1933 1934 1935 1936 1937 1938 1939 1940\n",
      " 1941 1942 1943 1944 1945 1946 1947 1948 1949 1950 1951 1952 1953 1954\n",
      " 1955 1956 1957 1958 1959 1960 1961 1962 1963 1964 1965 1966 1967 1968\n",
      " 1969 1970 1971 1972 1973 1974 1975 1976 1977 1978 1979 1980 1981 1982\n",
      " 1983 1984 1985 1986 1987 1988 1989 1990 1991 1992 1993 1994 1995 1996\n",
      " 1997 1998 1999 2000 2001 2002 2003 2004 2005 2006 2007 2008 2009 2010\n",
      " 2011 2012 2013 2014 2015 2016 2017 2018 2019 2020 2021 2022 2023 2024\n",
      " 2025 2026 2027 2028 2029 2030 2031]\n",
      "\n",
      "Split 17:\n",
      "Training indices: [   0    1    2 ... 2029 2030 2031]\n",
      "Testing indices: [2032 2033 2034 2035 2036 2037 2038 2039 2040 2041 2042 2043 2044 2045\n",
      " 2046 2047 2048 2049 2050 2051 2052 2053 2054 2055 2056 2057 2058 2059\n",
      " 2060 2061 2062 2063 2064 2065 2066 2067 2068 2069 2070 2071 2072 2073\n",
      " 2074 2075 2076 2077 2078 2079 2080 2081 2082 2083 2084 2085 2086 2087\n",
      " 2088 2089 2090 2091 2092 2093 2094 2095 2096 2097 2098 2099 2100 2101\n",
      " 2102 2103 2104 2105 2106 2107 2108 2109 2110 2111 2112 2113 2114 2115\n",
      " 2116 2117 2118 2119 2120 2121 2122 2123 2124 2125 2126 2127 2128 2129\n",
      " 2130 2131 2132 2133 2134 2135 2136 2137 2138 2139 2140 2141 2142 2143\n",
      " 2144 2145 2146 2147 2148 2149 2150]\n",
      "\n",
      "Split 18:\n",
      "Training indices: [   0    1    2 ... 2148 2149 2150]\n",
      "Testing indices: [2151 2152 2153 2154 2155 2156 2157 2158 2159 2160 2161 2162 2163 2164\n",
      " 2165 2166 2167 2168 2169 2170 2171 2172 2173 2174 2175 2176 2177 2178\n",
      " 2179 2180 2181 2182 2183 2184 2185 2186 2187 2188 2189 2190 2191 2192\n",
      " 2193 2194 2195 2196 2197 2198 2199 2200 2201 2202 2203 2204 2205 2206\n",
      " 2207 2208 2209 2210 2211 2212 2213 2214 2215 2216 2217 2218 2219 2220\n",
      " 2221 2222 2223 2224 2225 2226 2227 2228 2229 2230 2231 2232 2233 2234\n",
      " 2235 2236 2237 2238 2239 2240 2241 2242 2243 2244 2245 2246 2247 2248\n",
      " 2249 2250 2251 2252 2253 2254 2255 2256 2257 2258 2259 2260 2261 2262\n",
      " 2263 2264 2265 2266 2267 2268 2269]\n",
      "\n",
      "Split 19:\n",
      "Training indices: [   0    1    2 ... 2267 2268 2269]\n",
      "Testing indices: [2270 2271 2272 2273 2274 2275 2276 2277 2278 2279 2280 2281 2282 2283\n",
      " 2284 2285 2286 2287 2288 2289 2290 2291 2292 2293 2294 2295 2296 2297\n",
      " 2298 2299 2300 2301 2302 2303 2304 2305 2306 2307 2308 2309 2310 2311\n",
      " 2312 2313 2314 2315 2316 2317 2318 2319 2320 2321 2322 2323 2324 2325\n",
      " 2326 2327 2328 2329 2330 2331 2332 2333 2334 2335 2336 2337 2338 2339\n",
      " 2340 2341 2342 2343 2344 2345 2346 2347 2348 2349 2350 2351 2352 2353\n",
      " 2354 2355 2356 2357 2358 2359 2360 2361 2362 2363 2364 2365 2366 2367\n",
      " 2368 2369 2370 2371 2372 2373 2374 2375 2376 2377 2378 2379 2380 2381\n",
      " 2382 2383 2384 2385 2386 2387 2388]\n",
      "\n",
      "Split 20:\n",
      "Training indices: [   0    1    2 ... 2386 2387 2388]\n",
      "Testing indices: [2389 2390 2391 2392 2393 2394 2395 2396 2397 2398 2399 2400 2401 2402\n",
      " 2403 2404 2405 2406 2407 2408 2409 2410 2411 2412 2413 2414 2415 2416\n",
      " 2417 2418 2419 2420 2421 2422 2423 2424 2425 2426 2427 2428 2429 2430\n",
      " 2431 2432 2433 2434 2435 2436 2437 2438 2439 2440 2441 2442 2443 2444\n",
      " 2445 2446 2447 2448 2449 2450 2451 2452 2453 2454 2455 2456 2457 2458\n",
      " 2459 2460 2461 2462 2463 2464 2465 2466 2467 2468 2469 2470 2471 2472\n",
      " 2473 2474 2475 2476 2477 2478 2479 2480 2481 2482 2483 2484 2485 2486\n",
      " 2487 2488 2489 2490 2491 2492 2493 2494 2495 2496 2497 2498 2499 2500\n",
      " 2501 2502 2503 2504 2505 2506 2507]\n",
      "\n"
     ]
    }
   ],
   "source": [
    "for split_idx, (train_idx, test_idx) in enumerate(tscv.split(X_train)):\n",
    "    print(f'Split {split_idx + 1}:')\n",
    "    print(f'Training indices: {train_idx}')\n",
    "    print(f'Testing indices: {test_idx}')\n",
    "    print()"
   ]
  },
  {
   "cell_type": "code",
   "execution_count": 351,
   "metadata": {},
   "outputs": [
    {
     "name": "stdout",
     "output_type": "stream",
     "text": [
      "Confusion Matrix for Split 1:\n",
      "[[119]]\n",
      "\n",
      "Confusion Matrix for Split 2:\n",
      "[[119]]\n",
      "\n",
      "Confusion Matrix for Split 3:\n",
      "[[119]]\n",
      "\n",
      "Confusion Matrix for Split 4:\n",
      "[[119]]\n",
      "\n",
      "Confusion Matrix for Split 5:\n",
      "[[119]]\n",
      "\n",
      "Confusion Matrix for Split 6:\n",
      "[[119]]\n",
      "\n",
      "Confusion Matrix for Split 7:\n",
      "[[119]]\n",
      "\n",
      "Confusion Matrix for Split 8:\n",
      "[[119]]\n",
      "\n",
      "Confusion Matrix for Split 9:\n",
      "[[119]]\n",
      "\n",
      "Confusion Matrix for Split 10:\n",
      "[[ 0 64]\n",
      " [ 0 55]]\n",
      "\n",
      "Confusion Matrix for Split 11:\n",
      "[[80 39]\n",
      " [ 0  0]]\n",
      "\n",
      "Confusion Matrix for Split 12:\n",
      "[[92 27]\n",
      " [ 0  0]]\n",
      "\n",
      "Confusion Matrix for Split 13:\n",
      "[[90 29]\n",
      " [ 0  0]]\n",
      "\n",
      "Confusion Matrix for Split 14:\n",
      "[[88 31]\n",
      " [ 0  0]]\n",
      "\n",
      "Confusion Matrix for Split 15:\n",
      "[[94 25]\n",
      " [ 0  0]]\n",
      "\n",
      "Confusion Matrix for Split 16:\n",
      "[[101  18]\n",
      " [  0   0]]\n",
      "\n",
      "Confusion Matrix for Split 17:\n",
      "[[104  15]\n",
      " [  0   0]]\n",
      "\n",
      "Confusion Matrix for Split 18:\n",
      "[[108  11]\n",
      " [  0   0]]\n",
      "\n",
      "Confusion Matrix for Split 19:\n",
      "[[111   8]\n",
      " [  0   0]]\n",
      "\n",
      "Confusion Matrix for Split 20:\n",
      "[[102  17]\n",
      " [  0   0]]\n",
      "\n"
     ]
    }
   ],
   "source": [
    "\n",
    "\n",
    "for split_idx, (train_idx, test_idx) in enumerate(tscv.split(X_train)):\n",
    "    X_train_split, X_test_split = X_train[train_idx], X_train[test_idx]\n",
    "    y_train_split, y_test_split = y_train[train_idx], y_train[test_idx]\n",
    "    grid_search.best_estimator_.fit(X_train_split, y_train_split)\n",
    "    y_pred_split = grid_search.best_estimator_.predict(X_test_split)\n",
    "\n",
    "    cm = confusion_matrix(y_test_split, y_pred_split)\n",
    "    print(f'Confusion Matrix for Split {split_idx + 1}:\\n{cm}')\n",
    "    print()\n"
   ]
  },
  {
   "cell_type": "code",
   "execution_count": 352,
   "metadata": {},
   "outputs": [
    {
     "name": "stdout",
     "output_type": "stream",
     "text": [
      "Indices for class label 1: [0, 1, 2, 3, 4, 5, 6, 7, 8, 9, 10, 11, 12, 13, 14, 15, 16, 17, 18, 19, 20, 21, 22, 23, 24, 25, 26, 27, 28, 29, 30, 31, 32, 33, 34, 35, 36, 37, 38, 39, 40, 41, 42, 43, 44, 45, 46, 47, 48, 49, 50, 51, 52, 53, 54, 55, 56, 57, 58, 59, 60, 61, 62, 63, 64, 65, 66, 67, 68, 69, 70, 71, 72, 73, 74, 75, 76, 77, 78, 79, 80, 81, 82, 83, 84, 85, 86, 87, 88, 89, 90, 91, 92, 93, 94, 95, 96, 97, 98, 99, 100, 101, 102, 103, 104, 105, 106, 107, 108, 109, 110, 111, 112, 113, 114, 115, 116, 117, 118, 119, 120, 121, 122, 123, 124, 125, 126, 127, 128, 129, 130, 131, 132, 133, 134, 135, 136, 137, 138, 139, 140, 141, 142, 143, 144, 145, 146, 147, 148, 149, 150, 151, 152, 153, 154, 155, 156, 157, 158, 159, 160, 161, 162, 163, 164, 165, 166, 167, 168, 169, 170, 171, 172, 173, 174, 175, 176, 177, 178, 179, 180, 181, 182, 183, 184, 185, 186, 187, 188, 189, 190, 191, 192, 193, 194, 195, 196, 197, 198, 199, 200, 201, 202, 203, 204, 205, 206, 207, 208, 209, 210, 211, 212, 213, 214, 215, 216, 217, 218, 219, 220, 221, 222, 223, 224, 225, 226, 227, 228, 229, 230, 231, 232, 233, 234, 235, 236, 237, 238, 239, 240, 241, 242, 243, 244, 245, 246, 247, 248, 249, 250, 251, 252, 253, 254, 255, 256, 257, 258, 259, 260, 261, 262, 263, 264, 265, 266, 267, 268, 269, 270, 271, 272, 273, 274, 275, 276, 277, 278, 279, 280, 281, 282, 283, 284, 285, 286, 287, 288, 289, 290, 291, 292, 293, 294, 295, 296, 297, 298, 299, 300, 301, 302, 303, 304, 305, 306, 307, 308, 309, 310, 311, 312, 313, 314, 315, 316, 317, 318, 319, 320, 321, 322, 323, 324, 325, 326, 327, 328, 329, 330, 331, 332, 333, 334, 335, 336, 337, 338, 339, 340, 341, 342, 343, 344, 345, 346, 347, 348, 349, 350, 351, 352, 353, 354, 355, 356, 357, 358, 359, 360, 361, 362, 363, 364, 365, 366, 367, 368, 369, 370, 371, 372, 373, 374, 375, 376, 377, 378, 379, 380, 381, 382, 383, 384, 385, 386, 387, 388, 389, 390, 391, 392, 393, 394, 395, 396, 397, 398, 399, 400, 401, 402, 403, 404, 405, 406, 407, 408, 409, 410, 411, 412, 413, 414, 415, 416, 417, 418, 419, 420, 421, 422, 423, 424, 425, 426, 427, 428, 429, 430, 431, 432, 433, 434, 435, 436, 437, 438, 439, 440, 441, 442, 443, 444, 445, 446, 447, 448, 449, 450, 451, 452, 453, 454, 455, 456, 457, 458, 459, 460, 461, 462, 463, 464, 465, 466, 467, 468, 469, 470, 471, 472, 473, 474, 475, 476, 477, 478, 479, 480, 481, 482, 483, 484, 485, 486, 487, 488, 489, 490, 491, 492, 493, 494, 495, 496, 497, 498, 499, 500, 501, 502, 503, 504, 505, 506, 507, 508, 509, 510, 511, 512, 513, 514, 515, 516, 517, 518, 519, 520, 521, 522, 523, 524, 525, 526, 527, 528, 529, 530, 531, 532, 533, 534, 535, 536, 537, 538, 539, 540, 541, 542, 543, 544, 545, 546, 547, 548, 549, 550, 551, 552, 553, 554, 555, 556, 557, 558, 559, 560, 561, 562, 563, 564, 565, 566, 567, 568, 569, 570, 571, 572, 573, 574, 575, 576, 577, 578, 579, 580, 581, 582, 583, 584, 585, 586, 587, 588, 589, 590, 591, 592, 593, 594, 595, 596, 597, 598, 599, 600, 601, 602, 603, 604, 605, 606, 607, 608, 609, 610, 611, 612, 613, 614, 615, 616, 617, 618, 619, 620, 621, 622, 623, 624, 625, 626, 627, 628, 629, 630, 631, 632, 633, 634, 635, 636, 637, 638, 639, 640, 641, 642, 643, 644, 645, 646, 647, 648, 649, 650, 651, 652, 653, 654, 655, 656, 657, 658, 659, 660, 661, 662, 663, 664, 665, 666, 667, 668, 669, 670, 671, 672, 673, 674, 675, 676, 677, 678, 679, 680, 681, 682, 683, 684, 685, 686, 687, 688, 689, 690, 691, 692, 693, 694, 695, 696, 697, 698, 699, 700, 701, 702, 703, 704, 705, 706, 707, 708, 709, 710, 711, 712, 713, 714, 715, 716, 717, 718, 719, 720, 721, 722, 723, 724, 725, 726, 727, 728, 729, 730, 731, 732, 733, 734, 735, 736, 737, 738, 739, 740, 741, 742, 743, 744, 745, 746, 747, 748, 749, 750, 751, 752, 753, 754, 755, 756, 757, 758, 759, 760, 761, 762, 763, 764, 765, 766, 767, 768, 769, 770, 771, 772, 773, 774, 775, 776, 777, 778, 779, 780, 781, 782, 783, 784, 785, 786, 787, 788, 789, 790, 791, 792, 793, 794, 795, 796, 797, 798, 799, 800, 801, 802, 803, 804, 805, 806, 807, 808, 809, 810, 811, 812, 813, 814, 815, 816, 817, 818, 819, 820, 821, 822, 823, 824, 825, 826, 827, 828, 829, 830, 831, 832, 833, 834, 835, 836, 837, 838, 839, 840, 841, 842, 843, 844, 845, 846, 847, 848, 849, 850, 851, 852, 853, 854, 855, 856, 857, 858, 859, 860, 861, 862, 863, 864, 865, 866, 867, 868, 869, 870, 871, 872, 873, 874, 875, 876, 877, 878, 879, 880, 881, 882, 883, 884, 885, 886, 887, 888, 889, 890, 891, 892, 893, 894, 895, 896, 897, 898, 899, 900, 901, 902, 903, 904, 905, 906, 907, 908, 909, 910, 911, 912, 913, 914, 915, 916, 917, 918, 919, 920, 921, 922, 923, 924, 925, 926, 927, 928, 929, 930, 931, 932, 933, 934, 935, 936, 937, 938, 939, 940, 941, 942, 943, 944, 945, 946, 947, 948, 949, 950, 951, 952, 953, 954, 955, 956, 957, 958, 959, 960, 961, 962, 963, 964, 965, 966, 967, 968, 969, 970, 971, 972, 973, 974, 975, 976, 977, 978, 979, 980, 981, 982, 983, 984, 985, 986, 987, 988, 989, 990, 991, 992, 993, 994, 995, 996, 997, 998, 999, 1000, 1001, 1002, 1003, 1004, 1005, 1006, 1007, 1008, 1009, 1010, 1011, 1012, 1013, 1014, 1015, 1016, 1017, 1018, 1019, 1020, 1021, 1022, 1023, 1024, 1025, 1026, 1027, 1028, 1029, 1030, 1031, 1032, 1033, 1034, 1035, 1036, 1037, 1038, 1039, 1040, 1041, 1042, 1043, 1044, 1045, 1046, 1047, 1048, 1049, 1050, 1051, 1052, 1053, 1054, 1055, 1056, 1057, 1058, 1059, 1060, 1061, 1062, 1063, 1064, 1065, 1066, 1067, 1068, 1069, 1070, 1071, 1072, 1073, 1074, 1075, 1076, 1077, 1078, 1079, 1080, 1081, 1082, 1083, 1084, 1085, 1086, 1087, 1088, 1089, 1090, 1091, 1092, 1093, 1094, 1095, 1096, 1097, 1098, 1099, 1100, 1101, 1102, 1103, 1104, 1105, 1106, 1107, 1108, 1109, 1110, 1111, 1112, 1113, 1114, 1115, 1116, 1117, 1118, 1119, 1120, 1121, 1122, 1123, 1124, 1125, 1126, 1127, 1128, 1129, 1130, 1131, 1132, 1133, 1134, 1135, 1136, 1137, 1138, 1139, 1140, 1141, 1142, 1143, 1144, 1145, 1146, 1147, 1148, 1149, 1150, 1151, 1152, 1153, 1154, 1155, 1156, 1157, 1158, 1159, 1160, 1161, 1162, 1163, 1164, 1165, 1166, 1167, 1168, 1169, 1170, 1171, 1172, 1173, 1174, 1175, 1176, 1177, 1178, 1179, 1180, 1181, 1182, 1183, 1184, 1185, 1186, 1187, 1188, 1189, 1190, 1191, 1192, 1193, 1194, 1195, 1196, 1197, 1198, 1199, 1200, 1201, 1202, 1203, 1204, 1205, 1206, 1207, 1208, 1209, 1210, 1211, 1212, 1213, 1214, 1215, 1216, 1217, 1218, 1219, 1220, 1221, 1222, 1223, 1224, 1225, 1226, 1227, 1228, 1229, 1230, 1231, 1232, 1233, 1234, 1235, 1236, 1237, 1238, 1239, 1240, 1241, 1242, 1243, 1244, 1245, 1246, 1247, 1248, 1249, 1250, 1251, 1252, 1253]\n",
      "Indices for class label 0: [1254, 1255, 1256, 1257, 1258, 1259, 1260, 1261, 1262, 1263, 1264, 1265, 1266, 1267, 1268, 1269, 1270, 1271, 1272, 1273, 1274, 1275, 1276, 1277, 1278, 1279, 1280, 1281, 1282, 1283, 1284, 1285, 1286, 1287, 1288, 1289, 1290, 1291, 1292, 1293, 1294, 1295, 1296, 1297, 1298, 1299, 1300, 1301, 1302, 1303, 1304, 1305, 1306, 1307, 1308, 1309, 1310, 1311, 1312, 1313, 1314, 1315, 1316, 1317, 1318, 1319, 1320, 1321, 1322, 1323, 1324, 1325, 1326, 1327, 1328, 1329, 1330, 1331, 1332, 1333, 1334, 1335, 1336, 1337, 1338, 1339, 1340, 1341, 1342, 1343, 1344, 1345, 1346, 1347, 1348, 1349, 1350, 1351, 1352, 1353, 1354, 1355, 1356, 1357, 1358, 1359, 1360, 1361, 1362, 1363, 1364, 1365, 1366, 1367, 1368, 1369, 1370, 1371, 1372, 1373, 1374, 1375, 1376, 1377, 1378, 1379, 1380, 1381, 1382, 1383, 1384, 1385, 1386, 1387, 1388, 1389, 1390, 1391, 1392, 1393, 1394, 1395, 1396, 1397, 1398, 1399, 1400, 1401, 1402, 1403, 1404, 1405, 1406, 1407, 1408, 1409, 1410, 1411, 1412, 1413, 1414, 1415, 1416, 1417, 1418, 1419, 1420, 1421, 1422, 1423, 1424, 1425, 1426, 1427, 1428, 1429, 1430, 1431, 1432, 1433, 1434, 1435, 1436, 1437, 1438, 1439, 1440, 1441, 1442, 1443, 1444, 1445, 1446, 1447, 1448, 1449, 1450, 1451, 1452, 1453, 1454, 1455, 1456, 1457, 1458, 1459, 1460, 1461, 1462, 1463, 1464, 1465, 1466, 1467, 1468, 1469, 1470, 1471, 1472, 1473, 1474, 1475, 1476, 1477, 1478, 1479, 1480, 1481, 1482, 1483, 1484, 1485, 1486, 1487, 1488, 1489, 1490, 1491, 1492, 1493, 1494, 1495, 1496, 1497, 1498, 1499, 1500, 1501, 1502, 1503, 1504, 1505, 1506, 1507, 1508, 1509, 1510, 1511, 1512, 1513, 1514, 1515, 1516, 1517, 1518, 1519, 1520, 1521, 1522, 1523, 1524, 1525, 1526, 1527, 1528, 1529, 1530, 1531, 1532, 1533, 1534, 1535, 1536, 1537, 1538, 1539, 1540, 1541, 1542, 1543, 1544, 1545, 1546, 1547, 1548, 1549, 1550, 1551, 1552, 1553, 1554, 1555, 1556, 1557, 1558, 1559, 1560, 1561, 1562, 1563, 1564, 1565, 1566, 1567, 1568, 1569, 1570, 1571, 1572, 1573, 1574, 1575, 1576, 1577, 1578, 1579, 1580, 1581, 1582, 1583, 1584, 1585, 1586, 1587, 1588, 1589, 1590, 1591, 1592, 1593, 1594, 1595, 1596, 1597, 1598, 1599, 1600, 1601, 1602, 1603, 1604, 1605, 1606, 1607, 1608, 1609, 1610, 1611, 1612, 1613, 1614, 1615, 1616, 1617, 1618, 1619, 1620, 1621, 1622, 1623, 1624, 1625, 1626, 1627, 1628, 1629, 1630, 1631, 1632, 1633, 1634, 1635, 1636, 1637, 1638, 1639, 1640, 1641, 1642, 1643, 1644, 1645, 1646, 1647, 1648, 1649, 1650, 1651, 1652, 1653, 1654, 1655, 1656, 1657, 1658, 1659, 1660, 1661, 1662, 1663, 1664, 1665, 1666, 1667, 1668, 1669, 1670, 1671, 1672, 1673, 1674, 1675, 1676, 1677, 1678, 1679, 1680, 1681, 1682, 1683, 1684, 1685, 1686, 1687, 1688, 1689, 1690, 1691, 1692, 1693, 1694, 1695, 1696, 1697, 1698, 1699, 1700, 1701, 1702, 1703, 1704, 1705, 1706, 1707, 1708, 1709, 1710, 1711, 1712, 1713, 1714, 1715, 1716, 1717, 1718, 1719, 1720, 1721, 1722, 1723, 1724, 1725, 1726, 1727, 1728, 1729, 1730, 1731, 1732, 1733, 1734, 1735, 1736, 1737, 1738, 1739, 1740, 1741, 1742, 1743, 1744, 1745, 1746, 1747, 1748, 1749, 1750, 1751, 1752, 1753, 1754, 1755, 1756, 1757, 1758, 1759, 1760, 1761, 1762, 1763, 1764, 1765, 1766, 1767, 1768, 1769, 1770, 1771, 1772, 1773, 1774, 1775, 1776, 1777, 1778, 1779, 1780, 1781, 1782, 1783, 1784, 1785, 1786, 1787, 1788, 1789, 1790, 1791, 1792, 1793, 1794, 1795, 1796, 1797, 1798, 1799, 1800, 1801, 1802, 1803, 1804, 1805, 1806, 1807, 1808, 1809, 1810, 1811, 1812, 1813, 1814, 1815, 1816, 1817, 1818, 1819, 1820, 1821, 1822, 1823, 1824, 1825, 1826, 1827, 1828, 1829, 1830, 1831, 1832, 1833, 1834, 1835, 1836, 1837, 1838, 1839, 1840, 1841, 1842, 1843, 1844, 1845, 1846, 1847, 1848, 1849, 1850, 1851, 1852, 1853, 1854, 1855, 1856, 1857, 1858, 1859, 1860, 1861, 1862, 1863, 1864, 1865, 1866, 1867, 1868, 1869, 1870, 1871, 1872, 1873, 1874, 1875, 1876, 1877, 1878, 1879, 1880, 1881, 1882, 1883, 1884, 1885, 1886, 1887, 1888, 1889, 1890, 1891, 1892, 1893, 1894, 1895, 1896, 1897, 1898, 1899, 1900, 1901, 1902, 1903, 1904, 1905, 1906, 1907, 1908, 1909, 1910, 1911, 1912, 1913, 1914, 1915, 1916, 1917, 1918, 1919, 1920, 1921, 1922, 1923, 1924, 1925, 1926, 1927, 1928, 1929, 1930, 1931, 1932, 1933, 1934, 1935, 1936, 1937, 1938, 1939, 1940, 1941, 1942, 1943, 1944, 1945, 1946, 1947, 1948, 1949, 1950, 1951, 1952, 1953, 1954, 1955, 1956, 1957, 1958, 1959, 1960, 1961, 1962, 1963, 1964, 1965, 1966, 1967, 1968, 1969, 1970, 1971, 1972, 1973, 1974, 1975, 1976, 1977, 1978, 1979, 1980, 1981, 1982, 1983, 1984, 1985, 1986, 1987, 1988, 1989, 1990, 1991, 1992, 1993, 1994, 1995, 1996, 1997, 1998, 1999, 2000, 2001, 2002, 2003, 2004, 2005, 2006, 2007, 2008, 2009, 2010, 2011, 2012, 2013, 2014, 2015, 2016, 2017, 2018, 2019, 2020, 2021, 2022, 2023, 2024, 2025, 2026, 2027, 2028, 2029, 2030, 2031, 2032, 2033, 2034, 2035, 2036, 2037, 2038, 2039, 2040, 2041, 2042, 2043, 2044, 2045, 2046, 2047, 2048, 2049, 2050, 2051, 2052, 2053, 2054, 2055, 2056, 2057, 2058, 2059, 2060, 2061, 2062, 2063, 2064, 2065, 2066, 2067, 2068, 2069, 2070, 2071, 2072, 2073, 2074, 2075, 2076, 2077, 2078, 2079, 2080, 2081, 2082, 2083, 2084, 2085, 2086, 2087, 2088, 2089, 2090, 2091, 2092, 2093, 2094, 2095, 2096, 2097, 2098, 2099, 2100, 2101, 2102, 2103, 2104, 2105, 2106, 2107, 2108, 2109, 2110, 2111, 2112, 2113, 2114, 2115, 2116, 2117, 2118, 2119, 2120, 2121, 2122, 2123, 2124, 2125, 2126, 2127, 2128, 2129, 2130, 2131, 2132, 2133, 2134, 2135, 2136, 2137, 2138, 2139, 2140, 2141, 2142, 2143, 2144, 2145, 2146, 2147, 2148, 2149, 2150, 2151, 2152, 2153, 2154, 2155, 2156, 2157, 2158, 2159, 2160, 2161, 2162, 2163, 2164, 2165, 2166, 2167, 2168, 2169, 2170, 2171, 2172, 2173, 2174, 2175, 2176, 2177, 2178, 2179, 2180, 2181, 2182, 2183, 2184, 2185, 2186, 2187, 2188, 2189, 2190, 2191, 2192, 2193, 2194, 2195, 2196, 2197, 2198, 2199, 2200, 2201, 2202, 2203, 2204, 2205, 2206, 2207, 2208, 2209, 2210, 2211, 2212, 2213, 2214, 2215, 2216, 2217, 2218, 2219, 2220, 2221, 2222, 2223, 2224, 2225, 2226, 2227, 2228, 2229, 2230, 2231, 2232, 2233, 2234, 2235, 2236, 2237, 2238, 2239, 2240, 2241, 2242, 2243, 2244, 2245, 2246, 2247, 2248, 2249, 2250, 2251, 2252, 2253, 2254, 2255, 2256, 2257, 2258, 2259, 2260, 2261, 2262, 2263, 2264, 2265, 2266, 2267, 2268, 2269, 2270, 2271, 2272, 2273, 2274, 2275, 2276, 2277, 2278, 2279, 2280, 2281, 2282, 2283, 2284, 2285, 2286, 2287, 2288, 2289, 2290, 2291, 2292, 2293, 2294, 2295, 2296, 2297, 2298, 2299, 2300, 2301, 2302, 2303, 2304, 2305, 2306, 2307, 2308, 2309, 2310, 2311, 2312, 2313, 2314, 2315, 2316, 2317, 2318, 2319, 2320, 2321, 2322, 2323, 2324, 2325, 2326, 2327, 2328, 2329, 2330, 2331, 2332, 2333, 2334, 2335, 2336, 2337, 2338, 2339, 2340, 2341, 2342, 2343, 2344, 2345, 2346, 2347, 2348, 2349, 2350, 2351, 2352, 2353, 2354, 2355, 2356, 2357, 2358, 2359, 2360, 2361, 2362, 2363, 2364, 2365, 2366, 2367, 2368, 2369, 2370, 2371, 2372, 2373, 2374, 2375, 2376, 2377, 2378, 2379, 2380, 2381, 2382, 2383, 2384, 2385, 2386, 2387, 2388, 2389, 2390, 2391, 2392, 2393, 2394, 2395, 2396, 2397, 2398, 2399, 2400, 2401, 2402, 2403, 2404, 2405, 2406, 2407, 2408, 2409, 2410, 2411, 2412, 2413, 2414, 2415, 2416, 2417, 2418, 2419, 2420, 2421, 2422, 2423, 2424, 2425, 2426, 2427, 2428, 2429, 2430, 2431, 2432, 2433, 2434, 2435, 2436, 2437, 2438, 2439, 2440, 2441, 2442, 2443, 2444, 2445, 2446, 2447, 2448, 2449, 2450, 2451, 2452, 2453, 2454, 2455, 2456, 2457, 2458, 2459, 2460, 2461, 2462, 2463, 2464, 2465, 2466, 2467, 2468, 2469, 2470, 2471, 2472, 2473, 2474, 2475, 2476, 2477, 2478, 2479, 2480, 2481, 2482, 2483, 2484, 2485, 2486, 2487, 2488, 2489, 2490, 2491, 2492, 2493, 2494, 2495, 2496, 2497, 2498, 2499, 2500, 2501, 2502, 2503, 2504, 2505, 2506, 2507]\n"
     ]
    }
   ],
   "source": [
    "indices_class_1 = [idx for idx, label in enumerate(y_train) if label == 1]\n",
    "indices_class_0 = [idx for idx, label in enumerate(y_train) if label == 0]\n",
    "\n",
    "print(f'Indices for class label 1: {indices_class_1}')\n",
    "print(f'Indices for class label 0: {indices_class_0}')\n"
   ]
  },
  {
   "cell_type": "code",
   "execution_count": 353,
   "metadata": {},
   "outputs": [],
   "source": [
    "#y_pred = clf.predict(X_test_scaled)"
   ]
  },
  {
   "cell_type": "code",
   "execution_count": 354,
   "metadata": {},
   "outputs": [],
   "source": [
    "results_df = pd.DataFrame(grid_search.cv_results_)"
   ]
  },
  {
   "cell_type": "code",
   "execution_count": 355,
   "metadata": {},
   "outputs": [
    {
     "data": {
      "text/plain": [
       "Index(['mean_fit_time', 'std_fit_time', 'mean_score_time', 'std_score_time',\n",
       "       'param_estimator__criterion', 'param_estimator__max_depth',\n",
       "       'param_estimator__min_window_size', 'param_estimator__n_estimators',\n",
       "       'param_estimator__n_windows', 'params', 'split0_test_score',\n",
       "       'split1_test_score', 'split2_test_score', 'split3_test_score',\n",
       "       'split4_test_score', 'split5_test_score', 'split6_test_score',\n",
       "       'split7_test_score', 'split8_test_score', 'split9_test_score',\n",
       "       'split10_test_score', 'split11_test_score', 'split12_test_score',\n",
       "       'split13_test_score', 'split14_test_score', 'split15_test_score',\n",
       "       'split16_test_score', 'split17_test_score', 'split18_test_score',\n",
       "       'split19_test_score', 'mean_test_score', 'std_test_score',\n",
       "       'rank_test_score'],\n",
       "      dtype='object')"
      ]
     },
     "execution_count": 355,
     "metadata": {},
     "output_type": "execute_result"
    }
   ],
   "source": [
    "results_df.columns"
   ]
  },
  {
   "cell_type": "code",
   "execution_count": 359,
   "metadata": {},
   "outputs": [
    {
     "name": "stdout",
     "output_type": "stream",
     "text": [
      "   split0_test_score  split1_test_score  split2_test_score  split3_test_score  split4_test_score  split5_test_score  split6_test_score  split7_test_score  split8_test_score  split9_test_score  split10_test_score  split11_test_score  split12_test_score  split13_test_score  split14_test_score  split15_test_score  split16_test_score  split17_test_score  split18_test_score  split19_test_score  mean_test_score  std_test_score  rank_test_score\n",
      "0                1.0                1.0                1.0                1.0                1.0                1.0                1.0                1.0                1.0                0.0           -0.336134           -0.319328           -0.352941           -0.310924           -0.268908           -0.201681           -0.201681           -0.109244           -0.126050           -0.176471         0.329832        0.611271               43\n",
      "1                1.0                1.0                1.0                1.0                1.0                1.0                1.0                1.0                1.0                0.0           -0.336134           -0.302521           -0.336134           -0.294118           -0.260504           -0.193277           -0.201681           -0.109244           -0.117647           -0.159664         0.334454        0.606794               39\n",
      "2                1.0                1.0                1.0                1.0                1.0                1.0                1.0                1.0                1.0                0.0           -0.336134           -0.294118           -0.294118           -0.294118           -0.260504           -0.176471           -0.193277           -0.109244           -0.109244           -0.184874         0.337395        0.603747               28\n",
      "3                1.0                1.0                1.0                1.0                1.0                1.0                1.0                1.0                1.0                0.0           -0.336134           -0.319328           -0.352941           -0.319328           -0.268908           -0.184874           -0.201681           -0.109244           -0.126050           -0.184874         0.329832        0.611346               43\n",
      "4                1.0                1.0                1.0                1.0                1.0                1.0                1.0                1.0                1.0                0.0           -0.336134           -0.302521           -0.336134           -0.302521           -0.268908           -0.184874           -0.184874           -0.109244           -0.117647           -0.159664         0.334874        0.606553               37\n"
     ]
    }
   ],
   "source": [
    "print(results_df.iloc[:, 10:35].head().to_string())"
   ]
  },
  {
   "cell_type": "markdown",
   "metadata": {},
   "source": []
  },
  {
   "cell_type": "code",
   "execution_count": 360,
   "metadata": {},
   "outputs": [
    {
     "name": "stdout",
     "output_type": "stream",
     "text": [
      "    mean_fit_time  std_fit_time  mean_score_time  std_score_time param_estimator__criterion param_estimator__max_depth param_estimator__min_window_size param_estimator__n_estimators param_estimator__n_windows                                                                                                                                                        params  split0_test_score  split1_test_score  split2_test_score  split3_test_score  split4_test_score  split5_test_score  split6_test_score  split7_test_score  split8_test_score  split9_test_score  split10_test_score  split11_test_score  split12_test_score  split13_test_score  split14_test_score  split15_test_score  split16_test_score  split17_test_score  split18_test_score  split19_test_score  mean_test_score  std_test_score  rank_test_score\n",
      "0       17.662790     10.153676         0.933860        0.281462                    entropy                          5                                1                           100                          5    {'estimator__criterion': 'entropy', 'estimator__max_depth': 5, 'estimator__min_window_size': 1, 'estimator__n_estimators': 100, 'estimator__n_windows': 5}                1.0                1.0                1.0                1.0                1.0                1.0                1.0                1.0                1.0                0.0           -0.336134           -0.319328           -0.352941           -0.310924           -0.268908           -0.201681           -0.201681           -0.109244           -0.126050           -0.176471         0.329832        0.611271               43\n",
      "1       25.095867     14.530837         0.765839        0.081666                    entropy                          5                                1                           100                         10   {'estimator__criterion': 'entropy', 'estimator__max_depth': 5, 'estimator__min_window_size': 1, 'estimator__n_estimators': 100, 'estimator__n_windows': 10}                1.0                1.0                1.0                1.0                1.0                1.0                1.0                1.0                1.0                0.0           -0.336134           -0.302521           -0.336134           -0.294118           -0.260504           -0.193277           -0.201681           -0.109244           -0.117647           -0.159664         0.334454        0.606794               39\n",
      "2       31.831026     21.456102         0.819270        0.113257                    entropy                          5                                1                           100                         15   {'estimator__criterion': 'entropy', 'estimator__max_depth': 5, 'estimator__min_window_size': 1, 'estimator__n_estimators': 100, 'estimator__n_windows': 15}                1.0                1.0                1.0                1.0                1.0                1.0                1.0                1.0                1.0                0.0           -0.336134           -0.294118           -0.294118           -0.294118           -0.260504           -0.176471           -0.193277           -0.109244           -0.109244           -0.184874         0.337395        0.603747               28\n",
      "3       43.118405     22.346965         1.491812        0.154778                    entropy                          5                                1                           200                          5    {'estimator__criterion': 'entropy', 'estimator__max_depth': 5, 'estimator__min_window_size': 1, 'estimator__n_estimators': 200, 'estimator__n_windows': 5}                1.0                1.0                1.0                1.0                1.0                1.0                1.0                1.0                1.0                0.0           -0.336134           -0.319328           -0.352941           -0.319328           -0.268908           -0.184874           -0.201681           -0.109244           -0.126050           -0.184874         0.329832        0.611346               43\n",
      "4       49.856533     29.081849         1.598612        0.216975                    entropy                          5                                1                           200                         10   {'estimator__criterion': 'entropy', 'estimator__max_depth': 5, 'estimator__min_window_size': 1, 'estimator__n_estimators': 200, 'estimator__n_windows': 10}                1.0                1.0                1.0                1.0                1.0                1.0                1.0                1.0                1.0                0.0           -0.336134           -0.302521           -0.336134           -0.302521           -0.268908           -0.184874           -0.184874           -0.109244           -0.117647           -0.159664         0.334874        0.606553               37\n",
      "5       63.069259     43.133738         1.507884        0.129742                    entropy                          5                                1                           200                         15   {'estimator__criterion': 'entropy', 'estimator__max_depth': 5, 'estimator__min_window_size': 1, 'estimator__n_estimators': 200, 'estimator__n_windows': 15}                1.0                1.0                1.0                1.0                1.0                1.0                1.0                1.0                1.0                0.0           -0.336134           -0.285714           -0.294118           -0.285714           -0.252101           -0.176471           -0.193277           -0.109244           -0.109244           -0.184874         0.338655        0.602458               21\n",
      "6       64.862263     33.974481         2.247745        0.283312                    entropy                          5                                1                           300                          5    {'estimator__criterion': 'entropy', 'estimator__max_depth': 5, 'estimator__min_window_size': 1, 'estimator__n_estimators': 300, 'estimator__n_windows': 5}                1.0                1.0                1.0                1.0                1.0                1.0                1.0                1.0                1.0                0.0           -0.336134           -0.319328           -0.352941           -0.319328           -0.268908           -0.184874           -0.210084           -0.109244           -0.126050           -0.176471         0.329832        0.611363               43\n",
      "7       74.428692     44.189943         2.277785        0.238333                    entropy                          5                                1                           300                         10   {'estimator__criterion': 'entropy', 'estimator__max_depth': 5, 'estimator__min_window_size': 1, 'estimator__n_estimators': 300, 'estimator__n_windows': 10}                1.0                1.0                1.0                1.0                1.0                1.0                1.0                1.0                1.0                0.0           -0.336134           -0.302521           -0.336134           -0.302521           -0.268908           -0.184874           -0.176471           -0.109244           -0.117647           -0.159664         0.335294        0.606196               34\n",
      "8       94.448560     64.784755         2.219508        0.243173                    entropy                          5                                1                           300                         15   {'estimator__criterion': 'entropy', 'estimator__max_depth': 5, 'estimator__min_window_size': 1, 'estimator__n_estimators': 300, 'estimator__n_windows': 15}                1.0                1.0                1.0                1.0                1.0                1.0                1.0                1.0                1.0                0.0           -0.336134           -0.277311           -0.285714           -0.285714           -0.252101           -0.176471           -0.184874           -0.109244           -0.109244           -0.184874         0.339916        0.601216               19\n",
      "9       24.171906     14.614270         0.726714        0.073208                    entropy                          5                                2                           100                          5    {'estimator__criterion': 'entropy', 'estimator__max_depth': 5, 'estimator__min_window_size': 2, 'estimator__n_estimators': 100, 'estimator__n_windows': 5}                1.0                1.0                1.0                1.0                1.0                1.0                1.0                1.0                1.0                0.0           -0.344538           -0.327731           -0.361345           -0.319328           -0.302521           -0.184874           -0.243697           -0.134454           -0.142857           -0.184874         0.322689        0.617812               54\n",
      "10      32.650997     22.994746         0.744729        0.065671                    entropy                          5                                2                           100                         10   {'estimator__criterion': 'entropy', 'estimator__max_depth': 5, 'estimator__min_window_size': 2, 'estimator__n_estimators': 100, 'estimator__n_windows': 10}                1.0                1.0                1.0                1.0                1.0                1.0                1.0                1.0                1.0                0.0           -0.336134           -0.302521           -0.336134           -0.294118           -0.260504           -0.193277           -0.210084           -0.109244           -0.109244           -0.168067         0.334034        0.607202               40\n",
      "11      37.063461     27.189067         0.755667        0.069257                    entropy                          5                                2                           100                         15   {'estimator__criterion': 'entropy', 'estimator__max_depth': 5, 'estimator__min_window_size': 2, 'estimator__n_estimators': 100, 'estimator__n_windows': 15}                1.0                1.0                1.0                1.0                1.0                1.0                1.0                1.0                1.0                0.0           -0.336134           -0.285714           -0.336134           -0.294118           -0.268908           -0.193277           -0.193277           -0.109244           -0.117647           -0.168067         0.334874        0.606314               37\n",
      "12      48.876968     28.660365         1.474921        0.216218                    entropy                          5                                2                           200                          5    {'estimator__criterion': 'entropy', 'estimator__max_depth': 5, 'estimator__min_window_size': 2, 'estimator__n_estimators': 200, 'estimator__n_windows': 5}                1.0                1.0                1.0                1.0                1.0                1.0                1.0                1.0                1.0                0.0           -0.344538           -0.327731           -0.369748           -0.319328           -0.294118           -0.184874           -0.235294           -0.134454           -0.142857           -0.184874         0.323109        0.617475               53\n",
      "13      65.596191     45.844833         1.527003        0.196055                    entropy                          5                                2                           200                         10   {'estimator__criterion': 'entropy', 'estimator__max_depth': 5, 'estimator__min_window_size': 2, 'estimator__n_estimators': 200, 'estimator__n_windows': 10}                1.0                1.0                1.0                1.0                1.0                1.0                1.0                1.0                1.0                0.0           -0.336134           -0.310924           -0.336134           -0.294118           -0.260504           -0.193277           -0.201681           -0.109244           -0.117647           -0.176471         0.333193        0.607931               42\n",
      "14      73.564528     54.259307         1.499903        0.166913                    entropy                          5                                2                           200                         15   {'estimator__criterion': 'entropy', 'estimator__max_depth': 5, 'estimator__min_window_size': 2, 'estimator__n_estimators': 200, 'estimator__n_windows': 15}                1.0                1.0                1.0                1.0                1.0                1.0                1.0                1.0                1.0                0.0           -0.336134           -0.294118           -0.336134           -0.294118           -0.260504           -0.193277           -0.193277           -0.109244           -0.117647           -0.159664         0.335294        0.605986               34\n",
      "15      72.841100     42.456022         2.195494        0.237914                    entropy                          5                                2                           300                          5    {'estimator__criterion': 'entropy', 'estimator__max_depth': 5, 'estimator__min_window_size': 2, 'estimator__n_estimators': 300, 'estimator__n_windows': 5}                1.0                1.0                1.0                1.0                1.0                1.0                1.0                1.0                1.0                0.0           -0.336134           -0.327731           -0.369748           -0.319328           -0.294118           -0.184874           -0.235294           -0.134454           -0.142857           -0.184874         0.323529        0.617024               52\n",
      "16      97.640001     68.314140         2.334575        0.269848                    entropy                          5                                2                           300                         10   {'estimator__criterion': 'entropy', 'estimator__max_depth': 5, 'estimator__min_window_size': 2, 'estimator__n_estimators': 300, 'estimator__n_windows': 10}                1.0                1.0                1.0                1.0                1.0                1.0                1.0                1.0                1.0                0.0           -0.336134           -0.310924           -0.336134           -0.294118           -0.260504           -0.201681           -0.201681           -0.109244           -0.109244           -0.168067         0.333613        0.607640               41\n",
      "17     109.828623     80.839365         2.177213        0.206118                    entropy                          5                                2                           300                         15   {'estimator__criterion': 'entropy', 'estimator__max_depth': 5, 'estimator__min_window_size': 2, 'estimator__n_estimators': 300, 'estimator__n_windows': 15}                1.0                1.0                1.0                1.0                1.0                1.0                1.0                1.0                1.0                0.0           -0.336134           -0.294118           -0.336134           -0.294118           -0.268908           -0.193277           -0.184874           -0.109244           -0.117647           -0.159664         0.335294        0.606039               34\n",
      "18      26.126068     16.968297         0.770237        0.145009                    entropy                         10                                1                           100                          5   {'estimator__criterion': 'entropy', 'estimator__max_depth': 10, 'estimator__min_window_size': 1, 'estimator__n_estimators': 100, 'estimator__n_windows': 5}                1.0                1.0                1.0                1.0                1.0                1.0                1.0                1.0                1.0                0.0           -0.319328           -0.260504           -0.319328           -0.294118           -0.252101           -0.201681           -0.176471           -0.100840           -0.117647           -0.201681         0.337815        0.603158               24\n",
      "19      30.754617     21.157256         0.785190        0.085333                    entropy                         10                                1                           100                         10  {'estimator__criterion': 'entropy', 'estimator__max_depth': 10, 'estimator__min_window_size': 1, 'estimator__n_estimators': 100, 'estimator__n_windows': 10}                1.0                1.0                1.0                1.0                1.0                1.0                1.0                1.0                1.0                0.0           -0.336134           -0.252101           -0.310924           -0.294118           -0.252101           -0.193277           -0.184874           -0.109244           -0.126050           -0.210084         0.336555        0.604210               31\n",
      "20      40.073302     30.980024         0.764269        0.080084                    entropy                         10                                1                           100                         15  {'estimator__criterion': 'entropy', 'estimator__max_depth': 10, 'estimator__min_window_size': 1, 'estimator__n_estimators': 100, 'estimator__n_windows': 15}                1.0                1.0                1.0                1.0                1.0                1.0                1.0                1.0                1.0                0.0           -0.327731           -0.226891           -0.268908           -0.277311           -0.210084           -0.151261           -0.142857           -0.092437           -0.092437           -0.134454         0.353782        0.588535                6\n",
      "21      52.002933     32.083151         1.488547        0.185733                    entropy                         10                                1                           200                          5   {'estimator__criterion': 'entropy', 'estimator__max_depth': 10, 'estimator__min_window_size': 1, 'estimator__n_estimators': 200, 'estimator__n_windows': 5}                1.0                1.0                1.0                1.0                1.0                1.0                1.0                1.0                1.0                0.0           -0.319328           -0.268908           -0.319328           -0.294118           -0.252101           -0.201681           -0.193277           -0.100840           -0.117647           -0.201681         0.336555        0.604303               31\n",
      "22      61.752741     42.538271         1.523233        0.208186                    entropy                         10                                1                           200                         10  {'estimator__criterion': 'entropy', 'estimator__max_depth': 10, 'estimator__min_window_size': 1, 'estimator__n_estimators': 200, 'estimator__n_windows': 10}                1.0                1.0                1.0                1.0                1.0                1.0                1.0                1.0                1.0                0.0           -0.336134           -0.243697           -0.310924           -0.294118           -0.252101           -0.193277           -0.176471           -0.117647           -0.117647           -0.210084         0.337395        0.603437               28\n",
      "23      80.164211     62.068770         1.472837        0.145491                    entropy                         10                                1                           200                         15  {'estimator__criterion': 'entropy', 'estimator__max_depth': 10, 'estimator__min_window_size': 1, 'estimator__n_estimators': 200, 'estimator__n_windows': 15}                1.0                1.0                1.0                1.0                1.0                1.0                1.0                1.0                1.0                0.0           -0.327731           -0.226891           -0.268908           -0.277311           -0.201681           -0.159664           -0.142857           -0.092437           -0.084034           -0.134454         0.354202        0.588183                5\n",
      "24      77.903867     49.345820         2.260531        0.302652                    entropy                         10                                1                           300                          5   {'estimator__criterion': 'entropy', 'estimator__max_depth': 10, 'estimator__min_window_size': 1, 'estimator__n_estimators': 300, 'estimator__n_windows': 5}                1.0                1.0                1.0                1.0                1.0                1.0                1.0                1.0                1.0                0.0           -0.319328           -0.268908           -0.319328           -0.294118           -0.260504           -0.210084           -0.193277           -0.100840           -0.117647           -0.201681         0.335714        0.605091               33\n",
      "25      93.232907     64.381249         2.563600        0.598424                    entropy                         10                                1                           300                         10  {'estimator__criterion': 'entropy', 'estimator__max_depth': 10, 'estimator__min_window_size': 1, 'estimator__n_estimators': 300, 'estimator__n_windows': 10}                1.0                1.0                1.0                1.0                1.0                1.0                1.0                1.0                1.0                0.0           -0.336134           -0.252101           -0.310924           -0.294118           -0.243697           -0.184874           -0.168067           -0.117647           -0.126050           -0.201681         0.338235        0.602656               23\n",
      "26     119.051592     92.271345         2.485418        0.463243                    entropy                         10                                1                           300                         15  {'estimator__criterion': 'entropy', 'estimator__max_depth': 10, 'estimator__min_window_size': 1, 'estimator__n_estimators': 300, 'estimator__n_windows': 15}                1.0                1.0                1.0                1.0                1.0                1.0                1.0                1.0                1.0                0.0           -0.327731           -0.226891           -0.268908           -0.277311           -0.201681           -0.159664           -0.126050           -0.092437           -0.075630           -0.134454         0.355462        0.587173                4\n",
      "27      30.510875     20.631030         0.809718        0.175930                    entropy                         10                                2                           100                          5   {'estimator__criterion': 'entropy', 'estimator__max_depth': 10, 'estimator__min_window_size': 2, 'estimator__n_estimators': 100, 'estimator__n_windows': 5}                1.0                1.0                1.0                1.0                1.0                1.0                1.0                1.0                1.0                0.0           -0.319328           -0.294118           -0.352941           -0.310924           -0.294118           -0.193277           -0.226891           -0.134454           -0.142857           -0.184874         0.327311        0.612987               51\n",
      "28      42.226169     33.191963         0.838575        0.306956                    entropy                         10                                2                           100                         10  {'estimator__criterion': 'entropy', 'estimator__max_depth': 10, 'estimator__min_window_size': 2, 'estimator__n_estimators': 100, 'estimator__n_windows': 10}                1.0                1.0                1.0                1.0                1.0                1.0                1.0                1.0                1.0                0.0           -0.327731           -0.260504           -0.302521           -0.285714           -0.252101           -0.193277           -0.176471           -0.100840           -0.117647           -0.201681         0.339076        0.601902               20\n",
      "29      47.894240     39.444016         0.762756        0.096389                    entropy                         10                                2                           100                         15  {'estimator__criterion': 'entropy', 'estimator__max_depth': 10, 'estimator__min_window_size': 2, 'estimator__n_estimators': 100, 'estimator__n_windows': 15}                1.0                1.0                1.0                1.0                1.0                1.0                1.0                1.0                1.0                0.0           -0.336134           -0.252101           -0.302521           -0.294118           -0.252101           -0.193277           -0.184874           -0.109244           -0.126050           -0.201681         0.337395        0.603384               28\n",
      "30      60.218628     41.407183         1.499077        0.210006                    entropy                         10                                2                           200                          5   {'estimator__criterion': 'entropy', 'estimator__max_depth': 10, 'estimator__min_window_size': 2, 'estimator__n_estimators': 200, 'estimator__n_windows': 5}                1.0                1.0                1.0                1.0                1.0                1.0                1.0                1.0                1.0                0.0           -0.310924           -0.294118           -0.352941           -0.294118           -0.294118           -0.193277           -0.226891           -0.134454           -0.142857           -0.184874         0.328571        0.611681               46\n",
      "31      83.897880     65.796078         1.533550        0.181867                    entropy                         10                                2                           200                         10  {'estimator__criterion': 'entropy', 'estimator__max_depth': 10, 'estimator__min_window_size': 2, 'estimator__n_estimators': 200, 'estimator__n_windows': 10}                1.0                1.0                1.0                1.0                1.0                1.0                1.0                1.0                1.0                0.0           -0.327731           -0.260504           -0.302521           -0.285714           -0.252101           -0.193277           -0.176471           -0.109244           -0.117647           -0.201681         0.338655        0.602212               21\n",
      "32      94.858672     78.509716         1.463705        0.182748                    entropy                         10                                2                           200                         15  {'estimator__criterion': 'entropy', 'estimator__max_depth': 10, 'estimator__min_window_size': 2, 'estimator__n_estimators': 200, 'estimator__n_windows': 15}                1.0                1.0                1.0                1.0                1.0                1.0                1.0                1.0                1.0                0.0           -0.336134           -0.243697           -0.310924           -0.294118           -0.252101           -0.184874           -0.176471           -0.117647           -0.117647           -0.210084         0.337815        0.603070               24\n",
      "33      91.033788     62.652182         2.208843        0.222605                    entropy                         10                                2                           300                          5   {'estimator__criterion': 'entropy', 'estimator__max_depth': 10, 'estimator__min_window_size': 2, 'estimator__n_estimators': 300, 'estimator__n_windows': 5}                1.0                1.0                1.0                1.0                1.0                1.0                1.0                1.0                1.0                0.0           -0.310924           -0.294118           -0.352941           -0.294118           -0.294118           -0.193277           -0.226891           -0.134454           -0.142857           -0.184874         0.328571        0.611681               46\n",
      "34     123.205464     96.922644         2.284456        0.313832                    entropy                         10                                2                           300                         10  {'estimator__criterion': 'entropy', 'estimator__max_depth': 10, 'estimator__min_window_size': 2, 'estimator__n_estimators': 300, 'estimator__n_windows': 10}                1.0                1.0                1.0                1.0                1.0                1.0                1.0                1.0                1.0                0.0           -0.336134           -0.252101           -0.310924           -0.285714           -0.252101           -0.193277           -0.176471           -0.109244           -0.126050           -0.201681         0.337815        0.603035               24\n",
      "35     139.987764    115.518504         2.201665        0.292455                    entropy                         10                                2                           300                         15  {'estimator__criterion': 'entropy', 'estimator__max_depth': 10, 'estimator__min_window_size': 2, 'estimator__n_estimators': 300, 'estimator__n_windows': 15}                1.0                1.0                1.0                1.0                1.0                1.0                1.0                1.0                1.0                0.0           -0.336134           -0.243697           -0.310924           -0.294118           -0.252101           -0.193277           -0.168067           -0.117647           -0.117647           -0.210084         0.337815        0.603082               24\n",
      "36      27.975521     18.320757         0.793627        0.113148                    entropy                         20                                1                           100                          5   {'estimator__criterion': 'entropy', 'estimator__max_depth': 20, 'estimator__min_window_size': 1, 'estimator__n_estimators': 100, 'estimator__n_windows': 5}                1.0                1.0                1.0                1.0                1.0                1.0                1.0                1.0                1.0                0.0           -0.319328           -0.252101           -0.302521           -0.285714           -0.252101           -0.201681           -0.184874           -0.084034           -0.100840           -0.193277         0.341176        0.600152               16\n",
      "37      33.273248     23.939700         0.802215        0.110248                    entropy                         20                                1                           100                         10  {'estimator__criterion': 'entropy', 'estimator__max_depth': 20, 'estimator__min_window_size': 1, 'estimator__n_estimators': 100, 'estimator__n_windows': 10}                1.0                1.0                1.0                1.0                1.0                1.0                1.0                1.0                1.0                0.0           -0.336134           -0.235294           -0.294118           -0.285714           -0.243697           -0.176471           -0.159664           -0.100840           -0.100840           -0.184874         0.344118        0.597440                9\n",
      "38      42.707762     33.964117         0.808573        0.133847                    entropy                         20                                1                           100                         15  {'estimator__criterion': 'entropy', 'estimator__max_depth': 20, 'estimator__min_window_size': 1, 'estimator__n_estimators': 100, 'estimator__n_windows': 15}                1.0                1.0                1.0                1.0                1.0                1.0                1.0                1.0                1.0                0.0           -0.327731           -0.226891           -0.243697           -0.260504           -0.210084           -0.151261           -0.126050           -0.092437           -0.067227           -0.142857         0.357563        0.585042                1\n",
      "39      75.940250     72.200519         1.532065        0.206776                    entropy                         20                                1                           200                          5   {'estimator__criterion': 'entropy', 'estimator__max_depth': 20, 'estimator__min_window_size': 1, 'estimator__n_estimators': 200, 'estimator__n_windows': 5}                1.0                1.0                1.0                1.0                1.0                1.0                1.0                1.0                1.0                0.0           -0.319328           -0.252101           -0.319328           -0.285714           -0.252101           -0.201681           -0.193277           -0.084034           -0.092437           -0.193277         0.340336        0.601128               18\n",
      "40      85.027816     46.458946         1.559678        0.351861                    entropy                         20                                1                           200                         10  {'estimator__criterion': 'entropy', 'estimator__max_depth': 20, 'estimator__min_window_size': 1, 'estimator__n_estimators': 200, 'estimator__n_windows': 10}                1.0                1.0                1.0                1.0                1.0                1.0                1.0                1.0                1.0                0.0           -0.336134           -0.235294           -0.294118           -0.285714           -0.243697           -0.176471           -0.168067           -0.100840           -0.100840           -0.184874         0.343697        0.597797               12\n",
      "41      84.222327     68.100746         1.576351        0.382123                    entropy                         20                                1                           200                         15  {'estimator__criterion': 'entropy', 'estimator__max_depth': 20, 'estimator__min_window_size': 1, 'estimator__n_estimators': 200, 'estimator__n_windows': 15}                1.0                1.0                1.0                1.0                1.0                1.0                1.0                1.0                1.0                0.0           -0.327731           -0.218487           -0.260504           -0.268908           -0.201681           -0.151261           -0.126050           -0.092437           -0.067227           -0.142857         0.357143        0.585543                2\n",
      "42      83.666475     55.415897         2.307019        0.399151                    entropy                         20                                1                           300                          5   {'estimator__criterion': 'entropy', 'estimator__max_depth': 20, 'estimator__min_window_size': 1, 'estimator__n_estimators': 300, 'estimator__n_windows': 5}                1.0                1.0                1.0                1.0                1.0                1.0                1.0                1.0                1.0                0.0           -0.319328           -0.252101           -0.319328           -0.277311           -0.252101           -0.201681           -0.184874           -0.084034           -0.092437           -0.193277         0.341176        0.600322               16\n",
      "43     100.026550     72.738306         2.407078        0.488361                    entropy                         20                                1                           300                         10  {'estimator__criterion': 'entropy', 'estimator__max_depth': 20, 'estimator__min_window_size': 1, 'estimator__n_estimators': 300, 'estimator__n_windows': 10}                1.0                1.0                1.0                1.0                1.0                1.0                1.0                1.0                1.0                0.0           -0.336134           -0.235294           -0.294118           -0.285714           -0.243697           -0.168067           -0.168067           -0.100840           -0.100840           -0.184874         0.344118        0.597434                9\n",
      "44     127.925288    102.173481         2.426547        0.477771                    entropy                         20                                1                           300                         15  {'estimator__criterion': 'entropy', 'estimator__max_depth': 20, 'estimator__min_window_size': 1, 'estimator__n_estimators': 300, 'estimator__n_windows': 15}                1.0                1.0                1.0                1.0                1.0                1.0                1.0                1.0                1.0                0.0           -0.327731           -0.218487           -0.252101           -0.268908           -0.201681           -0.151261           -0.126050           -0.092437           -0.075630           -0.142857         0.357143        0.585410                2\n",
      "45      33.341677     24.944216         0.781731        0.233822                    entropy                         20                                2                           100                          5   {'estimator__criterion': 'entropy', 'estimator__max_depth': 20, 'estimator__min_window_size': 2, 'estimator__n_estimators': 100, 'estimator__n_windows': 5}                1.0                1.0                1.0                1.0                1.0                1.0                1.0                1.0                1.0                0.0           -0.310924           -0.285714           -0.352941           -0.285714           -0.285714           -0.218487           -0.235294           -0.142857           -0.142857           -0.184874         0.327731        0.612212               48\n",
      "46      45.313791     37.877916         0.840432        0.284174                    entropy                         20                                2                           100                         10  {'estimator__criterion': 'entropy', 'estimator__max_depth': 20, 'estimator__min_window_size': 2, 'estimator__n_estimators': 100, 'estimator__n_windows': 10}                1.0                1.0                1.0                1.0                1.0                1.0                1.0                1.0                1.0                0.0           -0.327731           -0.243697           -0.302521           -0.285714           -0.243697           -0.201681           -0.168067           -0.109244           -0.084034           -0.193277         0.342017        0.599379               15\n",
      "47      51.797399     43.853964         0.778600        0.101183                    entropy                         20                                2                           100                         15  {'estimator__criterion': 'entropy', 'estimator__max_depth': 20, 'estimator__min_window_size': 2, 'estimator__n_estimators': 100, 'estimator__n_windows': 15}                1.0                1.0                1.0                1.0                1.0                1.0                1.0                1.0                1.0                0.0           -0.336134           -0.235294           -0.294118           -0.285714           -0.243697           -0.168067           -0.168067           -0.109244           -0.100840           -0.176471         0.344118        0.597381                9\n",
      "48      66.784864     49.623265         1.500966        0.244000                    entropy                         20                                2                           200                          5   {'estimator__criterion': 'entropy', 'estimator__max_depth': 20, 'estimator__min_window_size': 2, 'estimator__n_estimators': 200, 'estimator__n_windows': 5}                1.0                1.0                1.0                1.0                1.0                1.0                1.0                1.0                1.0                0.0           -0.310924           -0.285714           -0.352941           -0.285714           -0.285714           -0.218487           -0.235294           -0.142857           -0.151261           -0.184874         0.327311        0.612538               49\n",
      "49      90.358730     73.523961         1.580305        0.372908                    entropy                         20                                2                           200                         10  {'estimator__criterion': 'entropy', 'estimator__max_depth': 20, 'estimator__min_window_size': 2, 'estimator__n_estimators': 200, 'estimator__n_windows': 10}                1.0                1.0                1.0                1.0                1.0                1.0                1.0                1.0                1.0                0.0           -0.327731           -0.243697           -0.302521           -0.294118           -0.243697           -0.193277           -0.168067           -0.100840           -0.084034           -0.193277         0.342437        0.599130               14\n",
      "50     102.816684     87.998842         1.480309        0.175806                    entropy                         20                                2                           200                         15  {'estimator__criterion': 'entropy', 'estimator__max_depth': 20, 'estimator__min_window_size': 2, 'estimator__n_estimators': 200, 'estimator__n_windows': 15}                1.0                1.0                1.0                1.0                1.0                1.0                1.0                1.0                1.0                0.0           -0.336134           -0.235294           -0.294118           -0.285714           -0.243697           -0.159664           -0.159664           -0.100840           -0.100840           -0.184874         0.344958        0.596718                7\n",
      "51     100.267277     74.888830         2.157887        0.289268                    entropy                         20                                2                           300                          5   {'estimator__criterion': 'entropy', 'estimator__max_depth': 20, 'estimator__min_window_size': 2, 'estimator__n_estimators': 300, 'estimator__n_windows': 5}                1.0                1.0                1.0                1.0                1.0                1.0                1.0                1.0                1.0                0.0           -0.310924           -0.285714           -0.352941           -0.285714           -0.285714           -0.218487           -0.235294           -0.142857           -0.151261           -0.184874         0.327311        0.612538               49\n",
      "52     134.468524    111.361978         2.273953        0.299918                    entropy                         20                                2                           300                         10  {'estimator__criterion': 'entropy', 'estimator__max_depth': 20, 'estimator__min_window_size': 2, 'estimator__n_estimators': 300, 'estimator__n_windows': 10}                1.0                1.0                1.0                1.0                1.0                1.0                1.0                1.0                1.0                0.0           -0.327731           -0.243697           -0.302521           -0.285714           -0.243697           -0.193277           -0.168067           -0.100840           -0.092437           -0.184874         0.342857        0.598615               13\n",
      "53     161.532576    139.451566         2.296263        0.788952                    entropy                         20                                2                           300                         15  {'estimator__criterion': 'entropy', 'estimator__max_depth': 20, 'estimator__min_window_size': 2, 'estimator__n_estimators': 300, 'estimator__n_windows': 15}                1.0                1.0                1.0                1.0                1.0                1.0                1.0                1.0                1.0                0.0           -0.336134           -0.235294           -0.294118           -0.285714           -0.243697           -0.168067           -0.159664           -0.100840           -0.100840           -0.176471         0.344958        0.596707                7\n"
     ]
    }
   ],
   "source": [
    "print(results_df.to_string())"
   ]
  },
  {
   "cell_type": "code",
   "execution_count": 363,
   "metadata": {},
   "outputs": [
    {
     "name": "stdout",
     "output_type": "stream",
     "text": [
      "Best Parameters: {'estimator__criterion': 'entropy', 'estimator__max_depth': 20, 'estimator__min_window_size': 1, 'estimator__n_estimators': 100, 'estimator__n_windows': 15}\n",
      "Best TSS: 0.35756302521008404\n"
     ]
    }
   ],
   "source": [
    "\n",
    "print(\"Best Parameters:\", grid_search.best_params_)\n",
    "print(\"Best TSS:\", grid_search.best_score_)\n"
   ]
  },
  {
   "cell_type": "code",
   "execution_count": 364,
   "metadata": {},
   "outputs": [
    {
     "data": {
      "text/plain": [
       "{'estimator__criterion': 'entropy',\n",
       " 'estimator__max_depth': 20,\n",
       " 'estimator__min_window_size': 1,\n",
       " 'estimator__n_estimators': 100,\n",
       " 'estimator__n_windows': 15}"
      ]
     },
     "execution_count": 364,
     "metadata": {},
     "output_type": "execute_result"
    }
   ],
   "source": [
    "grid_search.best_params_"
   ]
  },
  {
   "cell_type": "code",
   "execution_count": 365,
   "metadata": {},
   "outputs": [
    {
     "data": {
      "text/plain": [
       "0.35756302521008404"
      ]
     },
     "execution_count": 365,
     "metadata": {},
     "output_type": "execute_result"
    }
   ],
   "source": [
    "grid_search.best_score_"
   ]
  },
  {
   "cell_type": "code",
   "execution_count": 366,
   "metadata": {},
   "outputs": [
    {
     "data": {
      "image/png": "[encoded data removed]",
      "text/plain": [
       "<Figure size 1200x800 with 2 Axes>"
      ]
     },
     "metadata": {},
     "output_type": "display_data"
    }
   ],
   "source": [
    "heatmap_data = results_df[['param_estimator__criterion', 'param_estimator__max_depth',\n",
    "                            'param_estimator__min_window_size', 'param_estimator__n_estimators',\n",
    "                            'param_estimator__n_windows', 'mean_test_score']]\n",
    "\n",
    "\n",
    "heatmap_data_pivot = heatmap_data.pivot_table(index=['param_estimator__max_depth', 'param_estimator__n_estimators'],\n",
    "                                              columns=['param_estimator__min_window_size', 'param_estimator__n_windows'],\n",
    "                                              values='mean_test_score', aggfunc='mean')\n",
    "\n",
    "\n",
    "plt.figure(figsize=(12, 8))\n",
    "sns.heatmap(heatmap_data_pivot, annot=True, cmap='RdBu_r', fmt=\".3f\", vmin=-1, vmax=1, cbar_kws={'label': 'Mean TSS Score'})\n",
    "plt.title('TSS Score Across Parameter Combinations')\n",
    "plt.show()\n"
   ]
  },
  {
   "cell_type": "code",
   "execution_count": 367,
   "metadata": {},
   "outputs": [
    {
     "data": {
      "application/vnd.plotly.v1+json": {
       "config": {
        "plotlyServerURL": "https://plot.ly"
       },
       "data": [
        {
         "hoverinfo": "text",
         "marker": {
          "color": [
           0.3298319327731093,
           0.3344537815126051,
           0.3373949579831933,
           0.3298319327731093,
           0.33487394957983196,
           0.33865546218487397,
           0.3298319327731093,
           0.33529411764705885,
           0.33991596638655464,
           0.32268907563025206,
           0.3340336134453782,
           0.33487394957983196,
           0.32310924369747895,
           0.3331932773109244,
           0.33529411764705885,
           0.32352941176470584,
           0.3336134453781513,
           0.33529411764705885,
           0.3378151260504202,
           0.3365546218487395,
           0.353781512605042,
           0.3365546218487395,
           0.3373949579831933,
           0.35420168067226887,
           0.33571428571428574,
           0.3382352941176471,
           0.3554621848739496,
           0.32731092436974785,
           0.33907563025210086,
           0.3373949579831933,
           0.3285714285714285,
           0.33865546218487397,
           0.3378151260504202,
           0.3285714285714285,
           0.3378151260504202,
           0.3378151260504202,
           0.3411764705882353,
           0.34411764705882353,
           0.35756302521008404,
           0.3403361344537815,
           0.34369747899159664,
           0.35714285714285715,
           0.3411764705882353,
           0.34411764705882353,
           0.35714285714285715,
           0.3277310924369748,
           0.3420168067226891,
           0.34411764705882353,
           0.3273109243697479,
           0.34243697478991597,
           0.3449579831932773,
           0.3273109243697479,
           0.34285714285714286,
           0.3449579831932773
          ],
          "colorbar": {
           "title": {
            "text": "TSS"
           }
          },
          "colorscale": [
           [
            0,
            "#440154"
           ],
           [
            0.1111111111111111,
            "#482878"
           ],
           [
            0.2222222222222222,
            "#3e4989"
           ],
           [
            0.3333333333333333,
            "#31688e"
           ],
           [
            0.4444444444444444,
            "#26828e"
           ],
           [
            0.5555555555555556,
            "#1f9e89"
           ],
           [
            0.6666666666666666,
            "#35b779"
           ],
           [
            0.7777777777777778,
            "#6ece58"
           ],
           [
            0.8888888888888888,
            "#b5de2b"
           ],
           [
            1,
            "#fde725"
           ]
          ]
         },
         "mode": "markers",
         "text": [
          "N Windows: 5, N Estimators: 100, TSS: 0.3298319327731093",
          "N Windows: 10, N Estimators: 100, TSS: 0.3344537815126051",
          "N Windows: 15, N Estimators: 100, TSS: 0.3373949579831933",
          "N Windows: 5, N Estimators: 200, TSS: 0.3298319327731093",
          "N Windows: 10, N Estimators: 200, TSS: 0.33487394957983196",
          "N Windows: 15, N Estimators: 200, TSS: 0.33865546218487397",
          "N Windows: 5, N Estimators: 300, TSS: 0.3298319327731093",
          "N Windows: 10, N Estimators: 300, TSS: 0.33529411764705885",
          "N Windows: 15, N Estimators: 300, TSS: 0.33991596638655464",
          "N Windows: 5, N Estimators: 100, TSS: 0.32268907563025206",
          "N Windows: 10, N Estimators: 100, TSS: 0.3340336134453782",
          "N Windows: 15, N Estimators: 100, TSS: 0.33487394957983196",
          "N Windows: 5, N Estimators: 200, TSS: 0.32310924369747895",
          "N Windows: 10, N Estimators: 200, TSS: 0.3331932773109244",
          "N Windows: 15, N Estimators: 200, TSS: 0.33529411764705885",
          "N Windows: 5, N Estimators: 300, TSS: 0.32352941176470584",
          "N Windows: 10, N Estimators: 300, TSS: 0.3336134453781513",
          "N Windows: 15, N Estimators: 300, TSS: 0.33529411764705885",
          "N Windows: 5, N Estimators: 100, TSS: 0.3378151260504202",
          "N Windows: 10, N Estimators: 100, TSS: 0.3365546218487395",
          "N Windows: 15, N Estimators: 100, TSS: 0.353781512605042",
          "N Windows: 5, N Estimators: 200, TSS: 0.3365546218487395",
          "N Windows: 10, N Estimators: 200, TSS: 0.3373949579831933",
          "N Windows: 15, N Estimators: 200, TSS: 0.35420168067226887",
          "N Windows: 5, N Estimators: 300, TSS: 0.33571428571428574",
          "N Windows: 10, N Estimators: 300, TSS: 0.3382352941176471",
          "N Windows: 15, N Estimators: 300, TSS: 0.3554621848739496",
          "N Windows: 5, N Estimators: 100, TSS: 0.32731092436974785",
          "N Windows: 10, N Estimators: 100, TSS: 0.33907563025210086",
          "N Windows: 15, N Estimators: 100, TSS: 0.3373949579831933",
          "N Windows: 5, N Estimators: 200, TSS: 0.3285714285714285",
          "N Windows: 10, N Estimators: 200, TSS: 0.33865546218487397",
          "N Windows: 15, N Estimators: 200, TSS: 0.3378151260504202",
          "N Windows: 5, N Estimators: 300, TSS: 0.3285714285714285",
          "N Windows: 10, N Estimators: 300, TSS: 0.3378151260504202",
          "N Windows: 15, N Estimators: 300, TSS: 0.3378151260504202",
          "N Windows: 5, N Estimators: 100, TSS: 0.3411764705882353",
          "N Windows: 10, N Estimators: 100, TSS: 0.34411764705882353",
          "N Windows: 15, N Estimators: 100, TSS: 0.35756302521008404",
          "N Windows: 5, N Estimators: 200, TSS: 0.3403361344537815",
          "N Windows: 10, N Estimators: 200, TSS: 0.34369747899159664",
          "N Windows: 15, N Estimators: 200, TSS: 0.35714285714285715",
          "N Windows: 5, N Estimators: 300, TSS: 0.3411764705882353",
          "N Windows: 10, N Estimators: 300, TSS: 0.34411764705882353",
          "N Windows: 15, N Estimators: 300, TSS: 0.35714285714285715",
          "N Windows: 5, N Estimators: 100, TSS: 0.3277310924369748",
          "N Windows: 10, N Estimators: 100, TSS: 0.3420168067226891",
          "N Windows: 15, N Estimators: 100, TSS: 0.34411764705882353",
          "N Windows: 5, N Estimators: 200, TSS: 0.3273109243697479",
          "N Windows: 10, N Estimators: 200, TSS: 0.34243697478991597",
          "N Windows: 15, N Estimators: 200, TSS: 0.3449579831932773",
          "N Windows: 5, N Estimators: 300, TSS: 0.3273109243697479",
          "N Windows: 10, N Estimators: 300, TSS: 0.34285714285714286",
          "N Windows: 15, N Estimators: 300, TSS: 0.3449579831932773"
         ],
         "type": "scatter3d",
         "x": [
          5,
          10,
          15,
          5,
          10,
          15,
          5,
          10,
          15,
          5,
          10,
          15,
          5,
          10,
          15,
          5,
          10,
          15,
          5,
          10,
          15,
          5,
          10,
          15,
          5,
          10,
          15,
          5,
          10,
          15,
          5,
          10,
          15,
          5,
          10,
          15,
          5,
          10,
          15,
          5,
          10,
          15,
          5,
          10,
          15,
          5,
          10,
          15,
          5,
          10,
          15,
          5,
          10,
          15
         ],
         "y": [
          100,
          100,
          100,
          200,
          200,
          200,
          300,
          300,
          300,
          100,
          100,
          100,
          200,
          200,
          200,
          300,
          300,
          300,
          100,
          100,
          100,
          200,
          200,
          200,
          300,
          300,
          300,
          100,
          100,
          100,
          200,
          200,
          200,
          300,
          300,
          300,
          100,
          100,
          100,
          200,
          200,
          200,
          300,
          300,
          300,
          100,
          100,
          100,
          200,
          200,
          200,
          300,
          300,
          300
         ],
         "z": [
          0.3298319327731093,
          0.3344537815126051,
          0.3373949579831933,
          0.3298319327731093,
          0.33487394957983196,
          0.33865546218487397,
          0.3298319327731093,
          0.33529411764705885,
          0.33991596638655464,
          0.32268907563025206,
          0.3340336134453782,
          0.33487394957983196,
          0.32310924369747895,
          0.3331932773109244,
          0.33529411764705885,
          0.32352941176470584,
          0.3336134453781513,
          0.33529411764705885,
          0.3378151260504202,
          0.3365546218487395,
          0.353781512605042,
          0.3365546218487395,
          0.3373949579831933,
          0.35420168067226887,
          0.33571428571428574,
          0.3382352941176471,
          0.3554621848739496,
          0.32731092436974785,
          0.33907563025210086,
          0.3373949579831933,
          0.3285714285714285,
          0.33865546218487397,
          0.3378151260504202,
          0.3285714285714285,
          0.3378151260504202,
          0.3378151260504202,
          0.3411764705882353,
          0.34411764705882353,
          0.35756302521008404,
          0.3403361344537815,
          0.34369747899159664,
          0.35714285714285715,
          0.3411764705882353,
          0.34411764705882353,
          0.35714285714285715,
          0.3277310924369748,
          0.3420168067226891,
          0.34411764705882353,
          0.3273109243697479,
          0.34243697478991597,
          0.3449579831932773,
          0.3273109243697479,
          0.34285714285714286,
          0.3449579831932773
         ]
        }
       ],
       "layout": {
        "scene": {
         "xaxis": {
          "title": {
           "text": "N Windows"
          }
         },
         "yaxis": {
          "title": {
           "text": "N Estimators"
          }
         },
         "zaxis": {
          "title": {
           "text": "TSS"
          }
         }
        },
        "template": {
         "data": {
          "bar": [
           {
            "error_x": {
             "color": "#2a3f5f"
            },
            "error_y": {
             "color": "#2a3f5f"
            },
            "marker": {
             "line": {
              "color": "#E5ECF6",
              "width": 0.5
             },
             "pattern": {
              "fillmode": "overlay",
              "size": 10,
              "solidity": 0.2
             }
            },
            "type": "bar"
           }
          ],
          "barpolar": [
           {
            "marker": {
             "line": {
              "color": "#E5ECF6",
              "width": 0.5
             },
             "pattern": {
              "fillmode": "overlay",
              "size": 10,
              "solidity": 0.2
             }
            },
            "type": "barpolar"
           }
          ],
          "carpet": [
           {
            "aaxis": {
             "endlinecolor": "#2a3f5f",
             "gridcolor": "white",
             "linecolor": "white",
             "minorgridcolor": "white",
             "startlinecolor": "#2a3f5f"
            },
            "baxis": {
             "endlinecolor": "#2a3f5f",
             "gridcolor": "white",
             "linecolor": "white",
             "minorgridcolor": "white",
             "startlinecolor": "#2a3f5f"
            },
            "type": "carpet"
           }
          ],
          "choropleth": [
           {
            "colorbar": {
             "outlinewidth": 0,
             "ticks": ""
            },
            "type": "choropleth"
           }
          ],
          "contour": [
           {
            "colorbar": {
             "outlinewidth": 0,
             "ticks": ""
            },
            "colorscale": [
             [
              0,
              "#0d0887"
             ],
             [
              0.1111111111111111,
              "#46039f"
             ],
             [
              0.2222222222222222,
              "#7201a8"
             ],
             [
              0.3333333333333333,
              "#9c179e"
             ],
             [
              0.4444444444444444,
              "#bd3786"
             ],
             [
              0.5555555555555556,
              "#d8576b"
             ],
             [
              0.6666666666666666,
              "#ed7953"
             ],
             [
              0.7777777777777778,
              "#fb9f3a"
             ],
             [
              0.8888888888888888,
              "#fdca26"
             ],
             [
              1,
              "#f0f921"
             ]
            ],
            "type": "contour"
           }
          ],
          "contourcarpet": [
           {
            "colorbar": {
             "outlinewidth": 0,
             "ticks": ""
            },
            "type": "contourcarpet"
           }
          ],
          "heatmap": [
           {
            "colorbar": {
             "outlinewidth": 0,
             "ticks": ""
            },
            "colorscale": [
             [
              0,
              "#0d0887"
             ],
             [
              0.1111111111111111,
              "#46039f"
             ],
             [
              0.2222222222222222,
              "#7201a8"
             ],
             [
              0.3333333333333333,
              "#9c179e"
             ],
             [
              0.4444444444444444,
              "#bd3786"
             ],
             [
              0.5555555555555556,
              "#d8576b"
             ],
             [
              0.6666666666666666,
              "#ed7953"
             ],
             [
              0.7777777777777778,
              "#fb9f3a"
             ],
             [
              0.8888888888888888,
              "#fdca26"
             ],
             [
              1,
              "#f0f921"
             ]
            ],
            "type": "heatmap"
           }
          ],
          "heatmapgl": [
           {
            "colorbar": {
             "outlinewidth": 0,
             "ticks": ""
            },
            "colorscale": [
             [
              0,
              "#0d0887"
             ],
             [
              0.1111111111111111,
              "#46039f"
             ],
             [
              0.2222222222222222,
              "#7201a8"
             ],
             [
              0.3333333333333333,
              "#9c179e"
             ],
             [
              0.4444444444444444,
              "#bd3786"
             ],
             [
              0.5555555555555556,
              "#d8576b"
             ],
             [
              0.6666666666666666,
              "#ed7953"
             ],
             [
              0.7777777777777778,
              "#fb9f3a"
             ],
             [
              0.8888888888888888,
              "#fdca26"
             ],
             [
              1,
              "#f0f921"
             ]
            ],
            "type": "heatmapgl"
           }
          ],
          "histogram": [
           {
            "marker": {
             "pattern": {
              "fillmode": "overlay",
              "size": 10,
              "solidity": 0.2
             }
            },
            "type": "histogram"
           }
          ],
          "histogram2d": [
           {
            "colorbar": {
             "outlinewidth": 0,
             "ticks": ""
            },
            "colorscale": [
             [
              0,
              "#0d0887"
             ],
             [
              0.1111111111111111,
              "#46039f"
             ],
             [
              0.2222222222222222,
              "#7201a8"
             ],
             [
              0.3333333333333333,
              "#9c179e"
             ],
             [
              0.4444444444444444,
              "#bd3786"
             ],
             [
              0.5555555555555556,
              "#d8576b"
             ],
             [
              0.6666666666666666,
              "#ed7953"
             ],
             [
              0.7777777777777778,
              "#fb9f3a"
             ],
             [
              0.8888888888888888,
              "#fdca26"
             ],
             [
              1,
              "#f0f921"
             ]
            ],
            "type": "histogram2d"
           }
          ],
          "histogram2dcontour": [
           {
            "colorbar": {
             "outlinewidth": 0,
             "ticks": ""
            },
            "colorscale": [
             [
              0,
              "#0d0887"
             ],
             [
              0.1111111111111111,
              "#46039f"
             ],
             [
              0.2222222222222222,
              "#7201a8"
             ],
             [
              0.3333333333333333,
              "#9c179e"
             ],
             [
              0.4444444444444444,
              "#bd3786"
             ],
             [
              0.5555555555555556,
              "#d8576b"
             ],
             [
              0.6666666666666666,
              "#ed7953"
             ],
             [
              0.7777777777777778,
              "#fb9f3a"
             ],
             [
              0.8888888888888888,
              "#fdca26"
             ],
             [
              1,
              "#f0f921"
             ]
            ],
            "type": "histogram2dcontour"
           }
          ],
          "mesh3d": [
           {
            "colorbar": {
             "outlinewidth": 0,
             "ticks": ""
            },
            "type": "mesh3d"
           }
          ],
          "parcoords": [
           {
            "line": {
             "colorbar": {
              "outlinewidth": 0,
              "ticks": ""
             }
            },
            "type": "parcoords"
           }
          ],
          "pie": [
           {
            "automargin": true,
            "type": "pie"
           }
          ],
          "scatter": [
           {
            "fillpattern": {
             "fillmode": "overlay",
             "size": 10,
             "solidity": 0.2
            },
            "type": "scatter"
           }
          ],
          "scatter3d": [
           {
            "line": {
             "colorbar": {
              "outlinewidth": 0,
              "ticks": ""
             }
            },
            "marker": {
             "colorbar": {
              "outlinewidth": 0,
              "ticks": ""
             }
            },
            "type": "scatter3d"
           }
          ],
          "scattercarpet": [
           {
            "marker": {
             "colorbar": {
              "outlinewidth": 0,
              "ticks": ""
             }
            },
            "type": "scattercarpet"
           }
          ],
          "scattergeo": [
           {
            "marker": {
             "colorbar": {
              "outlinewidth": 0,
              "ticks": ""
             }
            },
            "type": "scattergeo"
           }
          ],
          "scattergl": [
           {
            "marker": {
             "colorbar": {
              "outlinewidth": 0,
              "ticks": ""
             }
            },
            "type": "scattergl"
           }
          ],
          "scattermapbox": [
           {
            "marker": {
             "colorbar": {
              "outlinewidth": 0,
              "ticks": ""
             }
            },
            "type": "scattermapbox"
           }
          ],
          "scatterpolar": [
           {
            "marker": {
             "colorbar": {
              "outlinewidth": 0,
              "ticks": ""
             }
            },
            "type": "scatterpolar"
           }
          ],
          "scatterpolargl": [
           {
            "marker": {
             "colorbar": {
              "outlinewidth": 0,
              "ticks": ""
             }
            },
            "type": "scatterpolargl"
           }
          ],
          "scatterternary": [
           {
            "marker": {
             "colorbar": {
              "outlinewidth": 0,
              "ticks": ""
             }
            },
            "type": "scatterternary"
           }
          ],
          "surface": [
           {
            "colorbar": {
             "outlinewidth": 0,
             "ticks": ""
            },
            "colorscale": [
             [
              0,
              "#0d0887"
             ],
             [
              0.1111111111111111,
              "#46039f"
             ],
             [
              0.2222222222222222,
              "#7201a8"
             ],
             [
              0.3333333333333333,
              "#9c179e"
             ],
             [
              0.4444444444444444,
              "#bd3786"
             ],
             [
              0.5555555555555556,
              "#d8576b"
             ],
             [
              0.6666666666666666,
              "#ed7953"
             ],
             [
              0.7777777777777778,
              "#fb9f3a"
             ],
             [
              0.8888888888888888,
              "#fdca26"
             ],
             [
              1,
              "#f0f921"
             ]
            ],
            "type": "surface"
           }
          ],
          "table": [
           {
            "cells": {
             "fill": {
              "color": "#EBF0F8"
             },
             "line": {
              "color": "white"
             }
            },
            "header": {
             "fill": {
              "color": "#C8D4E3"
             },
             "line": {
              "color": "white"
             }
            },
            "type": "table"
           }
          ]
         },
         "layout": {
          "annotationdefaults": {
           "arrowcolor": "#2a3f5f",
           "arrowhead": 0,
           "arrowwidth": 1
          },
          "autotypenumbers": "strict",
          "coloraxis": {
           "colorbar": {
            "outlinewidth": 0,
            "ticks": ""
           }
          },
          "colorscale": {
           "diverging": [
            [
             0,
             "#8e0152"
            ],
            [
             0.1,
             "#c51b7d"
            ],
            [
             0.2,
             "#de77ae"
            ],
            [
             0.3,
             "#f1b6da"
            ],
            [
             0.4,
             "#fde0ef"
            ],
            [
             0.5,
             "#f7f7f7"
            ],
            [
             0.6,
             "#e6f5d0"
            ],
            [
             0.7,
             "#b8e186"
            ],
            [
             0.8,
             "#7fbc41"
            ],
            [
             0.9,
             "#4d9221"
            ],
            [
             1,
             "#276419"
            ]
           ],
           "sequential": [
            [
             0,
             "#0d0887"
            ],
            [
             0.1111111111111111,
             "#46039f"
            ],
            [
             0.2222222222222222,
             "#7201a8"
            ],
            [
             0.3333333333333333,
             "#9c179e"
            ],
            [
             0.4444444444444444,
             "#bd3786"
            ],
            [
             0.5555555555555556,
             "#d8576b"
            ],
            [
             0.6666666666666666,
             "#ed7953"
            ],
            [
             0.7777777777777778,
             "#fb9f3a"
            ],
            [
             0.8888888888888888,
             "#fdca26"
            ],
            [
             1,
             "#f0f921"
            ]
           ],
           "sequentialminus": [
            [
             0,
             "#0d0887"
            ],
            [
             0.1111111111111111,
             "#46039f"
            ],
            [
             0.2222222222222222,
             "#7201a8"
            ],
            [
             0.3333333333333333,
             "#9c179e"
            ],
            [
             0.4444444444444444,
             "#bd3786"
            ],
            [
             0.5555555555555556,
             "#d8576b"
            ],
            [
             0.6666666666666666,
             "#ed7953"
            ],
            [
             0.7777777777777778,
             "#fb9f3a"
            ],
            [
             0.8888888888888888,
             "#fdca26"
            ],
            [
             1,
             "#f0f921"
            ]
           ]
          },
          "colorway": [
           "#636efa",
           "#EF553B",
           "#00cc96",
           "#ab63fa",
           "#FFA15A",
           "#19d3f3",
           "#FF6692",
           "#B6E880",
           "#FF97FF",
           "#FECB52"
          ],
          "font": {
           "color": "#2a3f5f"
          },
          "geo": {
           "bgcolor": "white",
           "lakecolor": "white",
           "landcolor": "#E5ECF6",
           "showlakes": true,
           "showland": true,
           "subunitcolor": "white"
          },
          "hoverlabel": {
           "align": "left"
          },
          "hovermode": "closest",
          "mapbox": {
           "style": "light"
          },
          "paper_bgcolor": "white",
          "plot_bgcolor": "#E5ECF6",
          "polar": {
           "angularaxis": {
            "gridcolor": "white",
            "linecolor": "white",
            "ticks": ""
           },
           "bgcolor": "#E5ECF6",
           "radialaxis": {
            "gridcolor": "white",
            "linecolor": "white",
            "ticks": ""
           }
          },
          "scene": {
           "xaxis": {
            "backgroundcolor": "#E5ECF6",
            "gridcolor": "white",
            "gridwidth": 2,
            "linecolor": "white",
            "showbackground": true,
            "ticks": "",
            "zerolinecolor": "white"
           },
           "yaxis": {
            "backgroundcolor": "#E5ECF6",
            "gridcolor": "white",
            "gridwidth": 2,
            "linecolor": "white",
            "showbackground": true,
            "ticks": "",
            "zerolinecolor": "white"
           },
           "zaxis": {
            "backgroundcolor": "#E5ECF6",
            "gridcolor": "white",
            "gridwidth": 2,
            "linecolor": "white",
            "showbackground": true,
            "ticks": "",
            "zerolinecolor": "white"
           }
          },
          "shapedefaults": {
           "line": {
            "color": "#2a3f5f"
           }
          },
          "ternary": {
           "aaxis": {
            "gridcolor": "white",
            "linecolor": "white",
            "ticks": ""
           },
           "baxis": {
            "gridcolor": "white",
            "linecolor": "white",
            "ticks": ""
           },
           "bgcolor": "#E5ECF6",
           "caxis": {
            "gridcolor": "white",
            "linecolor": "white",
            "ticks": ""
           }
          },
          "title": {
           "x": 0.05
          },
          "xaxis": {
           "automargin": true,
           "gridcolor": "white",
           "linecolor": "white",
           "ticks": "",
           "title": {
            "standoff": 15
           },
           "zerolinecolor": "white",
           "zerolinewidth": 2
          },
          "yaxis": {
           "automargin": true,
           "gridcolor": "white",
           "linecolor": "white",
           "ticks": "",
           "title": {
            "standoff": 15
           },
           "zerolinecolor": "white",
           "zerolinewidth": 2
          }
         }
        }
       }
      }
     },
     "metadata": {},
     "output_type": "display_data"
    }
   ],
   "source": [
    "param_combinations = grid_search.cv_results_['params']\n",
    "tss_values = grid_search.cv_results_['mean_test_score']\n",
    "\n",
    "n_windows_values = [comb['estimator__n_windows'] for comb in param_combinations]\n",
    "n_estimators_values = [comb['estimator__n_estimators'] for comb in param_combinations]\n",
    "\n",
    "labels = [f\"N Windows: {n_windows}, N Estimators: {n_estimators}, TSS: {tss}\" \n",
    "          for n_windows, n_estimators, tss in zip(n_windows_values, n_estimators_values, tss_values)]\n",
    "\n",
    "fig = go.Figure(data=[go.Scatter3d(x=n_windows_values, y=n_estimators_values, z=tss_values, mode='markers',\n",
    "                                   marker=dict(color=tss_values, colorscale='Viridis', colorbar=dict(title='TSS')),\n",
    "                                   text=labels, hoverinfo='text')])\n",
    "\n",
    "fig.update_layout(scene=dict(xaxis_title='N Windows', yaxis_title='N Estimators', zaxis_title='TSS'))\n",
    "\n",
    "fig.show()"
   ]
  },
  {
   "cell_type": "code",
   "execution_count": 88,
   "metadata": {},
   "outputs": [],
   "source": [
    "def hss_score(y_true, y_pred):\n",
    "    cm = confusion_matrix(y_true, y_pred)\n",
    "    TN, FP, FN, TP = cm.ravel()\n",
    "    P = TP + FN\n",
    "    N = FP + TN\n",
    "    return (2 * ((TP * TN) - (FN * FP))) / ( (P * (FN + TN)) + (N * (TP + FP)) )"
   ]
  },
  {
   "cell_type": "code",
   "execution_count": 94,
   "metadata": {},
   "outputs": [
    {
     "name": "stdout",
     "output_type": "stream",
     "text": [
      "Parameters: {'n_estimators': 100, 'n_windows': 5, 'max_depth': None}\n",
      "TSS score: 0.744\n",
      "HSS score: 0.139\n",
      "\n",
      "Parameters: {'n_estimators': 200, 'n_windows': 5, 'max_depth': None}\n",
      "TSS score: 0.740\n",
      "HSS score: 0.138\n",
      "\n",
      "Parameters: {'n_estimators': 300, 'n_windows': 5, 'max_depth': None}\n",
      "TSS score: 0.743\n",
      "HSS score: 0.138\n",
      "\n"
     ]
    }
   ],
   "source": [
    "n_estimators_values = [100, 200, 300]\n",
    "n_windows_values = [5]\n",
    "max_depth_values = [None]\n",
    "\n",
    "results = {\"params\": [], \"tss_scores\": [], \"hss_scores\": []}\n",
    "\n",
    "for n_estimators in n_estimators_values:\n",
    "    for n_windows in n_windows_values:\n",
    "        for max_depth in max_depth_values:\n",
    "            clf = MultivariateClassifier(estimator=TimeSeriesForest(\n",
    "                n_estimators=n_estimators, n_windows=n_windows, max_depth=max_depth,random_state=53\n",
    "            ))\n",
    "            clf.fit(X_train, y_train)\n",
    "            y_pred = clf.predict(X_test)\n",
    "            tss = tss_score(y_test, y_pred)\n",
    "            hss = hss_score(y_test, y_pred)\n",
    "            results[\"params\"].append({\n",
    "                \"n_estimators\": n_estimators,\n",
    "                \"n_windows\": n_windows,\n",
    "                \"max_depth\": max_depth\n",
    "            })\n",
    "            results[\"tss_scores\"].append(tss)\n",
    "            results[\"hss_scores\"].append(hss)\n",
    "            print(f\"Parameters: {results['params'][-1]}\")\n",
    "            print(f\"TSS score: {tss:.3f}\") \n",
    "            print(f\"HSS score: {hss:.3f}\\n\")"
   ]
  },
  {
   "cell_type": "code",
   "execution_count": null,
   "metadata": {},
   "outputs": [],
   "source": []
  },
  {
   "cell_type": "code",
   "execution_count": null,
   "metadata": {},
   "outputs": [],
   "source": []
  },
  {
   "cell_type": "code",
   "execution_count": null,
   "metadata": {},
   "outputs": [],
   "source": []
  },
  {
   "cell_type": "code",
   "execution_count": null,
   "metadata": {},
   "outputs": [],
   "source": []
  }
 ],
 "metadata": {
  "kernelspec": {
   "display_name": "base",
   "language": "python",
   "name": "python3"
  },
  "language_info": {
   "codemirror_mode": {
    "name": "ipython",
    "version": 3
   },
   "file_extension": ".py",
   "mimetype": "text/x-python",
   "name": "python",
   "nbconvert_exporter": "python",
   "pygments_lexer": "ipython3",
   "version": "3.11.4"
  },
  "orig_nbformat": 4
 },
 "nbformat": 4,
 "nbformat_minor": 2
}
